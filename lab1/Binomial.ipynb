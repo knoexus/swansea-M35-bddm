{
 "cells": [
  {
   "cell_type": "code",
   "execution_count": 101,
   "id": "infectious-sandwich",
   "metadata": {},
   "outputs": [],
   "source": [
    "from matplotlib import pyplot as plt\n",
    "import numpy as np\n",
    "import math\n",
    "import random"
   ]
  },
  {
   "cell_type": "code",
   "execution_count": 102,
   "id": "effective-reflection",
   "metadata": {},
   "outputs": [],
   "source": [
    "def binominal_single(p):\n",
    "    if p < 0 or p > 1:\n",
    "        return\n",
    "    size = 10\n",
    "    a = [0 if x > size * p else 1 for x in range(1, size + 1)]\n",
    "    random.shuffle(a)\n",
    "    return random.choice(a)\n",
    "\n",
    "def binomial_game(n, p):\n",
    "    return [binominal_single(p) for x in range(n)].count(1)"
   ]
  },
  {
   "cell_type": "code",
   "execution_count": 103,
   "id": "discrete-communications",
   "metadata": {},
   "outputs": [
    {
     "name": "stdout",
     "output_type": "stream",
     "text": [
      "74\n"
     ]
    }
   ],
   "source": [
    "rate = 0.7\n",
    "trials_in_one_game = 100\n",
    "print(binomial_game(trials_in_one_game, rate))"
   ]
  },
  {
   "cell_type": "code",
   "execution_count": 108,
   "id": "accepted-thanksgiving",
   "metadata": {},
   "outputs": [
    {
     "data": {
      "text/plain": [
       "(array([1.000e+00, 3.000e+00, 8.000e+00, 1.600e+01, 3.000e+01, 5.600e+01,\n",
       "        9.500e+01, 1.600e+02, 2.850e+02, 3.840e+02, 7.100e+02, 9.470e+02,\n",
       "        1.359e+03, 1.811e+03, 2.376e+03, 2.796e+03, 3.387e+03, 3.880e+03,\n",
       "        4.140e+03, 4.356e+03, 4.415e+03, 4.007e+03, 3.505e+03, 3.047e+03,\n",
       "        2.381e+03, 2.011e+03, 1.397e+03, 9.390e+02, 6.500e+02, 3.740e+02,\n",
       "        2.390e+02, 1.200e+02, 5.000e+01, 3.500e+01, 1.800e+01, 1.200e+01]),\n",
       " array([51., 52., 53., 54., 55., 56., 57., 58., 59., 60., 61., 62., 63.,\n",
       "        64., 65., 66., 67., 68., 69., 70., 71., 72., 73., 74., 75., 76.,\n",
       "        77., 78., 79., 80., 81., 82., 83., 84., 85., 86., 87.]),\n",
       " <BarContainer object of 36 artists>)"
      ]
     },
     "execution_count": 108,
     "metadata": {},
     "output_type": "execute_result"
    },
    {
     "data": {
      "image/png": "[encoded data removed]",
      "text/plain": [
       "<Figure size 432x288 with 1 Axes>"
      ]
     },
     "metadata": {
      "needs_background": "light"
     },
     "output_type": "display_data"
    }
   ],
   "source": [
    "trial_count = 50000\n",
    "trials = []\n",
    "for i in range (trial_count):\n",
    "    trials.append(binomial_game(trials_in_one_game, rate))\n",
    "\n",
    "n = math.ceil(max(trials) - min(trials))\n",
    "plt.hist(trials, bins = n)"
   ]
  },
  {
   "cell_type": "code",
   "execution_count": null,
   "id": "efficient-vertex",
   "metadata": {},
   "outputs": [],
   "source": []
  }
 ],
 "metadata": {
  "kernelspec": {
   "display_name": "Python 3",
   "language": "python",
   "name": "python3"
  },
  "language_info": {
   "codemirror_mode": {
    "name": "ipython",
    "version": 3
   },
   "file_extension": ".py",
   "mimetype": "text/x-python",
   "name": "python",
   "nbconvert_exporter": "python",
   "pygments_lexer": "ipython3",
   "version": "3.8.5"
  }
 },
 "nbformat": 4,
 "nbformat_minor": 5
}
