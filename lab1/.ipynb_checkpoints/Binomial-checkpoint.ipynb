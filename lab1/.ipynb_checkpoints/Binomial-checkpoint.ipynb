{
 "cells": [
  {
   "cell_type": "code",
   "execution_count": 55,
   "id": "decreased-philip",
   "metadata": {},
   "outputs": [],
   "source": [
    "from matplotlib import pyplot as plt\n",
    "import numpy as np\n",
    "import math\n",
    "import random"
   ]
  },
  {
   "cell_type": "markdown",
   "id": "primary-grammar",
   "metadata": {},
   "source": [
    "## Task 1.5"
   ]
  },
  {
   "cell_type": "code",
   "execution_count": 56,
   "id": "negative-rebel",
   "metadata": {},
   "outputs": [],
   "source": [
    "def binominal_single(lst):\n",
    "    random.shuffle(lst)\n",
    "    return random.choice(lst)\n",
    "\n",
    "def binomial_game(n, lst):\n",
    "    one_count = 0\n",
    "    for i in range(n):\n",
    "        if binominal_single(lst) == 1:\n",
    "            one_count += 1\n",
    "    return one_count\n",
    "\n",
    "    ### less efficient but shorter\n",
    "    # return[binominal_single(lst) for x in range(n)].count(1)"
   ]
  },
  {
   "cell_type": "code",
   "execution_count": 57,
   "id": "monetary-scene",
   "metadata": {},
   "outputs": [],
   "source": [
    "rate = 0.7\n",
    "box_size = 10\n",
    "trials_in_one_game = 100\n",
    "a = [0 if x > box_size * rate else 1 for x in range(1, box_size + 1)]"
   ]
  },
  {
   "cell_type": "code",
   "execution_count": 58,
   "id": "built-installation",
   "metadata": {},
   "outputs": [
    {
     "name": "stdout",
     "output_type": "stream",
     "text": [
      "71\n"
     ]
    }
   ],
   "source": [
    "print(binomial_game(trials_in_one_game, a))"
   ]
  },
  {
   "cell_type": "code",
   "execution_count": 59,
   "id": "standard-stephen",
   "metadata": {},
   "outputs": [
    {
     "data": {
      "text/plain": [
       "(array([2.000e+00, 3.000e+00, 4.000e+00, 1.400e+01, 1.800e+01, 5.100e+01,\n",
       "        9.600e+01, 1.470e+02, 2.370e+02, 4.100e+02, 6.810e+02, 9.800e+02,\n",
       "        1.294e+03, 1.774e+03, 2.264e+03, 2.789e+03, 3.401e+03, 3.933e+03,\n",
       "        4.170e+03, 4.272e+03, 4.376e+03, 4.148e+03, 3.586e+03, 3.023e+03,\n",
       "        2.481e+03, 1.910e+03, 1.463e+03, 9.940e+02, 6.580e+02, 3.740e+02,\n",
       "        2.170e+02, 1.220e+02, 5.800e+01, 3.100e+01, 1.400e+01, 5.000e+00]),\n",
       " array([51., 52., 53., 54., 55., 56., 57., 58., 59., 60., 61., 62., 63.,\n",
       "        64., 65., 66., 67., 68., 69., 70., 71., 72., 73., 74., 75., 76.,\n",
       "        77., 78., 79., 80., 81., 82., 83., 84., 85., 86., 87.]),\n",
       " <BarContainer object of 36 artists>)"
      ]
     },
     "execution_count": 59,
     "metadata": {},
     "output_type": "execute_result"
    },
    {
     "data": {
      "image/png": "[encoded data removed]",
      "text/plain": [
       "<Figure size 432x288 with 1 Axes>"
      ]
     },
     "metadata": {
      "needs_background": "light"
     },
     "output_type": "display_data"
    }
   ],
   "source": [
    "trial_count = 50000\n",
    "trials = [binomial_game(trials_in_one_game, a) for i in range(trial_count)]\n",
    "plt.title('Binomial distribution example')\n",
    "## smaller binning\n",
    "plt.hist(trials, bins = math.ceil(max(trials) - min(trials)))"
   ]
  },
  {
   "cell_type": "code",
   "execution_count": null,
   "id": "biological-failing",
   "metadata": {},
   "outputs": [],
   "source": []
  }
 ],
 "metadata": {
  "kernelspec": {
   "display_name": "Python 3",
   "language": "python",
   "name": "python3"
  },
  "language_info": {
   "codemirror_mode": {
    "name": "ipython",
    "version": 3
   },
   "file_extension": ".py",
   "mimetype": "text/x-python",
   "name": "python",
   "nbconvert_exporter": "python",
   "pygments_lexer": "ipython3",
   "version": "3.8.5"
  }
 },
 "nbformat": 4,
 "nbformat_minor": 5
}
