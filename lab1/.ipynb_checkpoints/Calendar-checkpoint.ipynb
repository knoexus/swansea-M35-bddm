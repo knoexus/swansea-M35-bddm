{
 "cells": [
  {
   "cell_type": "markdown",
   "metadata": {},
   "source": [
    "## 2023638 | Anton Dementyev | Lab Assignment 1"
   ]
  },
  {
   "cell_type": "code",
   "execution_count": 128,
   "metadata": {},
   "outputs": [],
   "source": [
    "import math"
   ]
  },
  {
   "cell_type": "markdown",
   "metadata": {},
   "source": [
    "## Task 1.1"
   ]
  },
  {
   "cell_type": "code",
   "execution_count": 129,
   "metadata": {},
   "outputs": [],
   "source": [
    "def is_leap_or_common_year(year):\n",
    "    c = \"common\"\n",
    "    if (year % 4 == 0 and year % 100 != 0) or (year % 400 == 0 and year % 3200 != 0):\n",
    "        c = \"leap\"\n",
    "    return c"
   ]
  },
  {
   "cell_type": "markdown",
   "metadata": {},
   "source": [
    "#### Testing"
   ]
  },
  {
   "cell_type": "code",
   "execution_count": 130,
   "metadata": {},
   "outputs": [
    {
     "name": "stdout",
     "output_type": "stream",
     "text": [
      "1990 is common\n",
      "1991 is common\n",
      "1992 is leap\n",
      "1993 is common\n",
      "1994 is common\n",
      "1995 is common\n",
      "1996 is leap\n",
      "1997 is common\n",
      "1998 is common\n",
      "1999 is common\n",
      "2000 is leap\n",
      "2001 is common\n",
      "2002 is common\n",
      "2003 is common\n",
      "2004 is leap\n",
      "2005 is common\n",
      "2006 is common\n",
      "2007 is common\n",
      "2008 is leap\n",
      "2009 is common\n",
      "2010 is common\n",
      "2011 is common\n",
      "2012 is leap\n",
      "2013 is common\n",
      "2014 is common\n",
      "2015 is common\n",
      "2016 is leap\n",
      "2017 is common\n",
      "2018 is common\n",
      "2019 is common\n",
      "2020 is leap\n"
     ]
    }
   ],
   "source": [
    "for year in range(1990, 2021):\n",
    "    print(f'{year} is {is_leap_or_common_year(year)}')"
   ]
  },
  {
   "cell_type": "markdown",
   "metadata": {},
   "source": [
    "## Task 1.2"
   ]
  },
  {
   "cell_type": "code",
   "execution_count": 131,
   "metadata": {},
   "outputs": [],
   "source": [
    "def iso_month_year(month, year):\n",
    "    if month == 1 or month == 2:\n",
    "        return (month + 12, year - 1)\n",
    "    return (month, year)\n",
    "\n",
    "def iso_day_of_week(year, month, day):\n",
    "    q = day\n",
    "    (m, y) = iso_month_year(month, year)\n",
    "    K = y % 100\n",
    "    J = math.floor(y / 100)\n",
    "    h = (q + math.floor(13 * (m + 1) / 5) + K + math.floor(K / 4) + math.floor(J / 4) - 2*J) % 7\n",
    "    return ((h + 5) % 7) + 1"
   ]
  },
  {
   "cell_type": "markdown",
   "metadata": {},
   "source": [
    "#### Testing"
   ]
  },
  {
   "cell_type": "code",
   "execution_count": 132,
   "metadata": {},
   "outputs": [
    {
     "name": "stdout",
     "output_type": "stream",
     "text": [
      "2\n"
     ]
    }
   ],
   "source": [
    "print(iso_day_of_week(2019, 2, 5))"
   ]
  },
  {
   "cell_type": "code",
   "execution_count": 133,
   "metadata": {},
   "outputs": [
    {
     "name": "stdout",
     "output_type": "stream",
     "text": [
      "5\n"
     ]
    }
   ],
   "source": [
    "print(iso_day_of_week(2021, 2, 5))"
   ]
  },
  {
   "cell_type": "code",
   "execution_count": 134,
   "metadata": {},
   "outputs": [
    {
     "name": "stdout",
     "output_type": "stream",
     "text": [
      "1\n"
     ]
    }
   ],
   "source": [
    "print(iso_day_of_week(2019, 12, 30))"
   ]
  },
  {
   "cell_type": "markdown",
   "metadata": {},
   "source": [
    "## Task 1.3"
   ]
  },
  {
   "cell_type": "code",
   "execution_count": 135,
   "metadata": {},
   "outputs": [],
   "source": [
    "months = {\n",
    "    1: 'Jan',\n",
    "    2: 'Feb',\n",
    "    3: 'Mar',\n",
    "    4: 'Apr',\n",
    "    5: 'May',\n",
    "    6: 'Jun',\n",
    "    7: 'Jul',\n",
    "    8: 'Aug',\n",
    "    9: 'Sep',\n",
    "    10: 'Oct',\n",
    "    11: 'Nov',\n",
    "    12: 'Dec'\n",
    "}\n",
    "\n",
    "days = {\n",
    "    1: 'Mon',\n",
    "    2: 'Tue',\n",
    "    3: 'Wed',\n",
    "    4: 'Thu',\n",
    "    5: 'Fri',\n",
    "    6: 'Sat',\n",
    "    7: 'Sun'\n",
    "}"
   ]
  },
  {
   "cell_type": "code",
   "execution_count": 136,
   "metadata": {},
   "outputs": [],
   "source": [
    "## formating one-digit days\n",
    "def day_full_number(day):\n",
    "    if day < 10:\n",
    "        return \"0\" + str(day)\n",
    "    return str(day)\n",
    "\n",
    "## counting days in a month\n",
    "def days_count(year, month):\n",
    "    if month > 12: \n",
    "        return\n",
    "    if month == 2:\n",
    "        return 29 if is_leap_or_common_year(year) == \"leap\" else 28 \n",
    "    if month in [4, 6, 9, 11]:\n",
    "        return 30\n",
    "    return 31\n",
    "\n",
    "def output_calendar(year, month):\n",
    "    print(' ' * 12 + f'{months[month]} {year}')\n",
    "    print(*[str(x) + \" \" for x in days.values()])\n",
    "    days_list = [x for x in range (1, days_count(year, month) + 1)]\n",
    "    for x in days_list: \n",
    "        day_of_week = iso_day_of_week(year, month, x)\n",
    "        if x == 1: \n",
    "            print('\\n' + f\"{' ' * (day_of_week - 1) * 5} {day_full_number(x)}\", end=\" \")\n",
    "            continue\n",
    "        if day_of_week > 1:\n",
    "            print(f'  {day_full_number(x)}', end=\" \")\n",
    "        else:\n",
    "            print('\\n' * 2  + f' {day_full_number(x)}', end=\" \")"
   ]
  },
  {
   "cell_type": "markdown",
   "metadata": {},
   "source": [
    "#### Testing"
   ]
  },
  {
   "cell_type": "code",
   "execution_count": 137,
   "metadata": {},
   "outputs": [
    {
     "name": "stdout",
     "output_type": "stream",
     "text": [
      "            Feb 2016\n",
      "Mon  Tue  Wed  Thu  Fri  Sat  Sun \n",
      "\n",
      " 01   02   03   04   05   06   07 \n",
      "\n",
      " 08   09   10   11   12   13   14 \n",
      "\n",
      " 15   16   17   18   19   20   21 \n",
      "\n",
      " 22   23   24   25   26   27   28 \n",
      "\n",
      " 29 "
     ]
    }
   ],
   "source": [
    "output_calendar(2016, 2)"
   ]
  },
  {
   "cell_type": "code",
   "execution_count": 138,
   "metadata": {},
   "outputs": [
    {
     "name": "stdout",
     "output_type": "stream",
     "text": [
      "            Feb 2019\n",
      "Mon  Tue  Wed  Thu  Fri  Sat  Sun \n",
      "\n",
      "                     01   02   03 \n",
      "\n",
      " 04   05   06   07   08   09   10 \n",
      "\n",
      " 11   12   13   14   15   16   17 \n",
      "\n",
      " 18   19   20   21   22   23   24 \n",
      "\n",
      " 25   26   27   28 "
     ]
    }
   ],
   "source": [
    "output_calendar(2019, 2)"
   ]
  },
  {
   "cell_type": "code",
   "execution_count": 139,
   "metadata": {},
   "outputs": [
    {
     "name": "stdout",
     "output_type": "stream",
     "text": [
      "            Feb 2021\n",
      "Mon  Tue  Wed  Thu  Fri  Sat  Sun \n",
      "\n",
      " 01   02   03   04   05   06   07 \n",
      "\n",
      " 08   09   10   11   12   13   14 \n",
      "\n",
      " 15   16   17   18   19   20   21 \n",
      "\n",
      " 22   23   24   25   26   27   28 "
     ]
    }
   ],
   "source": [
    "output_calendar(2021, 2)"
   ]
  },
  {
   "cell_type": "code",
   "execution_count": 140,
   "metadata": {},
   "outputs": [
    {
     "name": "stdout",
     "output_type": "stream",
     "text": [
      "            Dec 2019\n",
      "Mon  Tue  Wed  Thu  Fri  Sat  Sun \n",
      "\n",
      "                               01 \n",
      "\n",
      " 02   03   04   05   06   07   08 \n",
      "\n",
      " 09   10   11   12   13   14   15 \n",
      "\n",
      " 16   17   18   19   20   21   22 \n",
      "\n",
      " 23   24   25   26   27   28   29 \n",
      "\n",
      " 30   31 "
     ]
    }
   ],
   "source": [
    "output_calendar(2019, 12)"
   ]
  },
  {
   "cell_type": "code",
   "execution_count": 141,
   "metadata": {},
   "outputs": [
    {
     "name": "stdout",
     "output_type": "stream",
     "text": [
      "            Dec 2020\n",
      "Mon  Tue  Wed  Thu  Fri  Sat  Sun \n",
      "\n",
      "      01   02   03   04   05   06 \n",
      "\n",
      " 07   08   09   10   11   12   13 \n",
      "\n",
      " 14   15   16   17   18   19   20 \n",
      "\n",
      " 21   22   23   24   25   26   27 \n",
      "\n",
      " 28   29   30   31 "
     ]
    }
   ],
   "source": [
    "output_calendar(2020, 12)"
   ]
  },
  {
   "cell_type": "code",
   "execution_count": 142,
   "metadata": {},
   "outputs": [
    {
     "name": "stdout",
     "output_type": "stream",
     "text": [
      "            Jan 2021\n",
      "Mon  Tue  Wed  Thu  Fri  Sat  Sun \n",
      "\n",
      "                     01   02   03 \n",
      "\n",
      " 04   05   06   07   08   09   10 \n",
      "\n",
      " 11   12   13   14   15   16   17 \n",
      "\n",
      " 18   19   20   21   22   23   24 \n",
      "\n",
      " 25   26   27   28   29   30   31 "
     ]
    }
   ],
   "source": [
    "output_calendar(2021, 1)"
   ]
  },
  {
   "cell_type": "code",
   "execution_count": null,
   "metadata": {},
   "outputs": [],
   "source": []
  }
 ],
 "metadata": {
  "kernelspec": {
   "display_name": "Python 3",
   "language": "python",
   "name": "python3"
  },
  "language_info": {
   "codemirror_mode": {
    "name": "ipython",
    "version": 3
   },
   "file_extension": ".py",
   "mimetype": "text/x-python",
   "name": "python",
   "nbconvert_exporter": "python",
   "pygments_lexer": "ipython3",
   "version": "3.8.5"
  }
 },
 "nbformat": 4,
 "nbformat_minor": 4
}
