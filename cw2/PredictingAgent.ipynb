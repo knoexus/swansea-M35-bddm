{
 "cells": [
  {
   "cell_type": "code",
   "execution_count": 259,
   "id": "aggressive-programming",
   "metadata": {},
   "outputs": [],
   "source": [
    "import pandas as pd\n",
    "import numpy as np\n",
    "from matplotlib import pyplot as plt\n",
    "from tensorflow.keras.models import Sequential\n",
    "from tensorflow.keras.layers import (InputLayer, Dense, Flatten, Dropout)\n",
    "from tensorflow.keras.optimizers import Adam, SGD\n",
    "from tensorflow.keras.callbacks import ReduceLROnPlateau, EarlyStopping\n",
    "from tensorflow.keras.utils import to_categorical\n",
    "from sklearn.preprocessing import OneHotEncoder\n",
    "from sklearn.model_selection import train_test_split\n",
    "from sklearn.preprocessing import StandardScaler, MinMaxScaler\n",
    "from scipy import stats"
   ]
  },
  {
   "cell_type": "code",
   "execution_count": 260,
   "id": "duplicate-validity",
   "metadata": {},
   "outputs": [],
   "source": [
    "data = pd.read_csv('./Dataset/House_Price_Dataset.csv')"
   ]
  },
  {
   "cell_type": "code",
   "execution_count": 261,
   "id": "important-compromise",
   "metadata": {},
   "outputs": [],
   "source": [
    "data = data[~data['Price'].isnull()]"
   ]
  },
  {
   "cell_type": "code",
   "execution_count": 262,
   "id": "clear-toilet",
   "metadata": {},
   "outputs": [],
   "source": [
    "data['Rooms'] = (data.apply(lambda row: (row.Rooms + row.Rooms2) / 2  if row.Rooms2 else row.Rooms, axis=1))"
   ]
  },
  {
   "cell_type": "code",
   "execution_count": 263,
   "id": "middle-appreciation",
   "metadata": {},
   "outputs": [
    {
     "name": "stdout",
     "output_type": "stream",
     "text": [
      "<class 'pandas.core.frame.DataFrame'>\n",
      "Int64Index: 27247 entries, 1 to 34856\n",
      "Data columns (total 16 columns):\n",
      " #   Column         Non-Null Count  Dtype  \n",
      "---  ------         --------------  -----  \n",
      " 0   Suburb         27247 non-null  object \n",
      " 1   Rooms          20806 non-null  float64\n",
      " 2   Type           27247 non-null  object \n",
      " 3   Seller         27247 non-null  object \n",
      " 4   Distance       27246 non-null  float64\n",
      " 5   Postcode       27246 non-null  float64\n",
      " 6   Bathroom       20800 non-null  float64\n",
      " 7   Car            20423 non-null  float64\n",
      " 8   Landsize       17982 non-null  float64\n",
      " 9   BuildingArea   10656 non-null  float64\n",
      " 10  YearBuilt      12084 non-null  float64\n",
      " 11  CouncilArea    27244 non-null  object \n",
      " 12  Latitude       20993 non-null  float64\n",
      " 13  Longitude      20993 non-null  float64\n",
      " 14  RegionName     27244 non-null  object \n",
      " 15  PropertyCount  27244 non-null  float64\n",
      "dtypes: float64(11), object(5)\n",
      "memory usage: 3.5+ MB\n"
     ]
    }
   ],
   "source": [
    "data = data.drop(columns=['Date', 'Rooms2', 'Address', 'Price', 'Method'])\n",
    "data.info()"
   ]
  },
  {
   "cell_type": "code",
   "execution_count": 264,
   "id": "coordinate-russia",
   "metadata": {},
   "outputs": [],
   "source": [
    "data = data.drop(columns=['Postcode'])"
   ]
  },
  {
   "cell_type": "code",
   "execution_count": 265,
   "id": "noticed-biodiversity",
   "metadata": {},
   "outputs": [],
   "source": [
    "data = data[~data['Rooms'].isnull()]\n",
    "data = data[~data['Bathroom'].isnull()]\n",
    "data = data[~data['Latitude'].isnull()]\n",
    "data = data[~data['Longitude'].isnull()]"
   ]
  },
  {
   "cell_type": "markdown",
   "id": "heard-newark",
   "metadata": {},
   "source": [
    "## Hot Encoding"
   ]
  },
  {
   "cell_type": "code",
   "execution_count": 266,
   "id": "filled-mainstream",
   "metadata": {},
   "outputs": [],
   "source": [
    "def hot_encode(category, df):\n",
    "    ohe = OneHotEncoder()\n",
    "    category_col = ohe.fit_transform(df[category].astype(str).values.reshape(-1, 1)).toarray()\n",
    "    for i in range(len(category_col[0])):\n",
    "        arr = []\n",
    "        for x in category_col:\n",
    "            arr.append(x[i])\n",
    "        df[f'{category}{i}'] = arr"
   ]
  },
  {
   "cell_type": "code",
   "execution_count": 267,
   "id": "bound-official",
   "metadata": {},
   "outputs": [],
   "source": [
    "def hot_encode_many(fields, df):\n",
    "    for field in fields:\n",
    "        hot_encode(field, df)"
   ]
  },
  {
   "cell_type": "code",
   "execution_count": 268,
   "id": "comparative-designer",
   "metadata": {},
   "outputs": [],
   "source": [
    "hot_encodable_fields = ['Type', 'CouncilArea']\n",
    "hot_encode_many(hot_encodable_fields, data)"
   ]
  },
  {
   "cell_type": "code",
   "execution_count": 269,
   "id": "independent-arbor",
   "metadata": {},
   "outputs": [],
   "source": [
    "data = data.drop(columns=hot_encodable_fields+['Suburb', 'RegionName', 'BuildingArea'])"
   ]
  },
  {
   "cell_type": "code",
   "execution_count": 270,
   "id": "variable-looking",
   "metadata": {},
   "outputs": [],
   "source": [
    "data['Landsize'] = data['Landsize'].replace(['0', 0], np.nan)"
   ]
  },
  {
   "cell_type": "code",
   "execution_count": 271,
   "id": "tamil-certificate",
   "metadata": {},
   "outputs": [],
   "source": [
    "## get non-categorical column names\n",
    "\n",
    "def hasNumbers(inputString):\n",
    "    return any(char.isdigit() for char in inputString)\n",
    "\n",
    "def get_quantative(column_names):\n",
    "    for x in column_names:\n",
    "        if not hasNumbers(x):\n",
    "            yield x"
   ]
  },
  {
   "cell_type": "code",
   "execution_count": 272,
   "id": "adolescent-connectivity",
   "metadata": {},
   "outputs": [],
   "source": [
    "def fill_null_with_mean(df, columns, from_df):\n",
    "    if from_df is not None:\n",
    "        for name in columns:\n",
    "            df[name].fillna(from_df[name].mean(), inplace=True)\n",
    "    else:\n",
    "        for name in columns:\n",
    "            df[name].fillna(df[name].mean(), inplace=True)"
   ]
  },
  {
   "cell_type": "code",
   "execution_count": 273,
   "id": "fifteen-tiger",
   "metadata": {},
   "outputs": [
    {
     "data": {
      "text/plain": [
       "((20778, 45), (20778, 321))"
      ]
     },
     "execution_count": 273,
     "metadata": {},
     "output_type": "execute_result"
    }
   ],
   "source": [
    "Y = data['Seller']\n",
    "X = data.drop(columns=['Seller'])\n",
    "Y = pd.get_dummies(data.Seller)\n",
    "\n",
    "(X.shape, Y.shape)"
   ]
  },
  {
   "cell_type": "code",
   "execution_count": 274,
   "id": "excited-microphone",
   "metadata": {},
   "outputs": [],
   "source": [
    "quantative_columns = list(get_quantative(X.columns))"
   ]
  },
  {
   "cell_type": "code",
   "execution_count": 275,
   "id": "advanced-oregon",
   "metadata": {},
   "outputs": [],
   "source": [
    "X_train, X_test, y_train, y_test = train_test_split(X.to_numpy(), Y.to_numpy(), test_size=0.2, shuffle=False)"
   ]
  },
  {
   "cell_type": "code",
   "execution_count": 276,
   "id": "temporal-interview",
   "metadata": {},
   "outputs": [],
   "source": [
    "X_train = pd.DataFrame(data=X_train, columns=X.columns)\n",
    "fill_null_with_mean(X_train, quantative_columns, None)\n",
    "\n",
    "X_test = pd.DataFrame(data=X_test, columns=X.columns)\n",
    "fill_null_with_mean(X_test, quantative_columns, X_train)"
   ]
  },
  {
   "cell_type": "code",
   "execution_count": 277,
   "id": "personalized-turtle",
   "metadata": {},
   "outputs": [],
   "source": [
    "scaler_x = StandardScaler()\n",
    "x = scaler_x.fit_transform(X_train)"
   ]
  },
  {
   "cell_type": "code",
   "execution_count": 278,
   "id": "brilliant-delay",
   "metadata": {},
   "outputs": [],
   "source": [
    "X_scaled_test = scaler_x.transform(X_test)"
   ]
  },
  {
   "cell_type": "code",
   "execution_count": 279,
   "id": "realistic-manufacturer",
   "metadata": {},
   "outputs": [
    {
     "name": "stdout",
     "output_type": "stream",
     "text": [
      "(16622, 45)\n"
     ]
    }
   ],
   "source": [
    "print(x.shape)\n",
    "n = x.shape[1]"
   ]
  },
  {
   "cell_type": "code",
   "execution_count": 280,
   "id": "pointed-robinson",
   "metadata": {},
   "outputs": [],
   "source": [
    "def sample_match(pred, real, open_pred):\n",
    "    d = {'prediction': [x[0] for x in pred] if open_pred else pred, 'real': real}\n",
    "    return pd.DataFrame(data=d)"
   ]
  },
  {
   "cell_type": "code",
   "execution_count": 281,
   "id": "beautiful-encoding",
   "metadata": {},
   "outputs": [
    {
     "data": {
      "text/plain": [
       "((16622, 45), (16622, 321))"
      ]
     },
     "execution_count": 281,
     "metadata": {},
     "output_type": "execute_result"
    }
   ],
   "source": [
    "(x.shape, y_train.shape)"
   ]
  },
  {
   "cell_type": "markdown",
   "id": "official-residence",
   "metadata": {},
   "source": [
    "# ANN"
   ]
  },
  {
   "cell_type": "code",
   "execution_count": 282,
   "id": "differential-dutch",
   "metadata": {},
   "outputs": [],
   "source": [
    "model = Sequential()\n",
    "model.add(Dense(64, activation='relu', input_shape=(n,)))\n",
    "model.add(Dense(128, activation='relu'))\n",
    "model.add(Dense(356, activation='relu'))\n",
    "model.add(Dense(321, activation='softmax'))"
   ]
  },
  {
   "cell_type": "code",
   "execution_count": 283,
   "id": "noted-interim",
   "metadata": {},
   "outputs": [],
   "source": [
    "model.compile(optimizer=Adam(lr=0.00001), \n",
    "              loss='categorical_crossentropy', metrics=['accuracy'])"
   ]
  },
  {
   "cell_type": "code",
   "execution_count": 284,
   "id": "mysterious-yield",
   "metadata": {},
   "outputs": [],
   "source": [
    "reduce_lr = ReduceLROnPlateau(monitor=\"val_loss\", factor=0.2, patience=3, min_lr=0.00005)\n",
    "early_stopping = EarlyStopping(monitor=\"val_loss\", patience=7)\n",
    "history = model.fit(x, y_train, epochs=200, batch_size=64, validation_split=0.1, \n",
    "                  callbacks=[reduce_lr, early_stopping], verbose=0)"
   ]
  },
  {
   "cell_type": "code",
   "execution_count": 285,
   "id": "compressed-stick",
   "metadata": {},
   "outputs": [
    {
     "data": {
      "image/png": "[encoded data removed]",
      "text/plain": [
       "<Figure size 720x360 with 2 Axes>"
      ]
     },
     "metadata": {
      "needs_background": "light"
     },
     "output_type": "display_data"
    }
   ],
   "source": [
    "plt.figure(figsize=[10,5])\n",
    "plt.subplot(121)\n",
    "plt.plot(history.history['accuracy'])\n",
    "plt.plot(history.history['val_accuracy'])\n",
    "plt.xlabel('Epoch')\n",
    "plt.ylabel('Accuracy')\n",
    "plt.legend(['Training Accuracy',\n",
    "           'Validation Accuracy'])\n",
    "plt.title('Accuracy Curves')\n",
    "plt.subplot(122)\n",
    "plt.plot(history.history['loss'])\n",
    "plt.plot(history.history['val_loss'])\n",
    "plt.xlabel('Epoch')\n",
    "plt.ylabel('Loss')\n",
    "plt.legend(['Training Loss',\n",
    "           'Validation Loss'])\n",
    "plt.title('Loss Curves')\n",
    "plt.show()"
   ]
  },
  {
   "cell_type": "code",
   "execution_count": null,
   "id": "great-breathing",
   "metadata": {},
   "outputs": [],
   "source": []
  },
  {
   "cell_type": "code",
   "execution_count": null,
   "id": "static-kenya",
   "metadata": {},
   "outputs": [],
   "source": []
  }
 ],
 "metadata": {
  "kernelspec": {
   "display_name": "Python 3",
   "language": "python",
   "name": "python3"
  },
  "language_info": {
   "codemirror_mode": {
    "name": "ipython",
    "version": 3
   },
   "file_extension": ".py",
   "mimetype": "text/x-python",
   "name": "python",
   "nbconvert_exporter": "python",
   "pygments_lexer": "ipython3",
   "version": "3.8.5"
  }
 },
 "nbformat": 4,
 "nbformat_minor": 5
}
