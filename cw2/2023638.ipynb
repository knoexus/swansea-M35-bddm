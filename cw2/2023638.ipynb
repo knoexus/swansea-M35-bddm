{
 "cells": [
  {
   "cell_type": "code",
   "execution_count": 921,
   "id": "musical-battle",
   "metadata": {},
   "outputs": [],
   "source": [
    "import pandas as pd\n",
    "import numpy as np\n",
    "from tensorflow.keras.models import Sequential\n",
    "from tensorflow.keras.layers import (InputLayer, Dense, Flatten, Dropout)\n",
    "from tensorflow.keras.optimizers import Adam, SGD\n",
    "from tensorflow.keras.callbacks import ReduceLROnPlateau, EarlyStopping\n",
    "from matplotlib import pyplot as plt\n",
    "import seaborn as sbrn\n",
    "from sklearn.preprocessing import OneHotEncoder\n",
    "from sklearn.model_selection import train_test_split\n",
    "from sklearn.preprocessing import StandardScaler, MinMaxScaler\n",
    "from sklearn.metrics import r2_score\n",
    "from sklearn.svm import SVR\n",
    "from sklearn.model_selection import GridSearchCV"
   ]
  },
  {
   "cell_type": "code",
   "execution_count": 922,
   "id": "extensive-broadcasting",
   "metadata": {},
   "outputs": [],
   "source": [
    "data = pd.read_csv('House_Price_Dataset.csv')"
   ]
  },
  {
   "cell_type": "code",
   "execution_count": 923,
   "id": "facial-coast",
   "metadata": {},
   "outputs": [
    {
     "data": {
      "text/html": [
       "<div>\n",
       "<style scoped>\n",
       "    .dataframe tbody tr th:only-of-type {\n",
       "        vertical-align: middle;\n",
       "    }\n",
       "\n",
       "    .dataframe tbody tr th {\n",
       "        vertical-align: top;\n",
       "    }\n",
       "\n",
       "    .dataframe thead th {\n",
       "        text-align: right;\n",
       "    }\n",
       "</style>\n",
       "<table border=\"1\" class=\"dataframe\">\n",
       "  <thead>\n",
       "    <tr style=\"text-align: right;\">\n",
       "      <th></th>\n",
       "      <th>Suburb</th>\n",
       "      <th>Address</th>\n",
       "      <th>Rooms</th>\n",
       "      <th>Type</th>\n",
       "      <th>Price</th>\n",
       "      <th>Method</th>\n",
       "      <th>Seller</th>\n",
       "      <th>Date</th>\n",
       "      <th>Distance</th>\n",
       "      <th>Postcode</th>\n",
       "      <th>...</th>\n",
       "      <th>Bathroom</th>\n",
       "      <th>Car</th>\n",
       "      <th>Landsize</th>\n",
       "      <th>BuildingArea</th>\n",
       "      <th>YearBuilt</th>\n",
       "      <th>CouncilArea</th>\n",
       "      <th>Latitude</th>\n",
       "      <th>Longitude</th>\n",
       "      <th>RegionName</th>\n",
       "      <th>PropertyCount</th>\n",
       "    </tr>\n",
       "  </thead>\n",
       "  <tbody>\n",
       "    <tr>\n",
       "      <th>0</th>\n",
       "      <td>Abbotsford</td>\n",
       "      <td>68 Studley St</td>\n",
       "      <td>2</td>\n",
       "      <td>h</td>\n",
       "      <td>NaN</td>\n",
       "      <td>SS</td>\n",
       "      <td>Jellis</td>\n",
       "      <td>03/09/2016</td>\n",
       "      <td>2.5</td>\n",
       "      <td>3067.0</td>\n",
       "      <td>...</td>\n",
       "      <td>1.0</td>\n",
       "      <td>1.0</td>\n",
       "      <td>126.0</td>\n",
       "      <td>NaN</td>\n",
       "      <td>NaN</td>\n",
       "      <td>Yarra City Council</td>\n",
       "      <td>-37.8014</td>\n",
       "      <td>144.9958</td>\n",
       "      <td>Northern Metropolitan</td>\n",
       "      <td>4019.0</td>\n",
       "    </tr>\n",
       "    <tr>\n",
       "      <th>1</th>\n",
       "      <td>Abbotsford</td>\n",
       "      <td>85 Turner St</td>\n",
       "      <td>2</td>\n",
       "      <td>h</td>\n",
       "      <td>1480000.0</td>\n",
       "      <td>S</td>\n",
       "      <td>Biggin</td>\n",
       "      <td>03/12/2016</td>\n",
       "      <td>2.5</td>\n",
       "      <td>3067.0</td>\n",
       "      <td>...</td>\n",
       "      <td>1.0</td>\n",
       "      <td>1.0</td>\n",
       "      <td>202.0</td>\n",
       "      <td>NaN</td>\n",
       "      <td>NaN</td>\n",
       "      <td>Yarra City Council</td>\n",
       "      <td>-37.7996</td>\n",
       "      <td>144.9984</td>\n",
       "      <td>Northern Metropolitan</td>\n",
       "      <td>4019.0</td>\n",
       "    </tr>\n",
       "    <tr>\n",
       "      <th>2</th>\n",
       "      <td>Abbotsford</td>\n",
       "      <td>25 Bloomburg St</td>\n",
       "      <td>2</td>\n",
       "      <td>h</td>\n",
       "      <td>1035000.0</td>\n",
       "      <td>S</td>\n",
       "      <td>Biggin</td>\n",
       "      <td>04/02/2016</td>\n",
       "      <td>2.5</td>\n",
       "      <td>3067.0</td>\n",
       "      <td>...</td>\n",
       "      <td>1.0</td>\n",
       "      <td>0.0</td>\n",
       "      <td>156.0</td>\n",
       "      <td>79.0</td>\n",
       "      <td>1900.0</td>\n",
       "      <td>Yarra City Council</td>\n",
       "      <td>-37.8079</td>\n",
       "      <td>144.9934</td>\n",
       "      <td>Northern Metropolitan</td>\n",
       "      <td>4019.0</td>\n",
       "    </tr>\n",
       "    <tr>\n",
       "      <th>3</th>\n",
       "      <td>Abbotsford</td>\n",
       "      <td>18/659 Victoria St</td>\n",
       "      <td>3</td>\n",
       "      <td>u</td>\n",
       "      <td>NaN</td>\n",
       "      <td>VB</td>\n",
       "      <td>Rounds</td>\n",
       "      <td>04/02/2016</td>\n",
       "      <td>2.5</td>\n",
       "      <td>3067.0</td>\n",
       "      <td>...</td>\n",
       "      <td>2.0</td>\n",
       "      <td>1.0</td>\n",
       "      <td>0.0</td>\n",
       "      <td>NaN</td>\n",
       "      <td>NaN</td>\n",
       "      <td>Yarra City Council</td>\n",
       "      <td>-37.8114</td>\n",
       "      <td>145.0116</td>\n",
       "      <td>Northern Metropolitan</td>\n",
       "      <td>4019.0</td>\n",
       "    </tr>\n",
       "    <tr>\n",
       "      <th>4</th>\n",
       "      <td>Abbotsford</td>\n",
       "      <td>5 Charles St</td>\n",
       "      <td>3</td>\n",
       "      <td>h</td>\n",
       "      <td>1465000.0</td>\n",
       "      <td>SP</td>\n",
       "      <td>Biggin</td>\n",
       "      <td>04/03/2017</td>\n",
       "      <td>2.5</td>\n",
       "      <td>3067.0</td>\n",
       "      <td>...</td>\n",
       "      <td>2.0</td>\n",
       "      <td>0.0</td>\n",
       "      <td>134.0</td>\n",
       "      <td>150.0</td>\n",
       "      <td>1900.0</td>\n",
       "      <td>Yarra City Council</td>\n",
       "      <td>-37.8093</td>\n",
       "      <td>144.9944</td>\n",
       "      <td>Northern Metropolitan</td>\n",
       "      <td>4019.0</td>\n",
       "    </tr>\n",
       "  </tbody>\n",
       "</table>\n",
       "<p>5 rows × 21 columns</p>\n",
       "</div>"
      ],
      "text/plain": [
       "       Suburb             Address  Rooms Type      Price Method  Seller  \\\n",
       "0  Abbotsford       68 Studley St      2    h        NaN     SS  Jellis   \n",
       "1  Abbotsford        85 Turner St      2    h  1480000.0      S  Biggin   \n",
       "2  Abbotsford     25 Bloomburg St      2    h  1035000.0      S  Biggin   \n",
       "3  Abbotsford  18/659 Victoria St      3    u        NaN     VB  Rounds   \n",
       "4  Abbotsford        5 Charles St      3    h  1465000.0     SP  Biggin   \n",
       "\n",
       "         Date  Distance  Postcode  ...  Bathroom  Car  Landsize  BuildingArea  \\\n",
       "0  03/09/2016       2.5    3067.0  ...       1.0  1.0     126.0           NaN   \n",
       "1  03/12/2016       2.5    3067.0  ...       1.0  1.0     202.0           NaN   \n",
       "2  04/02/2016       2.5    3067.0  ...       1.0  0.0     156.0          79.0   \n",
       "3  04/02/2016       2.5    3067.0  ...       2.0  1.0       0.0           NaN   \n",
       "4  04/03/2017       2.5    3067.0  ...       2.0  0.0     134.0         150.0   \n",
       "\n",
       "   YearBuilt         CouncilArea Latitude  Longitude             RegionName  \\\n",
       "0        NaN  Yarra City Council -37.8014   144.9958  Northern Metropolitan   \n",
       "1        NaN  Yarra City Council -37.7996   144.9984  Northern Metropolitan   \n",
       "2     1900.0  Yarra City Council -37.8079   144.9934  Northern Metropolitan   \n",
       "3        NaN  Yarra City Council -37.8114   145.0116  Northern Metropolitan   \n",
       "4     1900.0  Yarra City Council -37.8093   144.9944  Northern Metropolitan   \n",
       "\n",
       "  PropertyCount  \n",
       "0        4019.0  \n",
       "1        4019.0  \n",
       "2        4019.0  \n",
       "3        4019.0  \n",
       "4        4019.0  \n",
       "\n",
       "[5 rows x 21 columns]"
      ]
     },
     "execution_count": 923,
     "metadata": {},
     "output_type": "execute_result"
    }
   ],
   "source": [
    "data.head()"
   ]
  },
  {
   "cell_type": "code",
   "execution_count": 924,
   "id": "satellite-disco",
   "metadata": {},
   "outputs": [],
   "source": [
    "data = data[~data['Price'].isnull()]"
   ]
  },
  {
   "cell_type": "code",
   "execution_count": 925,
   "id": "accomplished-ribbon",
   "metadata": {},
   "outputs": [
    {
     "name": "stdout",
     "output_type": "stream",
     "text": [
      "<class 'pandas.core.frame.DataFrame'>\n",
      "Int64Index: 27247 entries, 1 to 34856\n",
      "Data columns (total 21 columns):\n",
      " #   Column         Non-Null Count  Dtype  \n",
      "---  ------         --------------  -----  \n",
      " 0   Suburb         27247 non-null  object \n",
      " 1   Address        27247 non-null  object \n",
      " 2   Rooms          27247 non-null  int64  \n",
      " 3   Type           27247 non-null  object \n",
      " 4   Price          27247 non-null  float64\n",
      " 5   Method         27247 non-null  object \n",
      " 6   Seller         27247 non-null  object \n",
      " 7   Date           27247 non-null  object \n",
      " 8   Distance       27246 non-null  float64\n",
      " 9   Postcode       27246 non-null  float64\n",
      " 10  Rooms2         20806 non-null  float64\n",
      " 11  Bathroom       20800 non-null  float64\n",
      " 12  Car            20423 non-null  float64\n",
      " 13  Landsize       17982 non-null  float64\n",
      " 14  BuildingArea   10656 non-null  float64\n",
      " 15  YearBuilt      12084 non-null  float64\n",
      " 16  CouncilArea    27244 non-null  object \n",
      " 17  Latitude       20993 non-null  float64\n",
      " 18  Longitude      20993 non-null  float64\n",
      " 19  RegionName     27244 non-null  object \n",
      " 20  PropertyCount  27244 non-null  float64\n",
      "dtypes: float64(12), int64(1), object(8)\n",
      "memory usage: 4.6+ MB\n"
     ]
    }
   ],
   "source": [
    "data.info()"
   ]
  },
  {
   "cell_type": "code",
   "execution_count": 926,
   "id": "accessible-height",
   "metadata": {},
   "outputs": [],
   "source": [
    "data['Rooms'] = (data.apply(lambda row: (row.Rooms + row.Rooms2) / 2  if row.Rooms2 else row.Rooms, axis=1))"
   ]
  },
  {
   "cell_type": "code",
   "execution_count": 927,
   "id": "accompanied-defendant",
   "metadata": {},
   "outputs": [
    {
     "data": {
      "text/html": [
       "<div>\n",
       "<style scoped>\n",
       "    .dataframe tbody tr th:only-of-type {\n",
       "        vertical-align: middle;\n",
       "    }\n",
       "\n",
       "    .dataframe tbody tr th {\n",
       "        vertical-align: top;\n",
       "    }\n",
       "\n",
       "    .dataframe thead th {\n",
       "        text-align: right;\n",
       "    }\n",
       "</style>\n",
       "<table border=\"1\" class=\"dataframe\">\n",
       "  <thead>\n",
       "    <tr style=\"text-align: right;\">\n",
       "      <th></th>\n",
       "      <th>Suburb</th>\n",
       "      <th>Address</th>\n",
       "      <th>Rooms</th>\n",
       "      <th>Type</th>\n",
       "      <th>Price</th>\n",
       "      <th>Method</th>\n",
       "      <th>Seller</th>\n",
       "      <th>Date</th>\n",
       "      <th>Distance</th>\n",
       "      <th>Postcode</th>\n",
       "      <th>...</th>\n",
       "      <th>Bathroom</th>\n",
       "      <th>Car</th>\n",
       "      <th>Landsize</th>\n",
       "      <th>BuildingArea</th>\n",
       "      <th>YearBuilt</th>\n",
       "      <th>CouncilArea</th>\n",
       "      <th>Latitude</th>\n",
       "      <th>Longitude</th>\n",
       "      <th>RegionName</th>\n",
       "      <th>PropertyCount</th>\n",
       "    </tr>\n",
       "  </thead>\n",
       "  <tbody>\n",
       "    <tr>\n",
       "      <th>1</th>\n",
       "      <td>Abbotsford</td>\n",
       "      <td>85 Turner St</td>\n",
       "      <td>2.0</td>\n",
       "      <td>h</td>\n",
       "      <td>1480000.0</td>\n",
       "      <td>S</td>\n",
       "      <td>Biggin</td>\n",
       "      <td>03/12/2016</td>\n",
       "      <td>2.5</td>\n",
       "      <td>3067.0</td>\n",
       "      <td>...</td>\n",
       "      <td>1.0</td>\n",
       "      <td>1.0</td>\n",
       "      <td>202.0</td>\n",
       "      <td>NaN</td>\n",
       "      <td>NaN</td>\n",
       "      <td>Yarra City Council</td>\n",
       "      <td>-37.7996</td>\n",
       "      <td>144.9984</td>\n",
       "      <td>Northern Metropolitan</td>\n",
       "      <td>4019.0</td>\n",
       "    </tr>\n",
       "    <tr>\n",
       "      <th>2</th>\n",
       "      <td>Abbotsford</td>\n",
       "      <td>25 Bloomburg St</td>\n",
       "      <td>2.0</td>\n",
       "      <td>h</td>\n",
       "      <td>1035000.0</td>\n",
       "      <td>S</td>\n",
       "      <td>Biggin</td>\n",
       "      <td>04/02/2016</td>\n",
       "      <td>2.5</td>\n",
       "      <td>3067.0</td>\n",
       "      <td>...</td>\n",
       "      <td>1.0</td>\n",
       "      <td>0.0</td>\n",
       "      <td>156.0</td>\n",
       "      <td>79.0</td>\n",
       "      <td>1900.0</td>\n",
       "      <td>Yarra City Council</td>\n",
       "      <td>-37.8079</td>\n",
       "      <td>144.9934</td>\n",
       "      <td>Northern Metropolitan</td>\n",
       "      <td>4019.0</td>\n",
       "    </tr>\n",
       "    <tr>\n",
       "      <th>4</th>\n",
       "      <td>Abbotsford</td>\n",
       "      <td>5 Charles St</td>\n",
       "      <td>3.0</td>\n",
       "      <td>h</td>\n",
       "      <td>1465000.0</td>\n",
       "      <td>SP</td>\n",
       "      <td>Biggin</td>\n",
       "      <td>04/03/2017</td>\n",
       "      <td>2.5</td>\n",
       "      <td>3067.0</td>\n",
       "      <td>...</td>\n",
       "      <td>2.0</td>\n",
       "      <td>0.0</td>\n",
       "      <td>134.0</td>\n",
       "      <td>150.0</td>\n",
       "      <td>1900.0</td>\n",
       "      <td>Yarra City Council</td>\n",
       "      <td>-37.8093</td>\n",
       "      <td>144.9944</td>\n",
       "      <td>Northern Metropolitan</td>\n",
       "      <td>4019.0</td>\n",
       "    </tr>\n",
       "    <tr>\n",
       "      <th>5</th>\n",
       "      <td>Abbotsford</td>\n",
       "      <td>40 Federation La</td>\n",
       "      <td>3.0</td>\n",
       "      <td>h</td>\n",
       "      <td>850000.0</td>\n",
       "      <td>PI</td>\n",
       "      <td>Biggin</td>\n",
       "      <td>04/03/2017</td>\n",
       "      <td>2.5</td>\n",
       "      <td>3067.0</td>\n",
       "      <td>...</td>\n",
       "      <td>2.0</td>\n",
       "      <td>1.0</td>\n",
       "      <td>94.0</td>\n",
       "      <td>NaN</td>\n",
       "      <td>NaN</td>\n",
       "      <td>Yarra City Council</td>\n",
       "      <td>-37.7969</td>\n",
       "      <td>144.9969</td>\n",
       "      <td>Northern Metropolitan</td>\n",
       "      <td>4019.0</td>\n",
       "    </tr>\n",
       "    <tr>\n",
       "      <th>6</th>\n",
       "      <td>Abbotsford</td>\n",
       "      <td>55a Park St</td>\n",
       "      <td>3.5</td>\n",
       "      <td>h</td>\n",
       "      <td>1600000.0</td>\n",
       "      <td>VB</td>\n",
       "      <td>Nelson</td>\n",
       "      <td>04/06/2016</td>\n",
       "      <td>2.5</td>\n",
       "      <td>3067.0</td>\n",
       "      <td>...</td>\n",
       "      <td>1.0</td>\n",
       "      <td>2.0</td>\n",
       "      <td>120.0</td>\n",
       "      <td>142.0</td>\n",
       "      <td>2014.0</td>\n",
       "      <td>Yarra City Council</td>\n",
       "      <td>-37.8072</td>\n",
       "      <td>144.9941</td>\n",
       "      <td>Northern Metropolitan</td>\n",
       "      <td>4019.0</td>\n",
       "    </tr>\n",
       "  </tbody>\n",
       "</table>\n",
       "<p>5 rows × 21 columns</p>\n",
       "</div>"
      ],
      "text/plain": [
       "       Suburb           Address  Rooms Type      Price Method  Seller  \\\n",
       "1  Abbotsford      85 Turner St    2.0    h  1480000.0      S  Biggin   \n",
       "2  Abbotsford   25 Bloomburg St    2.0    h  1035000.0      S  Biggin   \n",
       "4  Abbotsford      5 Charles St    3.0    h  1465000.0     SP  Biggin   \n",
       "5  Abbotsford  40 Federation La    3.0    h   850000.0     PI  Biggin   \n",
       "6  Abbotsford       55a Park St    3.5    h  1600000.0     VB  Nelson   \n",
       "\n",
       "         Date  Distance  Postcode  ...  Bathroom  Car  Landsize  BuildingArea  \\\n",
       "1  03/12/2016       2.5    3067.0  ...       1.0  1.0     202.0           NaN   \n",
       "2  04/02/2016       2.5    3067.0  ...       1.0  0.0     156.0          79.0   \n",
       "4  04/03/2017       2.5    3067.0  ...       2.0  0.0     134.0         150.0   \n",
       "5  04/03/2017       2.5    3067.0  ...       2.0  1.0      94.0           NaN   \n",
       "6  04/06/2016       2.5    3067.0  ...       1.0  2.0     120.0         142.0   \n",
       "\n",
       "   YearBuilt         CouncilArea Latitude  Longitude             RegionName  \\\n",
       "1        NaN  Yarra City Council -37.7996   144.9984  Northern Metropolitan   \n",
       "2     1900.0  Yarra City Council -37.8079   144.9934  Northern Metropolitan   \n",
       "4     1900.0  Yarra City Council -37.8093   144.9944  Northern Metropolitan   \n",
       "5        NaN  Yarra City Council -37.7969   144.9969  Northern Metropolitan   \n",
       "6     2014.0  Yarra City Council -37.8072   144.9941  Northern Metropolitan   \n",
       "\n",
       "  PropertyCount  \n",
       "1        4019.0  \n",
       "2        4019.0  \n",
       "4        4019.0  \n",
       "5        4019.0  \n",
       "6        4019.0  \n",
       "\n",
       "[5 rows x 21 columns]"
      ]
     },
     "execution_count": 927,
     "metadata": {},
     "output_type": "execute_result"
    }
   ],
   "source": [
    "data.head()"
   ]
  },
  {
   "cell_type": "code",
   "execution_count": 928,
   "id": "coastal-chart",
   "metadata": {},
   "outputs": [
    {
     "name": "stdout",
     "output_type": "stream",
     "text": [
      "<class 'pandas.core.frame.DataFrame'>\n",
      "Int64Index: 27247 entries, 1 to 34856\n",
      "Data columns (total 18 columns):\n",
      " #   Column         Non-Null Count  Dtype  \n",
      "---  ------         --------------  -----  \n",
      " 0   Suburb         27247 non-null  object \n",
      " 1   Rooms          20806 non-null  float64\n",
      " 2   Type           27247 non-null  object \n",
      " 3   Price          27247 non-null  float64\n",
      " 4   Method         27247 non-null  object \n",
      " 5   Seller         27247 non-null  object \n",
      " 6   Distance       27246 non-null  float64\n",
      " 7   Postcode       27246 non-null  float64\n",
      " 8   Bathroom       20800 non-null  float64\n",
      " 9   Car            20423 non-null  float64\n",
      " 10  Landsize       17982 non-null  float64\n",
      " 11  BuildingArea   10656 non-null  float64\n",
      " 12  YearBuilt      12084 non-null  float64\n",
      " 13  CouncilArea    27244 non-null  object \n",
      " 14  Latitude       20993 non-null  float64\n",
      " 15  Longitude      20993 non-null  float64\n",
      " 16  RegionName     27244 non-null  object \n",
      " 17  PropertyCount  27244 non-null  float64\n",
      "dtypes: float64(12), object(6)\n",
      "memory usage: 3.9+ MB\n"
     ]
    }
   ],
   "source": [
    "data = data.drop(columns=['Date', 'Rooms2', 'Address'])\n",
    "data.info()"
   ]
  },
  {
   "cell_type": "code",
   "execution_count": 929,
   "id": "welsh-energy",
   "metadata": {},
   "outputs": [
    {
     "data": {
      "text/plain": [
       "<AxesSubplot:>"
      ]
     },
     "execution_count": 929,
     "metadata": {},
     "output_type": "execute_result"
    },
    {
     "data": {
      "image/png": "[encoded data removed]",
      "text/plain": [
       "<Figure size 432x288 with 1 Axes>"
      ]
     },
     "metadata": {
      "needs_background": "light"
     },
     "output_type": "display_data"
    }
   ],
   "source": [
    "data['Price'].hist(bins = 30)"
   ]
  },
  {
   "cell_type": "code",
   "execution_count": 930,
   "id": "amateur-appointment",
   "metadata": {},
   "outputs": [
    {
     "data": {
      "image/png": "[encoded data removed]",
      "text/plain": [
       "<Figure size 720x720 with 2 Axes>"
      ]
     },
     "metadata": {
      "needs_background": "light"
     },
     "output_type": "display_data"
    }
   ],
   "source": [
    "corrmat = data.corr()\n",
    "\n",
    "f, ax = plt.subplots(figsize=(10, 10))\n",
    "sbrn.heatmap(corrmat, annot=True, square=True, cmap='coolwarm');"
   ]
  },
  {
   "cell_type": "code",
   "execution_count": 931,
   "id": "interracial-furniture",
   "metadata": {},
   "outputs": [],
   "source": [
    "data = data.drop(columns=['PropertyCount', 'Postcode'])"
   ]
  },
  {
   "cell_type": "code",
   "execution_count": 932,
   "id": "tamil-knight",
   "metadata": {},
   "outputs": [
    {
     "name": "stdout",
     "output_type": "stream",
     "text": [
      "<class 'pandas.core.frame.DataFrame'>\n",
      "Int64Index: 27247 entries, 1 to 34856\n",
      "Data columns (total 16 columns):\n",
      " #   Column        Non-Null Count  Dtype  \n",
      "---  ------        --------------  -----  \n",
      " 0   Suburb        27247 non-null  object \n",
      " 1   Rooms         20806 non-null  float64\n",
      " 2   Type          27247 non-null  object \n",
      " 3   Price         27247 non-null  float64\n",
      " 4   Method        27247 non-null  object \n",
      " 5   Seller        27247 non-null  object \n",
      " 6   Distance      27246 non-null  float64\n",
      " 7   Bathroom      20800 non-null  float64\n",
      " 8   Car           20423 non-null  float64\n",
      " 9   Landsize      17982 non-null  float64\n",
      " 10  BuildingArea  10656 non-null  float64\n",
      " 11  YearBuilt     12084 non-null  float64\n",
      " 12  CouncilArea   27244 non-null  object \n",
      " 13  Latitude      20993 non-null  float64\n",
      " 14  Longitude     20993 non-null  float64\n",
      " 15  RegionName    27244 non-null  object \n",
      "dtypes: float64(10), object(6)\n",
      "memory usage: 3.5+ MB\n"
     ]
    }
   ],
   "source": [
    "data.info()"
   ]
  },
  {
   "cell_type": "code",
   "execution_count": 933,
   "id": "straight-smile",
   "metadata": {},
   "outputs": [],
   "source": [
    "data = data[~data['Rooms'].isnull()]\n",
    "data = data[~data['Bathroom'].isnull()]\n",
    "data = data[~data['Latitude'].isnull()]\n",
    "data = data[~data['Longitude'].isnull()]\n",
    "data = data[~data['Landsize'].isnull()]"
   ]
  },
  {
   "cell_type": "markdown",
   "id": "changing-energy",
   "metadata": {},
   "source": [
    "## Hot Encode Type"
   ]
  },
  {
   "cell_type": "code",
   "execution_count": 934,
   "id": "underlying-oxide",
   "metadata": {},
   "outputs": [
    {
     "name": "stdout",
     "output_type": "stream",
     "text": [
      "['h' 't' 'u']\n"
     ]
    },
    {
     "data": {
      "text/plain": [
       "array([[1., 0., 0.],\n",
       "       [1., 0., 0.],\n",
       "       [1., 0., 0.],\n",
       "       ...,\n",
       "       [1., 0., 0.],\n",
       "       [0., 1., 0.],\n",
       "       [1., 0., 0.]])"
      ]
     },
     "execution_count": 934,
     "metadata": {},
     "output_type": "execute_result"
    }
   ],
   "source": [
    "ohe = OneHotEncoder()\n",
    "print(np.unique(data['Type']))\n",
    "# X_train_enc = ohe.fit_transform(data)\n",
    "\n",
    "type_col = ohe.fit_transform(data.Type.values.reshape(-1, 1)).toarray()\n",
    "type_col"
   ]
  },
  {
   "cell_type": "code",
   "execution_count": 935,
   "id": "balanced-canada",
   "metadata": {},
   "outputs": [],
   "source": [
    "for i in range(len(type_col[0])):\n",
    "    arr = []\n",
    "    for x in type_col:\n",
    "        arr.append(x[i])\n",
    "    data[f'Type_{i}'] = arr"
   ]
  },
  {
   "cell_type": "markdown",
   "id": "anonymous-poison",
   "metadata": {},
   "source": [
    "## Hot Encode Method"
   ]
  },
  {
   "cell_type": "code",
   "execution_count": 936,
   "id": "standing-translation",
   "metadata": {},
   "outputs": [
    {
     "name": "stdout",
     "output_type": "stream",
     "text": [
      "['PI' 'S' 'SA' 'SP' 'VB']\n"
     ]
    }
   ],
   "source": [
    "ohe = OneHotEncoder()\n",
    "print(np.unique(data['Method']))\n",
    "method_col = ohe.fit_transform(data.Type.values.reshape(-1, 1)).toarray()"
   ]
  },
  {
   "cell_type": "code",
   "execution_count": 937,
   "id": "palestinian-quebec",
   "metadata": {},
   "outputs": [],
   "source": [
    "for i in range(len(method_col[0])):\n",
    "    arr = []\n",
    "    for x in method_col:\n",
    "        arr.append(x[i])\n",
    "    data[f'Method{i}'] = arr"
   ]
  },
  {
   "cell_type": "markdown",
   "id": "traditional-hypothetical",
   "metadata": {},
   "source": [
    "## Hot Encode CouncilArea"
   ]
  },
  {
   "cell_type": "code",
   "execution_count": 938,
   "id": "oriental-conference",
   "metadata": {},
   "outputs": [
    {
     "name": "stdout",
     "output_type": "stream",
     "text": [
      "['Banyule City Council' 'Bayside City Council' 'Boroondara City Council'\n",
      " 'Brimbank City Council' 'Cardinia Shire Council' 'Casey City Council'\n",
      " 'Darebin City Council' 'Frankston City Council' 'Glen Eira City Council'\n",
      " 'Greater Dandenong City Council' 'Hobsons Bay City Council'\n",
      " 'Hume City Council' 'Kingston City Council' 'Knox City Council'\n",
      " 'Macedon Ranges Shire Council' 'Manningham City Council'\n",
      " 'Maribyrnong City Council' 'Maroondah City Council'\n",
      " 'Melbourne City Council' 'Melton City Council' 'Mitchell Shire Council'\n",
      " 'Monash City Council' 'Moonee Valley City Council'\n",
      " 'Moorabool Shire Council' 'Moreland City Council'\n",
      " 'Nillumbik Shire Council' 'Port Phillip City Council'\n",
      " 'Stonnington City Council' 'Whitehorse City Council'\n",
      " 'Whittlesea City Council' 'Wyndham City Council' 'Yarra City Council'\n",
      " 'Yarra Ranges Shire Council']\n"
     ]
    }
   ],
   "source": [
    "ohe = OneHotEncoder()\n",
    "print(np.unique(data['CouncilArea']))\n",
    "CouncilArea_col = ohe.fit_transform(data.CouncilArea.values.reshape(-1, 1)).toarray()\n",
    "\n",
    "for i in range(len(CouncilArea_col[0])):\n",
    "    arr = []\n",
    "    for x in CouncilArea_col:\n",
    "        arr.append(x[i])\n",
    "    data[f'CouncilArea{i}'] = arr"
   ]
  },
  {
   "cell_type": "code",
   "execution_count": 939,
   "id": "dental-distributor",
   "metadata": {},
   "outputs": [
    {
     "name": "stdout",
     "output_type": "stream",
     "text": [
      "<class 'pandas.core.frame.DataFrame'>\n",
      "Int64Index: 17951 entries, 1 to 34856\n",
      "Data columns (total 48 columns):\n",
      " #   Column         Non-Null Count  Dtype  \n",
      "---  ------         --------------  -----  \n",
      " 0   Rooms          17951 non-null  float64\n",
      " 1   Price          17951 non-null  float64\n",
      " 2   Distance       17951 non-null  float64\n",
      " 3   Bathroom       17951 non-null  float64\n",
      " 4   Car            17679 non-null  float64\n",
      " 5   Landsize       17951 non-null  float64\n",
      " 6   YearBuilt      10613 non-null  float64\n",
      " 7   Latitude       17951 non-null  float64\n",
      " 8   Longitude      17951 non-null  float64\n",
      " 9   Type_0         17951 non-null  float64\n",
      " 10  Type_1         17951 non-null  float64\n",
      " 11  Type_2         17951 non-null  float64\n",
      " 12  Method0        17951 non-null  float64\n",
      " 13  Method1        17951 non-null  float64\n",
      " 14  Method2        17951 non-null  float64\n",
      " 15  CouncilArea0   17951 non-null  float64\n",
      " 16  CouncilArea1   17951 non-null  float64\n",
      " 17  CouncilArea2   17951 non-null  float64\n",
      " 18  CouncilArea3   17951 non-null  float64\n",
      " 19  CouncilArea4   17951 non-null  float64\n",
      " 20  CouncilArea5   17951 non-null  float64\n",
      " 21  CouncilArea6   17951 non-null  float64\n",
      " 22  CouncilArea7   17951 non-null  float64\n",
      " 23  CouncilArea8   17951 non-null  float64\n",
      " 24  CouncilArea9   17951 non-null  float64\n",
      " 25  CouncilArea10  17951 non-null  float64\n",
      " 26  CouncilArea11  17951 non-null  float64\n",
      " 27  CouncilArea12  17951 non-null  float64\n",
      " 28  CouncilArea13  17951 non-null  float64\n",
      " 29  CouncilArea14  17951 non-null  float64\n",
      " 30  CouncilArea15  17951 non-null  float64\n",
      " 31  CouncilArea16  17951 non-null  float64\n",
      " 32  CouncilArea17  17951 non-null  float64\n",
      " 33  CouncilArea18  17951 non-null  float64\n",
      " 34  CouncilArea19  17951 non-null  float64\n",
      " 35  CouncilArea20  17951 non-null  float64\n",
      " 36  CouncilArea21  17951 non-null  float64\n",
      " 37  CouncilArea22  17951 non-null  float64\n",
      " 38  CouncilArea23  17951 non-null  float64\n",
      " 39  CouncilArea24  17951 non-null  float64\n",
      " 40  CouncilArea25  17951 non-null  float64\n",
      " 41  CouncilArea26  17951 non-null  float64\n",
      " 42  CouncilArea27  17951 non-null  float64\n",
      " 43  CouncilArea28  17951 non-null  float64\n",
      " 44  CouncilArea29  17951 non-null  float64\n",
      " 45  CouncilArea30  17951 non-null  float64\n",
      " 46  CouncilArea31  17951 non-null  float64\n",
      " 47  CouncilArea32  17951 non-null  float64\n",
      "dtypes: float64(48)\n",
      "memory usage: 6.7 MB\n"
     ]
    }
   ],
   "source": [
    "data = data.drop(columns=['Type', 'Suburb', 'RegionName', 'Seller', 'CouncilArea', 'Method', 'BuildingArea'])\n",
    "data.info()"
   ]
  },
  {
   "cell_type": "code",
   "execution_count": 940,
   "id": "digital-motor",
   "metadata": {},
   "outputs": [
    {
     "data": {
      "text/html": [
       "<div>\n",
       "<style scoped>\n",
       "    .dataframe tbody tr th:only-of-type {\n",
       "        vertical-align: middle;\n",
       "    }\n",
       "\n",
       "    .dataframe tbody tr th {\n",
       "        vertical-align: top;\n",
       "    }\n",
       "\n",
       "    .dataframe thead th {\n",
       "        text-align: right;\n",
       "    }\n",
       "</style>\n",
       "<table border=\"1\" class=\"dataframe\">\n",
       "  <thead>\n",
       "    <tr style=\"text-align: right;\">\n",
       "      <th></th>\n",
       "      <th>Rooms</th>\n",
       "      <th>Price</th>\n",
       "      <th>Distance</th>\n",
       "      <th>Bathroom</th>\n",
       "      <th>Car</th>\n",
       "      <th>Landsize</th>\n",
       "      <th>YearBuilt</th>\n",
       "      <th>Latitude</th>\n",
       "      <th>Longitude</th>\n",
       "      <th>Type_0</th>\n",
       "      <th>...</th>\n",
       "      <th>CouncilArea23</th>\n",
       "      <th>CouncilArea24</th>\n",
       "      <th>CouncilArea25</th>\n",
       "      <th>CouncilArea26</th>\n",
       "      <th>CouncilArea27</th>\n",
       "      <th>CouncilArea28</th>\n",
       "      <th>CouncilArea29</th>\n",
       "      <th>CouncilArea30</th>\n",
       "      <th>CouncilArea31</th>\n",
       "      <th>CouncilArea32</th>\n",
       "    </tr>\n",
       "  </thead>\n",
       "  <tbody>\n",
       "    <tr>\n",
       "      <th>1</th>\n",
       "      <td>2.0</td>\n",
       "      <td>1480000.0</td>\n",
       "      <td>2.5</td>\n",
       "      <td>1.0</td>\n",
       "      <td>1.0</td>\n",
       "      <td>202.0</td>\n",
       "      <td>1965.2398</td>\n",
       "      <td>-37.7996</td>\n",
       "      <td>144.9984</td>\n",
       "      <td>1.0</td>\n",
       "      <td>...</td>\n",
       "      <td>0.0</td>\n",
       "      <td>0.0</td>\n",
       "      <td>0.0</td>\n",
       "      <td>0.0</td>\n",
       "      <td>0.0</td>\n",
       "      <td>0.0</td>\n",
       "      <td>0.0</td>\n",
       "      <td>0.0</td>\n",
       "      <td>1.0</td>\n",
       "      <td>0.0</td>\n",
       "    </tr>\n",
       "    <tr>\n",
       "      <th>2</th>\n",
       "      <td>2.0</td>\n",
       "      <td>1035000.0</td>\n",
       "      <td>2.5</td>\n",
       "      <td>1.0</td>\n",
       "      <td>0.0</td>\n",
       "      <td>156.0</td>\n",
       "      <td>1900.0000</td>\n",
       "      <td>-37.8079</td>\n",
       "      <td>144.9934</td>\n",
       "      <td>1.0</td>\n",
       "      <td>...</td>\n",
       "      <td>0.0</td>\n",
       "      <td>0.0</td>\n",
       "      <td>0.0</td>\n",
       "      <td>0.0</td>\n",
       "      <td>0.0</td>\n",
       "      <td>0.0</td>\n",
       "      <td>0.0</td>\n",
       "      <td>0.0</td>\n",
       "      <td>1.0</td>\n",
       "      <td>0.0</td>\n",
       "    </tr>\n",
       "    <tr>\n",
       "      <th>4</th>\n",
       "      <td>3.0</td>\n",
       "      <td>1465000.0</td>\n",
       "      <td>2.5</td>\n",
       "      <td>2.0</td>\n",
       "      <td>0.0</td>\n",
       "      <td>134.0</td>\n",
       "      <td>1900.0000</td>\n",
       "      <td>-37.8093</td>\n",
       "      <td>144.9944</td>\n",
       "      <td>1.0</td>\n",
       "      <td>...</td>\n",
       "      <td>0.0</td>\n",
       "      <td>0.0</td>\n",
       "      <td>0.0</td>\n",
       "      <td>0.0</td>\n",
       "      <td>0.0</td>\n",
       "      <td>0.0</td>\n",
       "      <td>0.0</td>\n",
       "      <td>0.0</td>\n",
       "      <td>1.0</td>\n",
       "      <td>0.0</td>\n",
       "    </tr>\n",
       "    <tr>\n",
       "      <th>5</th>\n",
       "      <td>3.0</td>\n",
       "      <td>850000.0</td>\n",
       "      <td>2.5</td>\n",
       "      <td>2.0</td>\n",
       "      <td>1.0</td>\n",
       "      <td>94.0</td>\n",
       "      <td>1965.2398</td>\n",
       "      <td>-37.7969</td>\n",
       "      <td>144.9969</td>\n",
       "      <td>1.0</td>\n",
       "      <td>...</td>\n",
       "      <td>0.0</td>\n",
       "      <td>0.0</td>\n",
       "      <td>0.0</td>\n",
       "      <td>0.0</td>\n",
       "      <td>0.0</td>\n",
       "      <td>0.0</td>\n",
       "      <td>0.0</td>\n",
       "      <td>0.0</td>\n",
       "      <td>1.0</td>\n",
       "      <td>0.0</td>\n",
       "    </tr>\n",
       "    <tr>\n",
       "      <th>6</th>\n",
       "      <td>3.5</td>\n",
       "      <td>1600000.0</td>\n",
       "      <td>2.5</td>\n",
       "      <td>1.0</td>\n",
       "      <td>2.0</td>\n",
       "      <td>120.0</td>\n",
       "      <td>2014.0000</td>\n",
       "      <td>-37.8072</td>\n",
       "      <td>144.9941</td>\n",
       "      <td>1.0</td>\n",
       "      <td>...</td>\n",
       "      <td>0.0</td>\n",
       "      <td>0.0</td>\n",
       "      <td>0.0</td>\n",
       "      <td>0.0</td>\n",
       "      <td>0.0</td>\n",
       "      <td>0.0</td>\n",
       "      <td>0.0</td>\n",
       "      <td>0.0</td>\n",
       "      <td>1.0</td>\n",
       "      <td>0.0</td>\n",
       "    </tr>\n",
       "  </tbody>\n",
       "</table>\n",
       "<p>5 rows × 48 columns</p>\n",
       "</div>"
      ],
      "text/plain": [
       "   Rooms      Price  Distance  Bathroom  Car  Landsize  YearBuilt  Latitude  \\\n",
       "1    2.0  1480000.0       2.5       1.0  1.0     202.0  1965.2398  -37.7996   \n",
       "2    2.0  1035000.0       2.5       1.0  0.0     156.0  1900.0000  -37.8079   \n",
       "4    3.0  1465000.0       2.5       2.0  0.0     134.0  1900.0000  -37.8093   \n",
       "5    3.0   850000.0       2.5       2.0  1.0      94.0  1965.2398  -37.7969   \n",
       "6    3.5  1600000.0       2.5       1.0  2.0     120.0  2014.0000  -37.8072   \n",
       "\n",
       "   Longitude  Type_0  ...  CouncilArea23  CouncilArea24  CouncilArea25  \\\n",
       "1   144.9984     1.0  ...            0.0            0.0            0.0   \n",
       "2   144.9934     1.0  ...            0.0            0.0            0.0   \n",
       "4   144.9944     1.0  ...            0.0            0.0            0.0   \n",
       "5   144.9969     1.0  ...            0.0            0.0            0.0   \n",
       "6   144.9941     1.0  ...            0.0            0.0            0.0   \n",
       "\n",
       "   CouncilArea26  CouncilArea27  CouncilArea28  CouncilArea29  CouncilArea30  \\\n",
       "1            0.0            0.0            0.0            0.0            0.0   \n",
       "2            0.0            0.0            0.0            0.0            0.0   \n",
       "4            0.0            0.0            0.0            0.0            0.0   \n",
       "5            0.0            0.0            0.0            0.0            0.0   \n",
       "6            0.0            0.0            0.0            0.0            0.0   \n",
       "\n",
       "   CouncilArea31  CouncilArea32  \n",
       "1            1.0            0.0  \n",
       "2            1.0            0.0  \n",
       "4            1.0            0.0  \n",
       "5            1.0            0.0  \n",
       "6            1.0            0.0  \n",
       "\n",
       "[5 rows x 48 columns]"
      ]
     },
     "execution_count": 940,
     "metadata": {},
     "output_type": "execute_result"
    }
   ],
   "source": [
    "data = data.apply(lambda x: x.fillna(x.mean()),axis=0)\n",
    "data.head()"
   ]
  },
  {
   "cell_type": "code",
   "execution_count": 941,
   "id": "later-albuquerque",
   "metadata": {},
   "outputs": [
    {
     "data": {
      "text/plain": [
       "array([[ 2.0000000e+00,  2.5000000e+00,  1.0000000e+00,  1.0000000e+00,\n",
       "         2.0200000e+02,  1.9652398e+03, -3.7799600e+01,  1.4499840e+02,\n",
       "         1.0000000e+00,  0.0000000e+00,  0.0000000e+00,  1.0000000e+00,\n",
       "         0.0000000e+00,  0.0000000e+00,  0.0000000e+00,  0.0000000e+00,\n",
       "         0.0000000e+00,  0.0000000e+00,  0.0000000e+00,  0.0000000e+00,\n",
       "         0.0000000e+00,  0.0000000e+00,  0.0000000e+00,  0.0000000e+00,\n",
       "         0.0000000e+00,  0.0000000e+00,  0.0000000e+00,  0.0000000e+00,\n",
       "         0.0000000e+00,  0.0000000e+00,  0.0000000e+00,  0.0000000e+00,\n",
       "         0.0000000e+00,  0.0000000e+00,  0.0000000e+00,  0.0000000e+00,\n",
       "         0.0000000e+00,  0.0000000e+00,  0.0000000e+00,  0.0000000e+00,\n",
       "         0.0000000e+00,  0.0000000e+00,  0.0000000e+00,  0.0000000e+00,\n",
       "         0.0000000e+00,  1.0000000e+00,  0.0000000e+00],\n",
       "       [ 2.0000000e+00,  2.5000000e+00,  1.0000000e+00,  0.0000000e+00,\n",
       "         1.5600000e+02,  1.9000000e+03, -3.7807900e+01,  1.4499340e+02,\n",
       "         1.0000000e+00,  0.0000000e+00,  0.0000000e+00,  1.0000000e+00,\n",
       "         0.0000000e+00,  0.0000000e+00,  0.0000000e+00,  0.0000000e+00,\n",
       "         0.0000000e+00,  0.0000000e+00,  0.0000000e+00,  0.0000000e+00,\n",
       "         0.0000000e+00,  0.0000000e+00,  0.0000000e+00,  0.0000000e+00,\n",
       "         0.0000000e+00,  0.0000000e+00,  0.0000000e+00,  0.0000000e+00,\n",
       "         0.0000000e+00,  0.0000000e+00,  0.0000000e+00,  0.0000000e+00,\n",
       "         0.0000000e+00,  0.0000000e+00,  0.0000000e+00,  0.0000000e+00,\n",
       "         0.0000000e+00,  0.0000000e+00,  0.0000000e+00,  0.0000000e+00,\n",
       "         0.0000000e+00,  0.0000000e+00,  0.0000000e+00,  0.0000000e+00,\n",
       "         0.0000000e+00,  1.0000000e+00,  0.0000000e+00],\n",
       "       [ 3.0000000e+00,  2.5000000e+00,  2.0000000e+00,  0.0000000e+00,\n",
       "         1.3400000e+02,  1.9000000e+03, -3.7809300e+01,  1.4499440e+02,\n",
       "         1.0000000e+00,  0.0000000e+00,  0.0000000e+00,  1.0000000e+00,\n",
       "         0.0000000e+00,  0.0000000e+00,  0.0000000e+00,  0.0000000e+00,\n",
       "         0.0000000e+00,  0.0000000e+00,  0.0000000e+00,  0.0000000e+00,\n",
       "         0.0000000e+00,  0.0000000e+00,  0.0000000e+00,  0.0000000e+00,\n",
       "         0.0000000e+00,  0.0000000e+00,  0.0000000e+00,  0.0000000e+00,\n",
       "         0.0000000e+00,  0.0000000e+00,  0.0000000e+00,  0.0000000e+00,\n",
       "         0.0000000e+00,  0.0000000e+00,  0.0000000e+00,  0.0000000e+00,\n",
       "         0.0000000e+00,  0.0000000e+00,  0.0000000e+00,  0.0000000e+00,\n",
       "         0.0000000e+00,  0.0000000e+00,  0.0000000e+00,  0.0000000e+00,\n",
       "         0.0000000e+00,  1.0000000e+00,  0.0000000e+00],\n",
       "       [ 3.0000000e+00,  2.5000000e+00,  2.0000000e+00,  1.0000000e+00,\n",
       "         9.4000000e+01,  1.9652398e+03, -3.7796900e+01,  1.4499690e+02,\n",
       "         1.0000000e+00,  0.0000000e+00,  0.0000000e+00,  1.0000000e+00,\n",
       "         0.0000000e+00,  0.0000000e+00,  0.0000000e+00,  0.0000000e+00,\n",
       "         0.0000000e+00,  0.0000000e+00,  0.0000000e+00,  0.0000000e+00,\n",
       "         0.0000000e+00,  0.0000000e+00,  0.0000000e+00,  0.0000000e+00,\n",
       "         0.0000000e+00,  0.0000000e+00,  0.0000000e+00,  0.0000000e+00,\n",
       "         0.0000000e+00,  0.0000000e+00,  0.0000000e+00,  0.0000000e+00,\n",
       "         0.0000000e+00,  0.0000000e+00,  0.0000000e+00,  0.0000000e+00,\n",
       "         0.0000000e+00,  0.0000000e+00,  0.0000000e+00,  0.0000000e+00,\n",
       "         0.0000000e+00,  0.0000000e+00,  0.0000000e+00,  0.0000000e+00,\n",
       "         0.0000000e+00,  1.0000000e+00,  0.0000000e+00],\n",
       "       [ 3.5000000e+00,  2.5000000e+00,  1.0000000e+00,  2.0000000e+00,\n",
       "         1.2000000e+02,  2.0140000e+03, -3.7807200e+01,  1.4499410e+02,\n",
       "         1.0000000e+00,  0.0000000e+00,  0.0000000e+00,  1.0000000e+00,\n",
       "         0.0000000e+00,  0.0000000e+00,  0.0000000e+00,  0.0000000e+00,\n",
       "         0.0000000e+00,  0.0000000e+00,  0.0000000e+00,  0.0000000e+00,\n",
       "         0.0000000e+00,  0.0000000e+00,  0.0000000e+00,  0.0000000e+00,\n",
       "         0.0000000e+00,  0.0000000e+00,  0.0000000e+00,  0.0000000e+00,\n",
       "         0.0000000e+00,  0.0000000e+00,  0.0000000e+00,  0.0000000e+00,\n",
       "         0.0000000e+00,  0.0000000e+00,  0.0000000e+00,  0.0000000e+00,\n",
       "         0.0000000e+00,  0.0000000e+00,  0.0000000e+00,  0.0000000e+00,\n",
       "         0.0000000e+00,  0.0000000e+00,  0.0000000e+00,  0.0000000e+00,\n",
       "         0.0000000e+00,  1.0000000e+00,  0.0000000e+00]])"
      ]
     },
     "execution_count": 941,
     "metadata": {},
     "output_type": "execute_result"
    }
   ],
   "source": [
    "Y = data['Price'].to_numpy()\n",
    "X = data.drop(columns=['Price']).to_numpy()\n",
    "X[:5]"
   ]
  },
  {
   "cell_type": "code",
   "execution_count": 942,
   "id": "suffering-dancing",
   "metadata": {},
   "outputs": [],
   "source": [
    "X_train, X_test, y_train, y_test = train_test_split(X, Y, test_size=0.2, random_state=42)\n",
    "scaler_x = StandardScaler()\n",
    "scaler_y = StandardScaler()\n",
    "x = scaler_x.fit_transform(X_train)\n",
    "y = scaler_y.fit_transform(y_train.reshape(len(y_train),1))[:,0]"
   ]
  },
  {
   "cell_type": "code",
   "execution_count": 943,
   "id": "broke-match",
   "metadata": {},
   "outputs": [
    {
     "name": "stdout",
     "output_type": "stream",
     "text": [
      "(14360, 47)\n"
     ]
    }
   ],
   "source": [
    "print(x.shape)\n",
    "n = x.shape[1]"
   ]
  },
  {
   "cell_type": "code",
   "execution_count": 944,
   "id": "driven-tracy",
   "metadata": {},
   "outputs": [
    {
     "data": {
      "image/png": "[encoded data removed]",
      "text/plain": [
       "<Figure size 432x288 with 1 Axes>"
      ]
     },
     "metadata": {
      "needs_background": "light"
     },
     "output_type": "display_data"
    }
   ],
   "source": [
    "fig, ax = plt.subplots()\n",
    "hist = ax.hist(y, bins=40, range=[-5, 5])"
   ]
  },
  {
   "cell_type": "markdown",
   "id": "brilliant-moses",
   "metadata": {},
   "source": [
    "# ANN"
   ]
  },
  {
   "cell_type": "code",
   "execution_count": 905,
   "id": "capital-irish",
   "metadata": {},
   "outputs": [],
   "source": [
    "model = Sequential()\n",
    "model.add(Dense(96, activation='relu', input_shape=(n,)))\n",
    "model.add(Dense(96, activation='relu', kernel_regularizer='l2', kernel_initializer='he_uniform'))\n",
    "model.add(Dense(48, kernel_regularizer='l2', kernel_initializer='he_uniform', activation='relu'))\n",
    "model.add(Dense(48, kernel_regularizer='l2', kernel_initializer='he_uniform', activation='relu'))\n",
    "model.add(Dense(16, kernel_regularizer='l2', kernel_initializer='he_uniform', activation='relu'))\n",
    "model.add(Dense(8, kernel_regularizer='l2', kernel_initializer='he_uniform', activation='relu'))\n",
    "model.add(Dense(1, activation='linear'))"
   ]
  },
  {
   "cell_type": "code",
   "execution_count": 906,
   "id": "civilian-account",
   "metadata": {},
   "outputs": [],
   "source": [
    "model.compile(optimizer=Adam(lr=0.001), \n",
    "              loss='mean_squared_error', metrics=['mse'])"
   ]
  },
  {
   "cell_type": "code",
   "execution_count": 907,
   "id": "answering-assessment",
   "metadata": {},
   "outputs": [
    {
     "name": "stdout",
     "output_type": "stream",
     "text": [
      "Epoch 1/150\n",
      "101/101 [==============================] - 1s 3ms/step - loss: 4.7245 - mse: 0.8209 - val_loss: 2.9702 - val_mse: 0.2847\n",
      "Epoch 2/150\n",
      "101/101 [==============================] - 0s 2ms/step - loss: 2.6535 - mse: 0.2865 - val_loss: 1.8706 - val_mse: 0.2846\n",
      "Epoch 3/150\n",
      "101/101 [==============================] - 0s 2ms/step - loss: 1.6906 - mse: 0.2809 - val_loss: 1.2379 - val_mse: 0.2554\n",
      "Epoch 4/150\n",
      "101/101 [==============================] - 0s 2ms/step - loss: 1.1517 - mse: 0.2677 - val_loss: 0.9149 - val_mse: 0.2703\n",
      "Epoch 5/150\n",
      "101/101 [==============================] - 0s 2ms/step - loss: 0.8680 - mse: 0.2792 - val_loss: 0.7003 - val_mse: 0.2503\n",
      "Epoch 6/150\n",
      "101/101 [==============================] - 0s 2ms/step - loss: 0.6988 - mse: 0.2826 - val_loss: 0.5836 - val_mse: 0.2507\n",
      "Epoch 7/150\n",
      "101/101 [==============================] - 0s 2ms/step - loss: 0.5846 - mse: 0.2712 - val_loss: 0.5065 - val_mse: 0.2474\n",
      "Epoch 8/150\n",
      "101/101 [==============================] - 0s 2ms/step - loss: 0.5017 - mse: 0.2542 - val_loss: 0.4561 - val_mse: 0.2431\n",
      "Epoch 9/150\n",
      "101/101 [==============================] - 0s 2ms/step - loss: 0.4623 - mse: 0.2588 - val_loss: 0.4202 - val_mse: 0.2381\n",
      "Epoch 10/150\n",
      "101/101 [==============================] - 0s 2ms/step - loss: 0.4197 - mse: 0.2443 - val_loss: 0.4012 - val_mse: 0.2421\n",
      "Epoch 11/150\n",
      "101/101 [==============================] - 0s 2ms/step - loss: 0.4217 - mse: 0.2678 - val_loss: 0.3814 - val_mse: 0.2382\n",
      "Epoch 12/150\n",
      "101/101 [==============================] - 0s 2ms/step - loss: 0.3733 - mse: 0.2331 - val_loss: 0.3622 - val_mse: 0.2321\n",
      "Epoch 13/150\n",
      "101/101 [==============================] - 0s 2ms/step - loss: 0.4002 - mse: 0.2722 - val_loss: 0.3511 - val_mse: 0.2304\n",
      "Epoch 14/150\n",
      "101/101 [==============================] - 0s 2ms/step - loss: 0.3615 - mse: 0.2433 - val_loss: 0.3394 - val_mse: 0.2259\n",
      "Epoch 15/150\n",
      "101/101 [==============================] - 0s 2ms/step - loss: 0.3443 - mse: 0.2318 - val_loss: 0.3409 - val_mse: 0.2339\n",
      "Epoch 16/150\n",
      "101/101 [==============================] - 0s 2ms/step - loss: 0.3433 - mse: 0.2372 - val_loss: 0.3251 - val_mse: 0.2238\n",
      "Epoch 17/150\n",
      "101/101 [==============================] - 0s 2ms/step - loss: 0.3372 - mse: 0.2362 - val_loss: 0.3218 - val_mse: 0.2251\n",
      "Epoch 18/150\n",
      "101/101 [==============================] - 0s 1ms/step - loss: 0.3140 - mse: 0.2183 - val_loss: 0.3183 - val_mse: 0.2239\n",
      "Epoch 19/150\n",
      "101/101 [==============================] - 0s 2ms/step - loss: 0.3342 - mse: 0.2401 - val_loss: 0.3109 - val_mse: 0.2203\n",
      "Epoch 20/150\n",
      "101/101 [==============================] - 0s 2ms/step - loss: 0.2964 - mse: 0.2068 - val_loss: 0.3218 - val_mse: 0.2330\n",
      "Epoch 21/150\n",
      "101/101 [==============================] - 0s 2ms/step - loss: 0.3390 - mse: 0.2513 - val_loss: 0.3153 - val_mse: 0.2294\n",
      "Epoch 22/150\n",
      "101/101 [==============================] - 0s 2ms/step - loss: 0.2956 - mse: 0.2111 - val_loss: 0.3028 - val_mse: 0.2186\n",
      "Epoch 23/150\n",
      "101/101 [==============================] - 0s 1ms/step - loss: 0.2927 - mse: 0.2090 - val_loss: 0.3032 - val_mse: 0.2211\n",
      "Epoch 24/150\n",
      "101/101 [==============================] - 0s 2ms/step - loss: 0.2881 - mse: 0.2068 - val_loss: 0.3093 - val_mse: 0.2296\n",
      "Epoch 25/150\n",
      "101/101 [==============================] - 0s 1ms/step - loss: 0.2910 - mse: 0.2124 - val_loss: 0.2961 - val_mse: 0.2181\n",
      "Epoch 26/150\n",
      "101/101 [==============================] - 0s 2ms/step - loss: 0.2720 - mse: 0.1943 - val_loss: 0.2941 - val_mse: 0.2176\n",
      "Epoch 27/150\n",
      "101/101 [==============================] - 0s 1ms/step - loss: 0.2960 - mse: 0.2192 - val_loss: 0.2943 - val_mse: 0.2195\n",
      "Epoch 28/150\n",
      "101/101 [==============================] - 0s 1ms/step - loss: 0.2679 - mse: 0.1929 - val_loss: 0.3012 - val_mse: 0.2277\n",
      "Epoch 29/150\n",
      "101/101 [==============================] - 0s 2ms/step - loss: 0.3118 - mse: 0.2375 - val_loss: 0.2914 - val_mse: 0.2183\n",
      "Epoch 30/150\n",
      "101/101 [==============================] - 0s 2ms/step - loss: 0.2935 - mse: 0.2197 - val_loss: 0.2963 - val_mse: 0.2247\n",
      "Epoch 31/150\n",
      "101/101 [==============================] - 0s 2ms/step - loss: 0.2566 - mse: 0.1853 - val_loss: 0.2925 - val_mse: 0.2213\n",
      "Epoch 32/150\n",
      "101/101 [==============================] - 0s 2ms/step - loss: 0.2675 - mse: 0.1966 - val_loss: 0.2815 - val_mse: 0.2112\n",
      "Epoch 33/150\n",
      "101/101 [==============================] - 0s 1ms/step - loss: 0.2868 - mse: 0.2162 - val_loss: 0.2838 - val_mse: 0.2146\n",
      "Epoch 34/150\n",
      "101/101 [==============================] - 0s 2ms/step - loss: 0.2740 - mse: 0.2055 - val_loss: 0.2861 - val_mse: 0.2176\n",
      "Epoch 35/150\n",
      "101/101 [==============================] - 0s 2ms/step - loss: 0.2617 - mse: 0.1938 - val_loss: 0.2835 - val_mse: 0.2156\n",
      "Epoch 36/150\n",
      "101/101 [==============================] - 0s 2ms/step - loss: 0.2528 - mse: 0.1851 - val_loss: 0.2762 - val_mse: 0.2086\n",
      "Epoch 37/150\n",
      "101/101 [==============================] - 0s 2ms/step - loss: 0.2770 - mse: 0.2094 - val_loss: 0.2765 - val_mse: 0.2088\n",
      "Epoch 38/150\n",
      "101/101 [==============================] - 0s 2ms/step - loss: 0.2640 - mse: 0.1964 - val_loss: 0.2814 - val_mse: 0.2135\n",
      "Epoch 39/150\n",
      "101/101 [==============================] - 0s 2ms/step - loss: 0.2325 - mse: 0.1648 - val_loss: 0.2780 - val_mse: 0.2102\n",
      "Epoch 40/150\n",
      "101/101 [==============================] - 0s 2ms/step - loss: 0.2771 - mse: 0.2093 - val_loss: 0.2768 - val_mse: 0.2090\n",
      "Epoch 41/150\n",
      "101/101 [==============================] - 0s 2ms/step - loss: 0.2845 - mse: 0.2167 - val_loss: 0.2765 - val_mse: 0.2088\n",
      "Epoch 42/150\n",
      "101/101 [==============================] - 0s 1ms/step - loss: 0.2606 - mse: 0.1928 - val_loss: 0.2764 - val_mse: 0.2086\n",
      "Epoch 43/150\n",
      "101/101 [==============================] - 0s 1ms/step - loss: 0.2449 - mse: 0.1771 - val_loss: 0.2763 - val_mse: 0.2086\n"
     ]
    }
   ],
   "source": [
    "reduce_lr = ReduceLROnPlateau(monitor=\"val_loss\", factor=0.1, patience=3, min_lr=0.00005)\n",
    "early_stopping = EarlyStopping(monitor=\"val_loss\", patience=7)\n",
    "history = model.fit(x, y, epochs=150, batch_size=128, validation_split=0.1, \n",
    "                  callbacks=[reduce_lr, early_stopping], verbose=1)"
   ]
  },
  {
   "cell_type": "code",
   "execution_count": 908,
   "id": "least-locator",
   "metadata": {},
   "outputs": [
    {
     "data": {
      "image/png": "[encoded data removed]",
      "text/plain": [
       "<Figure size 720x360 with 2 Axes>"
      ]
     },
     "metadata": {
      "needs_background": "light"
     },
     "output_type": "display_data"
    }
   ],
   "source": [
    "plt.figure(figsize=[10,5])\n",
    "plt.subplot(121)\n",
    "plt.plot(history.history['mse'])\n",
    "plt.plot(history.history['val_mse'])\n",
    "plt.xlabel('Epoch')\n",
    "plt.ylabel('MSE')\n",
    "plt.legend(['Training MSE',\n",
    "           'Validation MSE'])\n",
    "plt.title('MSE Curves')\n",
    "plt.subplot(122)\n",
    "plt.plot(history.history['loss'])\n",
    "plt.plot(history.history['val_loss'])\n",
    "plt.xlabel('Epoch')\n",
    "plt.ylabel('Loss')\n",
    "plt.legend(['Training Loss',\n",
    "           'Validation Loss'])\n",
    "plt.title('Loss Curves')\n",
    "plt.show()"
   ]
  },
  {
   "cell_type": "code",
   "execution_count": 909,
   "id": "grand-nancy",
   "metadata": {},
   "outputs": [],
   "source": [
    "X_scaled_test = scaler_x.transform(X_test)\n",
    "y_scaled_test = scaler_y.transform(y_test.reshape(len(y_test),1))[:,0]\n",
    "results = model.predict(X_scaled_test)"
   ]
  },
  {
   "cell_type": "code",
   "execution_count": 910,
   "id": "enabling-director",
   "metadata": {},
   "outputs": [
    {
     "name": "stdout",
     "output_type": "stream",
     "text": [
      "              pred --- real\n",
      "1.2554881572723389 --- 2.067582911172597\n",
      "0.18633028864860535 --- 0.0557905796018997\n",
      "0.3065919578075409 --- 0.8543646348818713\n",
      "-0.33925214409828186 --- 0.31686286690496734\n",
      "0.6578493118286133 --- 1.0693653420726328\n",
      "-0.5871070623397827 --- -0.7197476856219188\n",
      "1.1726230382919312 --- 0.915793408364946\n",
      "-0.6533254384994507 --- -0.07628128338671099\n",
      "0.6558600664138794 --- 0.671614033769724\n",
      "-0.42739322781562805 --- -0.2667104811842427\n",
      "1.296925663948059 --- 0.7668286326684898\n",
      "0.4970109760761261 --- 0.009718999489593642\n",
      "-0.3876730501651764 --- -0.5354613651726946\n",
      "-0.8815683126449585 --- -0.9961771662957551\n",
      "2.5187010765075684 --- 3.419015927800242\n",
      "-0.2532106339931488 --- -0.06706696736424977\n",
      "-0.6590143442153931 --- -0.7581406690488406\n",
      "0.7073373794555664 --- 0.04043338623113101\n",
      "-1.0038583278656006 --- -1.05760593977883\n",
      "-0.531688928604126 --- -0.589211541970385\n"
     ]
    }
   ],
   "source": [
    "print('              pred --- real')\n",
    "for i, j in zip(results[:20], y_scaled_test[:20]):\n",
    "    print(f'{i[0]} --- {j}')"
   ]
  },
  {
   "cell_type": "code",
   "execution_count": 911,
   "id": "removed-gravity",
   "metadata": {},
   "outputs": [
    {
     "data": {
      "text/plain": [
       "array([ 2.06758291,  0.05579058,  0.85436463,  0.31686287,  1.06936534,\n",
       "       -0.71974769,  0.91579341, -0.07628128,  0.67161403, -0.26671048,\n",
       "        0.76682863,  0.009719  , -0.53546137, -0.99617717,  3.41901593,\n",
       "       -0.06706697, -0.75814067,  0.04043339, -1.05760594, -0.58921154])"
      ]
     },
     "execution_count": 911,
     "metadata": {},
     "output_type": "execute_result"
    }
   ],
   "source": [
    "y_scaled_test[:20]"
   ]
  },
  {
   "cell_type": "code",
   "execution_count": 912,
   "id": "applicable-prescription",
   "metadata": {},
   "outputs": [
    {
     "data": {
      "text/plain": [
       "0.7477982751216442"
      ]
     },
     "execution_count": 912,
     "metadata": {},
     "output_type": "execute_result"
    }
   ],
   "source": [
    "r2_score(results, y_scaled_test)"
   ]
  },
  {
   "cell_type": "markdown",
   "id": "behind-telescope",
   "metadata": {},
   "source": [
    "# SVM"
   ]
  },
  {
   "cell_type": "code",
   "execution_count": 946,
   "id": "placed-incidence",
   "metadata": {},
   "outputs": [
    {
     "name": "stdout",
     "output_type": "stream",
     "text": [
      "Fitting 5 folds for each of 20 candidates, totalling 100 fits\n",
      "{'C': 50, 'gamma': 'scale', 'kernel': 'rbf'}\n"
     ]
    }
   ],
   "source": [
    "param_grid = {'C': [0.1, 1, 10, 50], 'gamma': ['scale', 1, 0.1, 0.01, 0.001], \n",
    "                  'kernel': ['rbf']}\n",
    "grid = GridSearchCV(SVR(), param_grid, verbose=2, refit=True, n_jobs=-1)\n",
    "grid.fit(x, y)\n",
    "print(grid.best_params_)\n",
    "svm = SVR(kernel=grid.best_params_['kernel'], C=grid.best_params_['C'], gamma=grid.best_params_['gamma'])"
   ]
  },
  {
   "cell_type": "code",
   "execution_count": 947,
   "id": "capable-facing",
   "metadata": {},
   "outputs": [
    {
     "data": {
      "text/plain": [
       "SVR(C=50)"
      ]
     },
     "execution_count": 947,
     "metadata": {},
     "output_type": "execute_result"
    }
   ],
   "source": [
    "svm.fit(x, y)"
   ]
  },
  {
   "cell_type": "code",
   "execution_count": 950,
   "id": "unable-sentence",
   "metadata": {},
   "outputs": [],
   "source": [
    "svm_results = svm.predict(X_scaled_test)"
   ]
  },
  {
   "cell_type": "code",
   "execution_count": 951,
   "id": "improved-providence",
   "metadata": {},
   "outputs": [
    {
     "data": {
      "text/plain": [
       "0.7213271614362604"
      ]
     },
     "execution_count": 951,
     "metadata": {},
     "output_type": "execute_result"
    }
   ],
   "source": [
    "r2_score(svm_results, y_scaled_test)"
   ]
  },
  {
   "cell_type": "code",
   "execution_count": 953,
   "id": "divine-irish",
   "metadata": {},
   "outputs": [
    {
     "name": "stdout",
     "output_type": "stream",
     "text": [
      "              pred --- real\n",
      "1.3161661002303209 --- 2.067582911172597\n",
      "0.055209739205301145 --- 0.0557905796018997\n",
      "0.2149935704161231 --- 0.8543646348818713\n",
      "-0.34598795738914123 --- 0.31686286690496734\n",
      "0.9408791070672163 --- 1.0693653420726328\n",
      "-0.6896650033545891 --- -0.7197476856219188\n",
      "1.083293521522327 --- 0.915793408364946\n",
      "-0.6030417265287794 --- -0.07628128338671099\n",
      "0.8704334654160918 --- 0.671614033769724\n",
      "-0.3770414551796043 --- -0.2667104811842427\n",
      "1.2371396516170137 --- 0.7668286326684898\n",
      "0.26128154328955244 --- 0.009718999489593642\n",
      "-0.3584704927195491 --- -0.5354613651726946\n",
      "-0.8383976303657582 --- -0.9961771662957551\n",
      "2.3765026687545685 --- 3.419015927800242\n",
      "-0.20749505030831894 --- -0.06706696736424977\n",
      "-0.7224005547495816 --- -0.7581406690488406\n",
      "0.5343401875403756 --- 0.04043338623113101\n",
      "-0.9668029035929163 --- -1.05760593977883\n",
      "-0.6591600226551096 --- -0.589211541970385\n"
     ]
    }
   ],
   "source": [
    "print('              pred --- real')\n",
    "for i, j in zip(svm_results[:20], y_scaled_test[:20]):\n",
    "    print(f'{i} --- {j}')"
   ]
  },
  {
   "cell_type": "code",
   "execution_count": null,
   "id": "athletic-opportunity",
   "metadata": {},
   "outputs": [],
   "source": []
  }
 ],
 "metadata": {
  "kernelspec": {
   "display_name": "Python 3",
   "language": "python",
   "name": "python3"
  },
  "language_info": {
   "codemirror_mode": {
    "name": "ipython",
    "version": 3
   },
   "file_extension": ".py",
   "mimetype": "text/x-python",
   "name": "python",
   "nbconvert_exporter": "python",
   "pygments_lexer": "ipython3",
   "version": "3.8.5"
  }
 },
 "nbformat": 4,
 "nbformat_minor": 5
}
