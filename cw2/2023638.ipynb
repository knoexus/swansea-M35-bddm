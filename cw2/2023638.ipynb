{
 "cells": [
  {
   "cell_type": "code",
   "execution_count": 1007,
   "id": "blocked-yellow",
   "metadata": {},
   "outputs": [],
   "source": [
    "import pandas as pd\n",
    "import numpy as np\n",
    "import seaborn as sbrn\n",
    "from matplotlib import pyplot as plt\n",
    "from tensorflow.keras.models import Sequential\n",
    "from tensorflow.keras.layers import (InputLayer, Dense, Flatten, Dropout)\n",
    "from tensorflow.keras.optimizers import Adam, SGD\n",
    "from tensorflow.keras.callbacks import ReduceLROnPlateau, EarlyStopping\n",
    "from sklearn.preprocessing import OneHotEncoder\n",
    "from sklearn.model_selection import train_test_split\n",
    "from sklearn.preprocessing import StandardScaler, MinMaxScaler\n",
    "from sklearn.metrics import r2_score\n",
    "from sklearn.svm import SVR\n",
    "from sklearn.model_selection import GridSearchCV\n",
    "from sklearn.ensemble import RandomForestRegressor\n",
    "from scipy import stats"
   ]
  },
  {
   "cell_type": "code",
   "execution_count": 966,
   "id": "specialized-expansion",
   "metadata": {},
   "outputs": [],
   "source": [
    "data = pd.read_csv('./Dataset/House_Price_Dataset.csv')"
   ]
  },
  {
   "cell_type": "code",
   "execution_count": 967,
   "id": "close-tablet",
   "metadata": {},
   "outputs": [
    {
     "data": {
      "text/html": [
       "<div>\n",
       "<style scoped>\n",
       "    .dataframe tbody tr th:only-of-type {\n",
       "        vertical-align: middle;\n",
       "    }\n",
       "\n",
       "    .dataframe tbody tr th {\n",
       "        vertical-align: top;\n",
       "    }\n",
       "\n",
       "    .dataframe thead th {\n",
       "        text-align: right;\n",
       "    }\n",
       "</style>\n",
       "<table border=\"1\" class=\"dataframe\">\n",
       "  <thead>\n",
       "    <tr style=\"text-align: right;\">\n",
       "      <th></th>\n",
       "      <th>Suburb</th>\n",
       "      <th>Address</th>\n",
       "      <th>Rooms</th>\n",
       "      <th>Type</th>\n",
       "      <th>Price</th>\n",
       "      <th>Method</th>\n",
       "      <th>Seller</th>\n",
       "      <th>Date</th>\n",
       "      <th>Distance</th>\n",
       "      <th>Postcode</th>\n",
       "      <th>...</th>\n",
       "      <th>Bathroom</th>\n",
       "      <th>Car</th>\n",
       "      <th>Landsize</th>\n",
       "      <th>BuildingArea</th>\n",
       "      <th>YearBuilt</th>\n",
       "      <th>CouncilArea</th>\n",
       "      <th>Latitude</th>\n",
       "      <th>Longitude</th>\n",
       "      <th>RegionName</th>\n",
       "      <th>PropertyCount</th>\n",
       "    </tr>\n",
       "  </thead>\n",
       "  <tbody>\n",
       "    <tr>\n",
       "      <th>0</th>\n",
       "      <td>Abbotsford</td>\n",
       "      <td>68 Studley St</td>\n",
       "      <td>2</td>\n",
       "      <td>h</td>\n",
       "      <td>NaN</td>\n",
       "      <td>SS</td>\n",
       "      <td>Jellis</td>\n",
       "      <td>03/09/2016</td>\n",
       "      <td>2.5</td>\n",
       "      <td>3067.0</td>\n",
       "      <td>...</td>\n",
       "      <td>1.0</td>\n",
       "      <td>1.0</td>\n",
       "      <td>126.0</td>\n",
       "      <td>NaN</td>\n",
       "      <td>NaN</td>\n",
       "      <td>Yarra City Council</td>\n",
       "      <td>-37.8014</td>\n",
       "      <td>144.9958</td>\n",
       "      <td>Northern Metropolitan</td>\n",
       "      <td>4019.0</td>\n",
       "    </tr>\n",
       "    <tr>\n",
       "      <th>1</th>\n",
       "      <td>Abbotsford</td>\n",
       "      <td>85 Turner St</td>\n",
       "      <td>2</td>\n",
       "      <td>h</td>\n",
       "      <td>1480000.0</td>\n",
       "      <td>S</td>\n",
       "      <td>Biggin</td>\n",
       "      <td>03/12/2016</td>\n",
       "      <td>2.5</td>\n",
       "      <td>3067.0</td>\n",
       "      <td>...</td>\n",
       "      <td>1.0</td>\n",
       "      <td>1.0</td>\n",
       "      <td>202.0</td>\n",
       "      <td>NaN</td>\n",
       "      <td>NaN</td>\n",
       "      <td>Yarra City Council</td>\n",
       "      <td>-37.7996</td>\n",
       "      <td>144.9984</td>\n",
       "      <td>Northern Metropolitan</td>\n",
       "      <td>4019.0</td>\n",
       "    </tr>\n",
       "    <tr>\n",
       "      <th>2</th>\n",
       "      <td>Abbotsford</td>\n",
       "      <td>25 Bloomburg St</td>\n",
       "      <td>2</td>\n",
       "      <td>h</td>\n",
       "      <td>1035000.0</td>\n",
       "      <td>S</td>\n",
       "      <td>Biggin</td>\n",
       "      <td>04/02/2016</td>\n",
       "      <td>2.5</td>\n",
       "      <td>3067.0</td>\n",
       "      <td>...</td>\n",
       "      <td>1.0</td>\n",
       "      <td>0.0</td>\n",
       "      <td>156.0</td>\n",
       "      <td>79.0</td>\n",
       "      <td>1900.0</td>\n",
       "      <td>Yarra City Council</td>\n",
       "      <td>-37.8079</td>\n",
       "      <td>144.9934</td>\n",
       "      <td>Northern Metropolitan</td>\n",
       "      <td>4019.0</td>\n",
       "    </tr>\n",
       "    <tr>\n",
       "      <th>3</th>\n",
       "      <td>Abbotsford</td>\n",
       "      <td>18/659 Victoria St</td>\n",
       "      <td>3</td>\n",
       "      <td>u</td>\n",
       "      <td>NaN</td>\n",
       "      <td>VB</td>\n",
       "      <td>Rounds</td>\n",
       "      <td>04/02/2016</td>\n",
       "      <td>2.5</td>\n",
       "      <td>3067.0</td>\n",
       "      <td>...</td>\n",
       "      <td>2.0</td>\n",
       "      <td>1.0</td>\n",
       "      <td>0.0</td>\n",
       "      <td>NaN</td>\n",
       "      <td>NaN</td>\n",
       "      <td>Yarra City Council</td>\n",
       "      <td>-37.8114</td>\n",
       "      <td>145.0116</td>\n",
       "      <td>Northern Metropolitan</td>\n",
       "      <td>4019.0</td>\n",
       "    </tr>\n",
       "    <tr>\n",
       "      <th>4</th>\n",
       "      <td>Abbotsford</td>\n",
       "      <td>5 Charles St</td>\n",
       "      <td>3</td>\n",
       "      <td>h</td>\n",
       "      <td>1465000.0</td>\n",
       "      <td>SP</td>\n",
       "      <td>Biggin</td>\n",
       "      <td>04/03/2017</td>\n",
       "      <td>2.5</td>\n",
       "      <td>3067.0</td>\n",
       "      <td>...</td>\n",
       "      <td>2.0</td>\n",
       "      <td>0.0</td>\n",
       "      <td>134.0</td>\n",
       "      <td>150.0</td>\n",
       "      <td>1900.0</td>\n",
       "      <td>Yarra City Council</td>\n",
       "      <td>-37.8093</td>\n",
       "      <td>144.9944</td>\n",
       "      <td>Northern Metropolitan</td>\n",
       "      <td>4019.0</td>\n",
       "    </tr>\n",
       "  </tbody>\n",
       "</table>\n",
       "<p>5 rows × 21 columns</p>\n",
       "</div>"
      ],
      "text/plain": [
       "       Suburb             Address  Rooms Type      Price Method  Seller  \\\n",
       "0  Abbotsford       68 Studley St      2    h        NaN     SS  Jellis   \n",
       "1  Abbotsford        85 Turner St      2    h  1480000.0      S  Biggin   \n",
       "2  Abbotsford     25 Bloomburg St      2    h  1035000.0      S  Biggin   \n",
       "3  Abbotsford  18/659 Victoria St      3    u        NaN     VB  Rounds   \n",
       "4  Abbotsford        5 Charles St      3    h  1465000.0     SP  Biggin   \n",
       "\n",
       "         Date  Distance  Postcode  ...  Bathroom  Car  Landsize  BuildingArea  \\\n",
       "0  03/09/2016       2.5    3067.0  ...       1.0  1.0     126.0           NaN   \n",
       "1  03/12/2016       2.5    3067.0  ...       1.0  1.0     202.0           NaN   \n",
       "2  04/02/2016       2.5    3067.0  ...       1.0  0.0     156.0          79.0   \n",
       "3  04/02/2016       2.5    3067.0  ...       2.0  1.0       0.0           NaN   \n",
       "4  04/03/2017       2.5    3067.0  ...       2.0  0.0     134.0         150.0   \n",
       "\n",
       "   YearBuilt         CouncilArea Latitude  Longitude             RegionName  \\\n",
       "0        NaN  Yarra City Council -37.8014   144.9958  Northern Metropolitan   \n",
       "1        NaN  Yarra City Council -37.7996   144.9984  Northern Metropolitan   \n",
       "2     1900.0  Yarra City Council -37.8079   144.9934  Northern Metropolitan   \n",
       "3        NaN  Yarra City Council -37.8114   145.0116  Northern Metropolitan   \n",
       "4     1900.0  Yarra City Council -37.8093   144.9944  Northern Metropolitan   \n",
       "\n",
       "  PropertyCount  \n",
       "0        4019.0  \n",
       "1        4019.0  \n",
       "2        4019.0  \n",
       "3        4019.0  \n",
       "4        4019.0  \n",
       "\n",
       "[5 rows x 21 columns]"
      ]
     },
     "execution_count": 967,
     "metadata": {},
     "output_type": "execute_result"
    }
   ],
   "source": [
    "data.head()"
   ]
  },
  {
   "cell_type": "code",
   "execution_count": 968,
   "id": "three-tsunami",
   "metadata": {},
   "outputs": [],
   "source": [
    "data = data[~data['Price'].isnull()]"
   ]
  },
  {
   "cell_type": "code",
   "execution_count": 969,
   "id": "split-point",
   "metadata": {},
   "outputs": [
    {
     "name": "stdout",
     "output_type": "stream",
     "text": [
      "<class 'pandas.core.frame.DataFrame'>\n",
      "Int64Index: 27247 entries, 1 to 34856\n",
      "Data columns (total 21 columns):\n",
      " #   Column         Non-Null Count  Dtype  \n",
      "---  ------         --------------  -----  \n",
      " 0   Suburb         27247 non-null  object \n",
      " 1   Address        27247 non-null  object \n",
      " 2   Rooms          27247 non-null  int64  \n",
      " 3   Type           27247 non-null  object \n",
      " 4   Price          27247 non-null  float64\n",
      " 5   Method         27247 non-null  object \n",
      " 6   Seller         27247 non-null  object \n",
      " 7   Date           27247 non-null  object \n",
      " 8   Distance       27246 non-null  float64\n",
      " 9   Postcode       27246 non-null  float64\n",
      " 10  Rooms2         20806 non-null  float64\n",
      " 11  Bathroom       20800 non-null  float64\n",
      " 12  Car            20423 non-null  float64\n",
      " 13  Landsize       17982 non-null  float64\n",
      " 14  BuildingArea   10656 non-null  float64\n",
      " 15  YearBuilt      12084 non-null  float64\n",
      " 16  CouncilArea    27244 non-null  object \n",
      " 17  Latitude       20993 non-null  float64\n",
      " 18  Longitude      20993 non-null  float64\n",
      " 19  RegionName     27244 non-null  object \n",
      " 20  PropertyCount  27244 non-null  float64\n",
      "dtypes: float64(12), int64(1), object(8)\n",
      "memory usage: 4.6+ MB\n"
     ]
    }
   ],
   "source": [
    "data.info()"
   ]
  },
  {
   "cell_type": "code",
   "execution_count": 970,
   "id": "expanded-terror",
   "metadata": {},
   "outputs": [],
   "source": [
    "data['Rooms'] = (data.apply(lambda row: (row.Rooms + row.Rooms2) / 2  if row.Rooms2 else row.Rooms, axis=1))"
   ]
  },
  {
   "cell_type": "code",
   "execution_count": 971,
   "id": "illegal-catering",
   "metadata": {},
   "outputs": [
    {
     "data": {
      "text/html": [
       "<div>\n",
       "<style scoped>\n",
       "    .dataframe tbody tr th:only-of-type {\n",
       "        vertical-align: middle;\n",
       "    }\n",
       "\n",
       "    .dataframe tbody tr th {\n",
       "        vertical-align: top;\n",
       "    }\n",
       "\n",
       "    .dataframe thead th {\n",
       "        text-align: right;\n",
       "    }\n",
       "</style>\n",
       "<table border=\"1\" class=\"dataframe\">\n",
       "  <thead>\n",
       "    <tr style=\"text-align: right;\">\n",
       "      <th></th>\n",
       "      <th>Suburb</th>\n",
       "      <th>Address</th>\n",
       "      <th>Rooms</th>\n",
       "      <th>Type</th>\n",
       "      <th>Price</th>\n",
       "      <th>Method</th>\n",
       "      <th>Seller</th>\n",
       "      <th>Date</th>\n",
       "      <th>Distance</th>\n",
       "      <th>Postcode</th>\n",
       "      <th>...</th>\n",
       "      <th>Bathroom</th>\n",
       "      <th>Car</th>\n",
       "      <th>Landsize</th>\n",
       "      <th>BuildingArea</th>\n",
       "      <th>YearBuilt</th>\n",
       "      <th>CouncilArea</th>\n",
       "      <th>Latitude</th>\n",
       "      <th>Longitude</th>\n",
       "      <th>RegionName</th>\n",
       "      <th>PropertyCount</th>\n",
       "    </tr>\n",
       "  </thead>\n",
       "  <tbody>\n",
       "    <tr>\n",
       "      <th>1</th>\n",
       "      <td>Abbotsford</td>\n",
       "      <td>85 Turner St</td>\n",
       "      <td>2.0</td>\n",
       "      <td>h</td>\n",
       "      <td>1480000.0</td>\n",
       "      <td>S</td>\n",
       "      <td>Biggin</td>\n",
       "      <td>03/12/2016</td>\n",
       "      <td>2.5</td>\n",
       "      <td>3067.0</td>\n",
       "      <td>...</td>\n",
       "      <td>1.0</td>\n",
       "      <td>1.0</td>\n",
       "      <td>202.0</td>\n",
       "      <td>NaN</td>\n",
       "      <td>NaN</td>\n",
       "      <td>Yarra City Council</td>\n",
       "      <td>-37.7996</td>\n",
       "      <td>144.9984</td>\n",
       "      <td>Northern Metropolitan</td>\n",
       "      <td>4019.0</td>\n",
       "    </tr>\n",
       "    <tr>\n",
       "      <th>2</th>\n",
       "      <td>Abbotsford</td>\n",
       "      <td>25 Bloomburg St</td>\n",
       "      <td>2.0</td>\n",
       "      <td>h</td>\n",
       "      <td>1035000.0</td>\n",
       "      <td>S</td>\n",
       "      <td>Biggin</td>\n",
       "      <td>04/02/2016</td>\n",
       "      <td>2.5</td>\n",
       "      <td>3067.0</td>\n",
       "      <td>...</td>\n",
       "      <td>1.0</td>\n",
       "      <td>0.0</td>\n",
       "      <td>156.0</td>\n",
       "      <td>79.0</td>\n",
       "      <td>1900.0</td>\n",
       "      <td>Yarra City Council</td>\n",
       "      <td>-37.8079</td>\n",
       "      <td>144.9934</td>\n",
       "      <td>Northern Metropolitan</td>\n",
       "      <td>4019.0</td>\n",
       "    </tr>\n",
       "    <tr>\n",
       "      <th>4</th>\n",
       "      <td>Abbotsford</td>\n",
       "      <td>5 Charles St</td>\n",
       "      <td>3.0</td>\n",
       "      <td>h</td>\n",
       "      <td>1465000.0</td>\n",
       "      <td>SP</td>\n",
       "      <td>Biggin</td>\n",
       "      <td>04/03/2017</td>\n",
       "      <td>2.5</td>\n",
       "      <td>3067.0</td>\n",
       "      <td>...</td>\n",
       "      <td>2.0</td>\n",
       "      <td>0.0</td>\n",
       "      <td>134.0</td>\n",
       "      <td>150.0</td>\n",
       "      <td>1900.0</td>\n",
       "      <td>Yarra City Council</td>\n",
       "      <td>-37.8093</td>\n",
       "      <td>144.9944</td>\n",
       "      <td>Northern Metropolitan</td>\n",
       "      <td>4019.0</td>\n",
       "    </tr>\n",
       "    <tr>\n",
       "      <th>5</th>\n",
       "      <td>Abbotsford</td>\n",
       "      <td>40 Federation La</td>\n",
       "      <td>3.0</td>\n",
       "      <td>h</td>\n",
       "      <td>850000.0</td>\n",
       "      <td>PI</td>\n",
       "      <td>Biggin</td>\n",
       "      <td>04/03/2017</td>\n",
       "      <td>2.5</td>\n",
       "      <td>3067.0</td>\n",
       "      <td>...</td>\n",
       "      <td>2.0</td>\n",
       "      <td>1.0</td>\n",
       "      <td>94.0</td>\n",
       "      <td>NaN</td>\n",
       "      <td>NaN</td>\n",
       "      <td>Yarra City Council</td>\n",
       "      <td>-37.7969</td>\n",
       "      <td>144.9969</td>\n",
       "      <td>Northern Metropolitan</td>\n",
       "      <td>4019.0</td>\n",
       "    </tr>\n",
       "    <tr>\n",
       "      <th>6</th>\n",
       "      <td>Abbotsford</td>\n",
       "      <td>55a Park St</td>\n",
       "      <td>3.5</td>\n",
       "      <td>h</td>\n",
       "      <td>1600000.0</td>\n",
       "      <td>VB</td>\n",
       "      <td>Nelson</td>\n",
       "      <td>04/06/2016</td>\n",
       "      <td>2.5</td>\n",
       "      <td>3067.0</td>\n",
       "      <td>...</td>\n",
       "      <td>1.0</td>\n",
       "      <td>2.0</td>\n",
       "      <td>120.0</td>\n",
       "      <td>142.0</td>\n",
       "      <td>2014.0</td>\n",
       "      <td>Yarra City Council</td>\n",
       "      <td>-37.8072</td>\n",
       "      <td>144.9941</td>\n",
       "      <td>Northern Metropolitan</td>\n",
       "      <td>4019.0</td>\n",
       "    </tr>\n",
       "  </tbody>\n",
       "</table>\n",
       "<p>5 rows × 21 columns</p>\n",
       "</div>"
      ],
      "text/plain": [
       "       Suburb           Address  Rooms Type      Price Method  Seller  \\\n",
       "1  Abbotsford      85 Turner St    2.0    h  1480000.0      S  Biggin   \n",
       "2  Abbotsford   25 Bloomburg St    2.0    h  1035000.0      S  Biggin   \n",
       "4  Abbotsford      5 Charles St    3.0    h  1465000.0     SP  Biggin   \n",
       "5  Abbotsford  40 Federation La    3.0    h   850000.0     PI  Biggin   \n",
       "6  Abbotsford       55a Park St    3.5    h  1600000.0     VB  Nelson   \n",
       "\n",
       "         Date  Distance  Postcode  ...  Bathroom  Car  Landsize  BuildingArea  \\\n",
       "1  03/12/2016       2.5    3067.0  ...       1.0  1.0     202.0           NaN   \n",
       "2  04/02/2016       2.5    3067.0  ...       1.0  0.0     156.0          79.0   \n",
       "4  04/03/2017       2.5    3067.0  ...       2.0  0.0     134.0         150.0   \n",
       "5  04/03/2017       2.5    3067.0  ...       2.0  1.0      94.0           NaN   \n",
       "6  04/06/2016       2.5    3067.0  ...       1.0  2.0     120.0         142.0   \n",
       "\n",
       "   YearBuilt         CouncilArea Latitude  Longitude             RegionName  \\\n",
       "1        NaN  Yarra City Council -37.7996   144.9984  Northern Metropolitan   \n",
       "2     1900.0  Yarra City Council -37.8079   144.9934  Northern Metropolitan   \n",
       "4     1900.0  Yarra City Council -37.8093   144.9944  Northern Metropolitan   \n",
       "5        NaN  Yarra City Council -37.7969   144.9969  Northern Metropolitan   \n",
       "6     2014.0  Yarra City Council -37.8072   144.9941  Northern Metropolitan   \n",
       "\n",
       "  PropertyCount  \n",
       "1        4019.0  \n",
       "2        4019.0  \n",
       "4        4019.0  \n",
       "5        4019.0  \n",
       "6        4019.0  \n",
       "\n",
       "[5 rows x 21 columns]"
      ]
     },
     "execution_count": 971,
     "metadata": {},
     "output_type": "execute_result"
    }
   ],
   "source": [
    "data.head()"
   ]
  },
  {
   "cell_type": "code",
   "execution_count": 972,
   "id": "spectacular-bikini",
   "metadata": {},
   "outputs": [
    {
     "name": "stdout",
     "output_type": "stream",
     "text": [
      "<class 'pandas.core.frame.DataFrame'>\n",
      "Int64Index: 27247 entries, 1 to 34856\n",
      "Data columns (total 18 columns):\n",
      " #   Column         Non-Null Count  Dtype  \n",
      "---  ------         --------------  -----  \n",
      " 0   Suburb         27247 non-null  object \n",
      " 1   Rooms          20806 non-null  float64\n",
      " 2   Type           27247 non-null  object \n",
      " 3   Price          27247 non-null  float64\n",
      " 4   Method         27247 non-null  object \n",
      " 5   Seller         27247 non-null  object \n",
      " 6   Distance       27246 non-null  float64\n",
      " 7   Postcode       27246 non-null  float64\n",
      " 8   Bathroom       20800 non-null  float64\n",
      " 9   Car            20423 non-null  float64\n",
      " 10  Landsize       17982 non-null  float64\n",
      " 11  BuildingArea   10656 non-null  float64\n",
      " 12  YearBuilt      12084 non-null  float64\n",
      " 13  CouncilArea    27244 non-null  object \n",
      " 14  Latitude       20993 non-null  float64\n",
      " 15  Longitude      20993 non-null  float64\n",
      " 16  RegionName     27244 non-null  object \n",
      " 17  PropertyCount  27244 non-null  float64\n",
      "dtypes: float64(12), object(6)\n",
      "memory usage: 3.9+ MB\n"
     ]
    }
   ],
   "source": [
    "data = data.drop(columns=['Date', 'Rooms2', 'Address'])\n",
    "data.info()"
   ]
  },
  {
   "cell_type": "code",
   "execution_count": 973,
   "id": "hungarian-wells",
   "metadata": {},
   "outputs": [
    {
     "data": {
      "text/plain": [
       "<AxesSubplot:>"
      ]
     },
     "execution_count": 973,
     "metadata": {},
     "output_type": "execute_result"
    },
    {
     "data": {
      "image/png": "[encoded data removed]",
      "text/plain": [
       "<Figure size 432x288 with 1 Axes>"
      ]
     },
     "metadata": {
      "needs_background": "light"
     },
     "output_type": "display_data"
    }
   ],
   "source": [
    "data['Price'].hist(bins = 30)"
   ]
  },
  {
   "cell_type": "code",
   "execution_count": 974,
   "id": "foster-washington",
   "metadata": {},
   "outputs": [
    {
     "data": {
      "text/plain": [
       "'min 310000.0 — max 3400540.000000001'"
      ]
     },
     "execution_count": 974,
     "metadata": {},
     "output_type": "execute_result"
    }
   ],
   "source": [
    "price_upper = data[\"Price\"].quantile(0.99)\n",
    "price_lower = data[\"Price\"].quantile(0.01)\n",
    "f'min {price_lower} — max {price_upper}'"
   ]
  },
  {
   "cell_type": "code",
   "execution_count": 975,
   "id": "minute-juvenile",
   "metadata": {},
   "outputs": [],
   "source": [
    "data = data[(data[\"Price\"] < price_upper) & (data[\"Price\"] > price_lower)]"
   ]
  },
  {
   "cell_type": "code",
   "execution_count": 976,
   "id": "informal-polls",
   "metadata": {},
   "outputs": [
    {
     "data": {
      "text/plain": [
       "<AxesSubplot:>"
      ]
     },
     "execution_count": 976,
     "metadata": {},
     "output_type": "execute_result"
    },
    {
     "data": {
      "image/png": "[encoded data removed]",
      "text/plain": [
       "<Figure size 720x720 with 2 Axes>"
      ]
     },
     "metadata": {
      "needs_background": "light"
     },
     "output_type": "display_data"
    }
   ],
   "source": [
    "corrmat = data.corr()\n",
    "f, ax = plt.subplots(figsize=(10, 10))\n",
    "sbrn.heatmap(corrmat, annot=True, cmap=sbrn.diverging_palette(220, 20, as_cmap=True), vmin=-1, vmax=1)"
   ]
  },
  {
   "cell_type": "code",
   "execution_count": 977,
   "id": "devoted-phrase",
   "metadata": {},
   "outputs": [],
   "source": [
    "data = data.drop(columns=['PropertyCount', 'Postcode'])"
   ]
  },
  {
   "cell_type": "code",
   "execution_count": 978,
   "id": "bright-furniture",
   "metadata": {},
   "outputs": [
    {
     "name": "stdout",
     "output_type": "stream",
     "text": [
      "<class 'pandas.core.frame.DataFrame'>\n",
      "Int64Index: 26687 entries, 1 to 34856\n",
      "Data columns (total 16 columns):\n",
      " #   Column        Non-Null Count  Dtype  \n",
      "---  ------        --------------  -----  \n",
      " 0   Suburb        26687 non-null  object \n",
      " 1   Rooms         20393 non-null  float64\n",
      " 2   Type          26687 non-null  object \n",
      " 3   Price         26687 non-null  float64\n",
      " 4   Method        26687 non-null  object \n",
      " 5   Seller        26687 non-null  object \n",
      " 6   Distance      26686 non-null  float64\n",
      " 7   Bathroom      20388 non-null  float64\n",
      " 8   Car           20014 non-null  float64\n",
      " 9   Landsize      17615 non-null  float64\n",
      " 10  BuildingArea  10429 non-null  float64\n",
      " 11  YearBuilt     11818 non-null  float64\n",
      " 12  CouncilArea   26684 non-null  object \n",
      " 13  Latitude      20575 non-null  float64\n",
      " 14  Longitude     20575 non-null  float64\n",
      " 15  RegionName    26684 non-null  object \n",
      "dtypes: float64(10), object(6)\n",
      "memory usage: 3.5+ MB\n"
     ]
    }
   ],
   "source": [
    "data.info()"
   ]
  },
  {
   "cell_type": "code",
   "execution_count": 979,
   "id": "documented-catering",
   "metadata": {},
   "outputs": [],
   "source": [
    "data = data[~data['Rooms'].isnull()]\n",
    "data = data[~data['Bathroom'].isnull()]\n",
    "data = data[~data['Latitude'].isnull()]\n",
    "data = data[~data['Longitude'].isnull()]"
   ]
  },
  {
   "cell_type": "code",
   "execution_count": 980,
   "id": "collective-density",
   "metadata": {},
   "outputs": [
    {
     "name": "stdout",
     "output_type": "stream",
     "text": [
      "<class 'pandas.core.frame.DataFrame'>\n",
      "Int64Index: 20366 entries, 1 to 34856\n",
      "Data columns (total 16 columns):\n",
      " #   Column        Non-Null Count  Dtype  \n",
      "---  ------        --------------  -----  \n",
      " 0   Suburb        20366 non-null  object \n",
      " 1   Rooms         20366 non-null  float64\n",
      " 2   Type          20366 non-null  object \n",
      " 3   Price         20366 non-null  float64\n",
      " 4   Method        20366 non-null  object \n",
      " 5   Seller        20366 non-null  object \n",
      " 6   Distance      20366 non-null  float64\n",
      " 7   Bathroom      20366 non-null  float64\n",
      " 8   Car           19992 non-null  float64\n",
      " 9   Landsize      17585 non-null  float64\n",
      " 10  BuildingArea  10420 non-null  float64\n",
      " 11  YearBuilt     11809 non-null  float64\n",
      " 12  CouncilArea   20366 non-null  object \n",
      " 13  Latitude      20366 non-null  float64\n",
      " 14  Longitude     20366 non-null  float64\n",
      " 15  RegionName    20366 non-null  object \n",
      "dtypes: float64(10), object(6)\n",
      "memory usage: 2.6+ MB\n"
     ]
    }
   ],
   "source": [
    "data.info()"
   ]
  },
  {
   "cell_type": "markdown",
   "id": "essential-brush",
   "metadata": {},
   "source": [
    "## Hot Encoding"
   ]
  },
  {
   "cell_type": "code",
   "execution_count": 981,
   "id": "collaborative-graduate",
   "metadata": {},
   "outputs": [],
   "source": [
    "def hot_encoder(category, df):\n",
    "    ohe = OneHotEncoder()\n",
    "    print(np.unique(df[category].astype(str)))\n",
    "    category_col = ohe.fit_transform(df[category].astype(str).values.reshape(-1, 1)).toarray()\n",
    "    for i in range(len(category_col[0])):\n",
    "        arr = []\n",
    "        for x in category_col:\n",
    "            arr.append(x[i])\n",
    "        df[f'{category}{i}'] = arr"
   ]
  },
  {
   "cell_type": "markdown",
   "id": "pending-civilization",
   "metadata": {},
   "source": [
    "## Hot Encode Type"
   ]
  },
  {
   "cell_type": "code",
   "execution_count": 982,
   "id": "decent-charge",
   "metadata": {},
   "outputs": [
    {
     "name": "stdout",
     "output_type": "stream",
     "text": [
      "['h' 't' 'u']\n"
     ]
    }
   ],
   "source": [
    "hot_encoder('Type', data)"
   ]
  },
  {
   "cell_type": "markdown",
   "id": "removable-budget",
   "metadata": {},
   "source": [
    "## Hot Encode CouncilArea"
   ]
  },
  {
   "cell_type": "code",
   "execution_count": 984,
   "id": "competitive-photography",
   "metadata": {},
   "outputs": [
    {
     "name": "stdout",
     "output_type": "stream",
     "text": [
      "['Banyule City Council' 'Bayside City Council' 'Boroondara City Council'\n",
      " 'Brimbank City Council' 'Cardinia Shire Council' 'Casey City Council'\n",
      " 'Darebin City Council' 'Frankston City Council' 'Glen Eira City Council'\n",
      " 'Greater Dandenong City Council' 'Hobsons Bay City Council'\n",
      " 'Hume City Council' 'Kingston City Council' 'Knox City Council'\n",
      " 'Macedon Ranges Shire Council' 'Manningham City Council'\n",
      " 'Maribyrnong City Council' 'Maroondah City Council'\n",
      " 'Melbourne City Council' 'Melton City Council' 'Mitchell Shire Council'\n",
      " 'Monash City Council' 'Moonee Valley City Council'\n",
      " 'Moorabool Shire Council' 'Moreland City Council'\n",
      " 'Nillumbik Shire Council' 'Port Phillip City Council'\n",
      " 'Stonnington City Council' 'Whitehorse City Council'\n",
      " 'Whittlesea City Council' 'Wyndham City Council' 'Yarra City Council'\n",
      " 'Yarra Ranges Shire Council']\n"
     ]
    }
   ],
   "source": [
    "hot_encoder('CouncilArea', data)"
   ]
  },
  {
   "cell_type": "code",
   "execution_count": 985,
   "id": "foster-national",
   "metadata": {},
   "outputs": [
    {
     "name": "stdout",
     "output_type": "stream",
     "text": [
      "<class 'pandas.core.frame.DataFrame'>\n",
      "Int64Index: 20366 entries, 1 to 34856\n",
      "Data columns (total 45 columns):\n",
      " #   Column         Non-Null Count  Dtype  \n",
      "---  ------         --------------  -----  \n",
      " 0   Rooms          20366 non-null  float64\n",
      " 1   Price          20366 non-null  float64\n",
      " 2   Distance       20366 non-null  float64\n",
      " 3   Bathroom       20366 non-null  float64\n",
      " 4   Car            19992 non-null  float64\n",
      " 5   Landsize       17585 non-null  float64\n",
      " 6   YearBuilt      11809 non-null  float64\n",
      " 7   Latitude       20366 non-null  float64\n",
      " 8   Longitude      20366 non-null  float64\n",
      " 9   Type0          20366 non-null  float64\n",
      " 10  Type1          20366 non-null  float64\n",
      " 11  Type2          20366 non-null  float64\n",
      " 12  CouncilArea0   20366 non-null  float64\n",
      " 13  CouncilArea1   20366 non-null  float64\n",
      " 14  CouncilArea2   20366 non-null  float64\n",
      " 15  CouncilArea3   20366 non-null  float64\n",
      " 16  CouncilArea4   20366 non-null  float64\n",
      " 17  CouncilArea5   20366 non-null  float64\n",
      " 18  CouncilArea6   20366 non-null  float64\n",
      " 19  CouncilArea7   20366 non-null  float64\n",
      " 20  CouncilArea8   20366 non-null  float64\n",
      " 21  CouncilArea9   20366 non-null  float64\n",
      " 22  CouncilArea10  20366 non-null  float64\n",
      " 23  CouncilArea11  20366 non-null  float64\n",
      " 24  CouncilArea12  20366 non-null  float64\n",
      " 25  CouncilArea13  20366 non-null  float64\n",
      " 26  CouncilArea14  20366 non-null  float64\n",
      " 27  CouncilArea15  20366 non-null  float64\n",
      " 28  CouncilArea16  20366 non-null  float64\n",
      " 29  CouncilArea17  20366 non-null  float64\n",
      " 30  CouncilArea18  20366 non-null  float64\n",
      " 31  CouncilArea19  20366 non-null  float64\n",
      " 32  CouncilArea20  20366 non-null  float64\n",
      " 33  CouncilArea21  20366 non-null  float64\n",
      " 34  CouncilArea22  20366 non-null  float64\n",
      " 35  CouncilArea23  20366 non-null  float64\n",
      " 36  CouncilArea24  20366 non-null  float64\n",
      " 37  CouncilArea25  20366 non-null  float64\n",
      " 38  CouncilArea26  20366 non-null  float64\n",
      " 39  CouncilArea27  20366 non-null  float64\n",
      " 40  CouncilArea28  20366 non-null  float64\n",
      " 41  CouncilArea29  20366 non-null  float64\n",
      " 42  CouncilArea30  20366 non-null  float64\n",
      " 43  CouncilArea31  20366 non-null  float64\n",
      " 44  CouncilArea32  20366 non-null  float64\n",
      "dtypes: float64(45)\n",
      "memory usage: 7.1 MB\n"
     ]
    }
   ],
   "source": [
    "data = data.drop(columns=['Type', 'Method', 'CouncilArea', 'Suburb', 'RegionName', 'Seller', 'BuildingArea'])\n",
    "data.info()"
   ]
  },
  {
   "cell_type": "code",
   "execution_count": 986,
   "id": "protecting-license",
   "metadata": {},
   "outputs": [
    {
     "data": {
      "text/plain": [
       "<AxesSubplot:>"
      ]
     },
     "execution_count": 986,
     "metadata": {},
     "output_type": "execute_result"
    },
    {
     "data": {
      "image/png": "[encoded data removed]",
      "text/plain": [
       "<Figure size 1080x1080 with 2 Axes>"
      ]
     },
     "metadata": {
      "needs_background": "light"
     },
     "output_type": "display_data"
    }
   ],
   "source": [
    "corrmat = data.corr()\n",
    "f, ax = plt.subplots(figsize=(15, 15))\n",
    "sbrn.heatmap(corrmat, cmap=sbrn.diverging_palette(220, 20, as_cmap=True), vmin=-1, vmax=1)"
   ]
  },
  {
   "cell_type": "code",
   "execution_count": 987,
   "id": "excellent-limit",
   "metadata": {},
   "outputs": [
    {
     "data": {
      "text/html": [
       "<div>\n",
       "<style scoped>\n",
       "    .dataframe tbody tr th:only-of-type {\n",
       "        vertical-align: middle;\n",
       "    }\n",
       "\n",
       "    .dataframe tbody tr th {\n",
       "        vertical-align: top;\n",
       "    }\n",
       "\n",
       "    .dataframe thead th {\n",
       "        text-align: right;\n",
       "    }\n",
       "</style>\n",
       "<table border=\"1\" class=\"dataframe\">\n",
       "  <thead>\n",
       "    <tr style=\"text-align: right;\">\n",
       "      <th></th>\n",
       "      <th>Rooms</th>\n",
       "      <th>Price</th>\n",
       "      <th>Distance</th>\n",
       "      <th>Bathroom</th>\n",
       "      <th>Car</th>\n",
       "      <th>Landsize</th>\n",
       "      <th>YearBuilt</th>\n",
       "      <th>Latitude</th>\n",
       "      <th>Longitude</th>\n",
       "      <th>Type0</th>\n",
       "      <th>...</th>\n",
       "      <th>CouncilArea23</th>\n",
       "      <th>CouncilArea24</th>\n",
       "      <th>CouncilArea25</th>\n",
       "      <th>CouncilArea26</th>\n",
       "      <th>CouncilArea27</th>\n",
       "      <th>CouncilArea28</th>\n",
       "      <th>CouncilArea29</th>\n",
       "      <th>CouncilArea30</th>\n",
       "      <th>CouncilArea31</th>\n",
       "      <th>CouncilArea32</th>\n",
       "    </tr>\n",
       "  </thead>\n",
       "  <tbody>\n",
       "    <tr>\n",
       "      <th>1</th>\n",
       "      <td>2.0</td>\n",
       "      <td>1480000.0</td>\n",
       "      <td>2.5</td>\n",
       "      <td>1.0</td>\n",
       "      <td>1.0</td>\n",
       "      <td>202.0</td>\n",
       "      <td>1966.751715</td>\n",
       "      <td>-37.7996</td>\n",
       "      <td>144.9984</td>\n",
       "      <td>1.0</td>\n",
       "      <td>...</td>\n",
       "      <td>0.0</td>\n",
       "      <td>0.0</td>\n",
       "      <td>0.0</td>\n",
       "      <td>0.0</td>\n",
       "      <td>0.0</td>\n",
       "      <td>0.0</td>\n",
       "      <td>0.0</td>\n",
       "      <td>0.0</td>\n",
       "      <td>1.0</td>\n",
       "      <td>0.0</td>\n",
       "    </tr>\n",
       "    <tr>\n",
       "      <th>2</th>\n",
       "      <td>2.0</td>\n",
       "      <td>1035000.0</td>\n",
       "      <td>2.5</td>\n",
       "      <td>1.0</td>\n",
       "      <td>0.0</td>\n",
       "      <td>156.0</td>\n",
       "      <td>1900.000000</td>\n",
       "      <td>-37.8079</td>\n",
       "      <td>144.9934</td>\n",
       "      <td>1.0</td>\n",
       "      <td>...</td>\n",
       "      <td>0.0</td>\n",
       "      <td>0.0</td>\n",
       "      <td>0.0</td>\n",
       "      <td>0.0</td>\n",
       "      <td>0.0</td>\n",
       "      <td>0.0</td>\n",
       "      <td>0.0</td>\n",
       "      <td>0.0</td>\n",
       "      <td>1.0</td>\n",
       "      <td>0.0</td>\n",
       "    </tr>\n",
       "    <tr>\n",
       "      <th>4</th>\n",
       "      <td>3.0</td>\n",
       "      <td>1465000.0</td>\n",
       "      <td>2.5</td>\n",
       "      <td>2.0</td>\n",
       "      <td>0.0</td>\n",
       "      <td>134.0</td>\n",
       "      <td>1900.000000</td>\n",
       "      <td>-37.8093</td>\n",
       "      <td>144.9944</td>\n",
       "      <td>1.0</td>\n",
       "      <td>...</td>\n",
       "      <td>0.0</td>\n",
       "      <td>0.0</td>\n",
       "      <td>0.0</td>\n",
       "      <td>0.0</td>\n",
       "      <td>0.0</td>\n",
       "      <td>0.0</td>\n",
       "      <td>0.0</td>\n",
       "      <td>0.0</td>\n",
       "      <td>1.0</td>\n",
       "      <td>0.0</td>\n",
       "    </tr>\n",
       "    <tr>\n",
       "      <th>5</th>\n",
       "      <td>3.0</td>\n",
       "      <td>850000.0</td>\n",
       "      <td>2.5</td>\n",
       "      <td>2.0</td>\n",
       "      <td>1.0</td>\n",
       "      <td>94.0</td>\n",
       "      <td>1966.751715</td>\n",
       "      <td>-37.7969</td>\n",
       "      <td>144.9969</td>\n",
       "      <td>1.0</td>\n",
       "      <td>...</td>\n",
       "      <td>0.0</td>\n",
       "      <td>0.0</td>\n",
       "      <td>0.0</td>\n",
       "      <td>0.0</td>\n",
       "      <td>0.0</td>\n",
       "      <td>0.0</td>\n",
       "      <td>0.0</td>\n",
       "      <td>0.0</td>\n",
       "      <td>1.0</td>\n",
       "      <td>0.0</td>\n",
       "    </tr>\n",
       "    <tr>\n",
       "      <th>6</th>\n",
       "      <td>3.5</td>\n",
       "      <td>1600000.0</td>\n",
       "      <td>2.5</td>\n",
       "      <td>1.0</td>\n",
       "      <td>2.0</td>\n",
       "      <td>120.0</td>\n",
       "      <td>2014.000000</td>\n",
       "      <td>-37.8072</td>\n",
       "      <td>144.9941</td>\n",
       "      <td>1.0</td>\n",
       "      <td>...</td>\n",
       "      <td>0.0</td>\n",
       "      <td>0.0</td>\n",
       "      <td>0.0</td>\n",
       "      <td>0.0</td>\n",
       "      <td>0.0</td>\n",
       "      <td>0.0</td>\n",
       "      <td>0.0</td>\n",
       "      <td>0.0</td>\n",
       "      <td>1.0</td>\n",
       "      <td>0.0</td>\n",
       "    </tr>\n",
       "  </tbody>\n",
       "</table>\n",
       "<p>5 rows × 45 columns</p>\n",
       "</div>"
      ],
      "text/plain": [
       "   Rooms      Price  Distance  Bathroom  Car  Landsize    YearBuilt  Latitude  \\\n",
       "1    2.0  1480000.0       2.5       1.0  1.0     202.0  1966.751715  -37.7996   \n",
       "2    2.0  1035000.0       2.5       1.0  0.0     156.0  1900.000000  -37.8079   \n",
       "4    3.0  1465000.0       2.5       2.0  0.0     134.0  1900.000000  -37.8093   \n",
       "5    3.0   850000.0       2.5       2.0  1.0      94.0  1966.751715  -37.7969   \n",
       "6    3.5  1600000.0       2.5       1.0  2.0     120.0  2014.000000  -37.8072   \n",
       "\n",
       "   Longitude  Type0  ...  CouncilArea23  CouncilArea24  CouncilArea25  \\\n",
       "1   144.9984    1.0  ...            0.0            0.0            0.0   \n",
       "2   144.9934    1.0  ...            0.0            0.0            0.0   \n",
       "4   144.9944    1.0  ...            0.0            0.0            0.0   \n",
       "5   144.9969    1.0  ...            0.0            0.0            0.0   \n",
       "6   144.9941    1.0  ...            0.0            0.0            0.0   \n",
       "\n",
       "   CouncilArea26  CouncilArea27  CouncilArea28  CouncilArea29  CouncilArea30  \\\n",
       "1            0.0            0.0            0.0            0.0            0.0   \n",
       "2            0.0            0.0            0.0            0.0            0.0   \n",
       "4            0.0            0.0            0.0            0.0            0.0   \n",
       "5            0.0            0.0            0.0            0.0            0.0   \n",
       "6            0.0            0.0            0.0            0.0            0.0   \n",
       "\n",
       "   CouncilArea31  CouncilArea32  \n",
       "1            1.0            0.0  \n",
       "2            1.0            0.0  \n",
       "4            1.0            0.0  \n",
       "5            1.0            0.0  \n",
       "6            1.0            0.0  \n",
       "\n",
       "[5 rows x 45 columns]"
      ]
     },
     "execution_count": 987,
     "metadata": {},
     "output_type": "execute_result"
    }
   ],
   "source": [
    "data = data.apply(lambda x: x.fillna(x.mean()),axis=0)\n",
    "data.head()"
   ]
  },
  {
   "cell_type": "code",
   "execution_count": 988,
   "id": "distant-relaxation",
   "metadata": {},
   "outputs": [
    {
     "data": {
      "text/plain": [
       "array([[ 2.00000000e+00,  2.50000000e+00,  1.00000000e+00,\n",
       "         1.00000000e+00,  2.02000000e+02,  1.96675171e+03,\n",
       "        -3.77996000e+01,  1.44998400e+02,  1.00000000e+00,\n",
       "         0.00000000e+00,  0.00000000e+00,  0.00000000e+00,\n",
       "         0.00000000e+00,  0.00000000e+00,  0.00000000e+00,\n",
       "         0.00000000e+00,  0.00000000e+00,  0.00000000e+00,\n",
       "         0.00000000e+00,  0.00000000e+00,  0.00000000e+00,\n",
       "         0.00000000e+00,  0.00000000e+00,  0.00000000e+00,\n",
       "         0.00000000e+00,  0.00000000e+00,  0.00000000e+00,\n",
       "         0.00000000e+00,  0.00000000e+00,  0.00000000e+00,\n",
       "         0.00000000e+00,  0.00000000e+00,  0.00000000e+00,\n",
       "         0.00000000e+00,  0.00000000e+00,  0.00000000e+00,\n",
       "         0.00000000e+00,  0.00000000e+00,  0.00000000e+00,\n",
       "         0.00000000e+00,  0.00000000e+00,  0.00000000e+00,\n",
       "         1.00000000e+00,  0.00000000e+00],\n",
       "       [ 2.00000000e+00,  2.50000000e+00,  1.00000000e+00,\n",
       "         0.00000000e+00,  1.56000000e+02,  1.90000000e+03,\n",
       "        -3.78079000e+01,  1.44993400e+02,  1.00000000e+00,\n",
       "         0.00000000e+00,  0.00000000e+00,  0.00000000e+00,\n",
       "         0.00000000e+00,  0.00000000e+00,  0.00000000e+00,\n",
       "         0.00000000e+00,  0.00000000e+00,  0.00000000e+00,\n",
       "         0.00000000e+00,  0.00000000e+00,  0.00000000e+00,\n",
       "         0.00000000e+00,  0.00000000e+00,  0.00000000e+00,\n",
       "         0.00000000e+00,  0.00000000e+00,  0.00000000e+00,\n",
       "         0.00000000e+00,  0.00000000e+00,  0.00000000e+00,\n",
       "         0.00000000e+00,  0.00000000e+00,  0.00000000e+00,\n",
       "         0.00000000e+00,  0.00000000e+00,  0.00000000e+00,\n",
       "         0.00000000e+00,  0.00000000e+00,  0.00000000e+00,\n",
       "         0.00000000e+00,  0.00000000e+00,  0.00000000e+00,\n",
       "         1.00000000e+00,  0.00000000e+00]])"
      ]
     },
     "execution_count": 988,
     "metadata": {},
     "output_type": "execute_result"
    }
   ],
   "source": [
    "Y = data['Price'].to_numpy()\n",
    "X = data.drop(columns=['Price']).to_numpy()\n",
    "X[:2]"
   ]
  },
  {
   "cell_type": "code",
   "execution_count": 989,
   "id": "beneficial-tradition",
   "metadata": {},
   "outputs": [],
   "source": [
    "X_train, X_test, y_train, y_test = train_test_split(X, Y, test_size=0.2, shuffle=False)\n",
    "scaler_x = StandardScaler()\n",
    "scaler_y = StandardScaler()\n",
    "x = scaler_x.fit_transform(X_train)\n",
    "y = scaler_y.fit_transform(y_train.reshape(len(y_train),1))[:,0]"
   ]
  },
  {
   "cell_type": "code",
   "execution_count": 990,
   "id": "laden-rocket",
   "metadata": {},
   "outputs": [
    {
     "name": "stdout",
     "output_type": "stream",
     "text": [
      "(16292, 44)\n"
     ]
    }
   ],
   "source": [
    "print(x.shape)\n",
    "n = x.shape[1]"
   ]
  },
  {
   "cell_type": "code",
   "execution_count": 991,
   "id": "together-grant",
   "metadata": {},
   "outputs": [
    {
     "data": {
      "image/png": "[encoded data removed]",
      "text/plain": [
       "<Figure size 432x288 with 1 Axes>"
      ]
     },
     "metadata": {
      "needs_background": "light"
     },
     "output_type": "display_data"
    }
   ],
   "source": [
    "fig, ax = plt.subplots()\n",
    "hist = ax.hist(y, bins=40, range=[-5, 5])"
   ]
  },
  {
   "cell_type": "markdown",
   "id": "creative-decade",
   "metadata": {},
   "source": [
    "# ANN"
   ]
  },
  {
   "cell_type": "code",
   "execution_count": 992,
   "id": "stable-parker",
   "metadata": {},
   "outputs": [],
   "source": [
    "model = Sequential()\n",
    "model.add(Dense(96, activation='relu', input_shape=(n,)))\n",
    "model.add(Dense(96, activation='relu', kernel_regularizer='l2', kernel_initializer='he_uniform'))\n",
    "model.add(Dense(48, kernel_regularizer='l2', kernel_initializer='he_uniform', activation='relu'))\n",
    "model.add(Dense(48, kernel_regularizer='l2', kernel_initializer='he_uniform', activation='relu'))\n",
    "model.add(Dense(16, kernel_regularizer='l2', kernel_initializer='he_uniform', activation='relu'))\n",
    "model.add(Dense(8, kernel_regularizer='l2', kernel_initializer='he_uniform', activation='relu'))\n",
    "model.add(Dense(1, activation='linear'))"
   ]
  },
  {
   "cell_type": "code",
   "execution_count": 993,
   "id": "checked-migration",
   "metadata": {},
   "outputs": [],
   "source": [
    "model.compile(optimizer=Adam(lr=0.001), \n",
    "              loss='mean_squared_error', metrics=['mse'])"
   ]
  },
  {
   "cell_type": "code",
   "execution_count": 994,
   "id": "pleasant-holly",
   "metadata": {},
   "outputs": [
    {
     "name": "stdout",
     "output_type": "stream",
     "text": [
      "Epoch 1/150\n",
      "115/115 [==============================] - 1s 3ms/step - loss: 4.7443 - mse: 0.8637 - val_loss: 2.9455 - val_mse: 0.3318\n",
      "Epoch 2/150\n",
      "115/115 [==============================] - 0s 1ms/step - loss: 2.6278 - mse: 0.3000 - val_loss: 1.9427 - val_mse: 0.2855\n",
      "Epoch 3/150\n",
      "115/115 [==============================] - 0s 1ms/step - loss: 1.7814 - mse: 0.2723 - val_loss: 1.4303 - val_mse: 0.2699\n",
      "Epoch 4/150\n",
      "115/115 [==============================] - 0s 2ms/step - loss: 1.3560 - mse: 0.2781 - val_loss: 1.1343 - val_mse: 0.2585\n",
      "Epoch 5/150\n",
      "115/115 [==============================] - 0s 2ms/step - loss: 1.0844 - mse: 0.2590 - val_loss: 0.9616 - val_mse: 0.2683\n",
      "Epoch 6/150\n",
      "115/115 [==============================] - 0s 2ms/step - loss: 0.9098 - mse: 0.2528 - val_loss: 0.8115 - val_mse: 0.2503\n",
      "Epoch 7/150\n",
      "115/115 [==============================] - 0s 2ms/step - loss: 0.7892 - mse: 0.2549 - val_loss: 0.7142 - val_mse: 0.2521\n",
      "Epoch 8/150\n",
      "115/115 [==============================] - 0s 2ms/step - loss: 0.6982 - mse: 0.2573 - val_loss: 0.6325 - val_mse: 0.2479\n",
      "Epoch 9/150\n",
      "115/115 [==============================] - 0s 1ms/step - loss: 0.6136 - mse: 0.2455 - val_loss: 0.5810 - val_mse: 0.2582\n",
      "Epoch 10/150\n",
      "115/115 [==============================] - 0s 2ms/step - loss: 0.5518 - mse: 0.2419 - val_loss: 0.5203 - val_mse: 0.2470\n",
      "Epoch 11/150\n",
      "115/115 [==============================] - 0s 2ms/step - loss: 0.5108 - mse: 0.2477 - val_loss: 0.4750 - val_mse: 0.2405\n",
      "Epoch 12/150\n",
      "115/115 [==============================] - 0s 2ms/step - loss: 0.4664 - mse: 0.2408 - val_loss: 0.4519 - val_mse: 0.2509\n",
      "Epoch 13/150\n",
      "115/115 [==============================] - 0s 2ms/step - loss: 0.4415 - mse: 0.2462 - val_loss: 0.4105 - val_mse: 0.2345\n",
      "Epoch 14/150\n",
      "115/115 [==============================] - 0s 2ms/step - loss: 0.4390 - mse: 0.2683 - val_loss: 0.3961 - val_mse: 0.2399\n",
      "Epoch 15/150\n",
      "115/115 [==============================] - 0s 2ms/step - loss: 0.3931 - mse: 0.2413 - val_loss: 0.3895 - val_mse: 0.2521\n",
      "Epoch 16/150\n",
      "115/115 [==============================] - 0s 2ms/step - loss: 0.3685 - mse: 0.2341 - val_loss: 0.3603 - val_mse: 0.2360\n",
      "Epoch 17/150\n",
      "115/115 [==============================] - 0s 1ms/step - loss: 0.3609 - mse: 0.2394 - val_loss: 0.3438 - val_mse: 0.2311\n",
      "Epoch 18/150\n",
      "115/115 [==============================] - 0s 2ms/step - loss: 0.3355 - mse: 0.2253 - val_loss: 0.3316 - val_mse: 0.2287\n",
      "Epoch 19/150\n",
      "115/115 [==============================] - 0s 2ms/step - loss: 0.3247 - mse: 0.2234 - val_loss: 0.3186 - val_mse: 0.2233\n",
      "Epoch 20/150\n",
      "115/115 [==============================] - 0s 2ms/step - loss: 0.3216 - mse: 0.2281 - val_loss: 0.3157 - val_mse: 0.2262\n",
      "Epoch 21/150\n",
      "115/115 [==============================] - 0s 2ms/step - loss: 0.3072 - mse: 0.2197 - val_loss: 0.3051 - val_mse: 0.2214\n",
      "Epoch 22/150\n",
      "115/115 [==============================] - 0s 1ms/step - loss: 0.3072 - mse: 0.2248 - val_loss: 0.2943 - val_mse: 0.2151\n",
      "Epoch 23/150\n",
      "115/115 [==============================] - 0s 2ms/step - loss: 0.2926 - mse: 0.2145 - val_loss: 0.3018 - val_mse: 0.2256\n",
      "Epoch 24/150\n",
      "115/115 [==============================] - 0s 2ms/step - loss: 0.2853 - mse: 0.2106 - val_loss: 0.2833 - val_mse: 0.2110\n",
      "Epoch 25/150\n",
      "115/115 [==============================] - 0s 1ms/step - loss: 0.2749 - mse: 0.2035 - val_loss: 0.2844 - val_mse: 0.2142\n",
      "Epoch 26/150\n",
      "115/115 [==============================] - 0s 2ms/step - loss: 0.2795 - mse: 0.2107 - val_loss: 0.2771 - val_mse: 0.2096\n",
      "Epoch 27/150\n",
      "115/115 [==============================] - 0s 2ms/step - loss: 0.2916 - mse: 0.2254 - val_loss: 0.2780 - val_mse: 0.2130\n",
      "Epoch 28/150\n",
      "115/115 [==============================] - 0s 2ms/step - loss: 0.2763 - mse: 0.2111 - val_loss: 0.2708 - val_mse: 0.2073\n",
      "Epoch 29/150\n",
      "115/115 [==============================] - 0s 1ms/step - loss: 0.2629 - mse: 0.2000 - val_loss: 0.2726 - val_mse: 0.2105\n",
      "Epoch 30/150\n",
      "115/115 [==============================] - 0s 1ms/step - loss: 0.2627 - mse: 0.2012 - val_loss: 0.2830 - val_mse: 0.2227\n",
      "Epoch 31/150\n",
      "115/115 [==============================] - 0s 2ms/step - loss: 0.2630 - mse: 0.2024 - val_loss: 0.2642 - val_mse: 0.2059\n",
      "Epoch 32/150\n",
      "115/115 [==============================] - 0s 2ms/step - loss: 0.2594 - mse: 0.2007 - val_loss: 0.2603 - val_mse: 0.2020\n",
      "Epoch 33/150\n",
      "115/115 [==============================] - 0s 1ms/step - loss: 0.2550 - mse: 0.1971 - val_loss: 0.2601 - val_mse: 0.2025\n",
      "Epoch 34/150\n",
      "115/115 [==============================] - 0s 2ms/step - loss: 0.2536 - mse: 0.1964 - val_loss: 0.2617 - val_mse: 0.2045\n",
      "Epoch 35/150\n",
      "115/115 [==============================] - 0s 1ms/step - loss: 0.2640 - mse: 0.2075 - val_loss: 0.2617 - val_mse: 0.2060\n",
      "Epoch 36/150\n",
      "115/115 [==============================] - 0s 2ms/step - loss: 0.2476 - mse: 0.1919 - val_loss: 0.2597 - val_mse: 0.2052\n",
      "Epoch 37/150\n",
      "115/115 [==============================] - 0s 2ms/step - loss: 0.2510 - mse: 0.1963 - val_loss: 0.2476 - val_mse: 0.1926\n",
      "Epoch 38/150\n",
      "115/115 [==============================] - 0s 1ms/step - loss: 0.2438 - mse: 0.1888 - val_loss: 0.2546 - val_mse: 0.2001\n",
      "Epoch 39/150\n",
      "115/115 [==============================] - 0s 1ms/step - loss: 0.2427 - mse: 0.1885 - val_loss: 0.2473 - val_mse: 0.1936\n",
      "Epoch 40/150\n",
      "115/115 [==============================] - 0s 1ms/step - loss: 0.2428 - mse: 0.1895 - val_loss: 0.2584 - val_mse: 0.2055\n",
      "Epoch 41/150\n",
      "115/115 [==============================] - 0s 2ms/step - loss: 0.2465 - mse: 0.1935 - val_loss: 0.2458 - val_mse: 0.1930\n",
      "Epoch 42/150\n",
      "115/115 [==============================] - 0s 1ms/step - loss: 0.2358 - mse: 0.1832 - val_loss: 0.2551 - val_mse: 0.2019\n",
      "Epoch 43/150\n",
      "115/115 [==============================] - 0s 1ms/step - loss: 0.2322 - mse: 0.1793 - val_loss: 0.2611 - val_mse: 0.2095\n",
      "Epoch 44/150\n",
      "115/115 [==============================] - 0s 1ms/step - loss: 0.2396 - mse: 0.1876 - val_loss: 0.2559 - val_mse: 0.2042\n",
      "Epoch 45/150\n",
      "115/115 [==============================] - 0s 1ms/step - loss: 0.2294 - mse: 0.1779 - val_loss: 0.2432 - val_mse: 0.1916\n",
      "Epoch 46/150\n",
      "115/115 [==============================] - 0s 1ms/step - loss: 0.2332 - mse: 0.1815 - val_loss: 0.2416 - val_mse: 0.1900\n",
      "Epoch 47/150\n",
      "115/115 [==============================] - 0s 1ms/step - loss: 0.2271 - mse: 0.1753 - val_loss: 0.2418 - val_mse: 0.1900\n",
      "Epoch 48/150\n",
      "115/115 [==============================] - 0s 2ms/step - loss: 0.2236 - mse: 0.1717 - val_loss: 0.2408 - val_mse: 0.1889\n",
      "Epoch 49/150\n",
      "115/115 [==============================] - 0s 2ms/step - loss: 0.2295 - mse: 0.1774 - val_loss: 0.2429 - val_mse: 0.1909\n",
      "Epoch 50/150\n",
      "115/115 [==============================] - 0s 1ms/step - loss: 0.2324 - mse: 0.1802 - val_loss: 0.2423 - val_mse: 0.1903\n",
      "Epoch 51/150\n",
      "115/115 [==============================] - 0s 1ms/step - loss: 0.2277 - mse: 0.1756 - val_loss: 0.2390 - val_mse: 0.1868\n",
      "Epoch 52/150\n",
      "115/115 [==============================] - 0s 1ms/step - loss: 0.2229 - mse: 0.1706 - val_loss: 0.2386 - val_mse: 0.1865\n",
      "Epoch 53/150\n",
      "115/115 [==============================] - 0s 2ms/step - loss: 0.2313 - mse: 0.1790 - val_loss: 0.2423 - val_mse: 0.1901\n",
      "Epoch 54/150\n",
      "115/115 [==============================] - 0s 1ms/step - loss: 0.2265 - mse: 0.1743 - val_loss: 0.2429 - val_mse: 0.1907\n",
      "Epoch 55/150\n",
      "115/115 [==============================] - 0s 1ms/step - loss: 0.2213 - mse: 0.1690 - val_loss: 0.2423 - val_mse: 0.1899\n",
      "Epoch 56/150\n",
      "115/115 [==============================] - 0s 2ms/step - loss: 0.2237 - mse: 0.1713 - val_loss: 0.2387 - val_mse: 0.1864\n",
      "Epoch 57/150\n",
      "115/115 [==============================] - 0s 1ms/step - loss: 0.2217 - mse: 0.1693 - val_loss: 0.2404 - val_mse: 0.1880\n",
      "Epoch 58/150\n",
      "115/115 [==============================] - 0s 1ms/step - loss: 0.2276 - mse: 0.1752 - val_loss: 0.2407 - val_mse: 0.1883\n",
      "Epoch 59/150\n",
      "115/115 [==============================] - 0s 2ms/step - loss: 0.2265 - mse: 0.1741 - val_loss: 0.2410 - val_mse: 0.1886\n"
     ]
    }
   ],
   "source": [
    "reduce_lr = ReduceLROnPlateau(monitor=\"val_loss\", factor=0.1, patience=3, min_lr=0.00005)\n",
    "early_stopping = EarlyStopping(monitor=\"val_loss\", patience=7)\n",
    "history = model.fit(x, y, epochs=150, batch_size=128, validation_split=0.1, \n",
    "                  callbacks=[reduce_lr, early_stopping], verbose=1)"
   ]
  },
  {
   "cell_type": "code",
   "execution_count": 995,
   "id": "stone-surveillance",
   "metadata": {},
   "outputs": [
    {
     "data": {
      "image/png": "[encoded data removed]",
      "text/plain": [
       "<Figure size 720x360 with 2 Axes>"
      ]
     },
     "metadata": {
      "needs_background": "light"
     },
     "output_type": "display_data"
    }
   ],
   "source": [
    "plt.figure(figsize=[10,5])\n",
    "plt.subplot(121)\n",
    "plt.plot(history.history['mse'])\n",
    "plt.plot(history.history['val_mse'])\n",
    "plt.xlabel('Epoch')\n",
    "plt.ylabel('MSE')\n",
    "plt.legend(['Training MSE',\n",
    "           'Validation MSE'])\n",
    "plt.title('MSE Curves')\n",
    "plt.subplot(122)\n",
    "plt.plot(history.history['loss'])\n",
    "plt.plot(history.history['val_loss'])\n",
    "plt.xlabel('Epoch')\n",
    "plt.ylabel('Loss')\n",
    "plt.legend(['Training Loss',\n",
    "           'Validation Loss'])\n",
    "plt.title('Loss Curves')\n",
    "plt.show()"
   ]
  },
  {
   "cell_type": "code",
   "execution_count": 1044,
   "id": "continuous-screen",
   "metadata": {},
   "outputs": [],
   "source": [
    "X_scaled_test = scaler_x.transform(X_test)\n",
    "y_scaled_test = scaler_y.transform(y_test.reshape(len(y_test),1))[:,0]\n",
    "nn_results = model.predict(X_scaled_test)"
   ]
  },
  {
   "cell_type": "code",
   "execution_count": 1045,
   "id": "honey-wagon",
   "metadata": {},
   "outputs": [],
   "source": [
    "def sample_match(pred, real, open_pred):\n",
    "    d = {'prediction': [x[0] for x in pred] if open_pred else pred, 'real': real}\n",
    "    return pd.DataFrame(data=d)"
   ]
  },
  {
   "cell_type": "code",
   "execution_count": 1048,
   "id": "disciplinary-management",
   "metadata": {},
   "outputs": [
    {
     "data": {
      "text/html": [
       "<div>\n",
       "<style scoped>\n",
       "    .dataframe tbody tr th:only-of-type {\n",
       "        vertical-align: middle;\n",
       "    }\n",
       "\n",
       "    .dataframe tbody tr th {\n",
       "        vertical-align: top;\n",
       "    }\n",
       "\n",
       "    .dataframe thead th {\n",
       "        text-align: right;\n",
       "    }\n",
       "</style>\n",
       "<table border=\"1\" class=\"dataframe\">\n",
       "  <thead>\n",
       "    <tr style=\"text-align: right;\">\n",
       "      <th></th>\n",
       "      <th>prediction</th>\n",
       "      <th>real</th>\n",
       "    </tr>\n",
       "  </thead>\n",
       "  <tbody>\n",
       "    <tr>\n",
       "      <th>0</th>\n",
       "      <td>0.514563</td>\n",
       "      <td>0.734979</td>\n",
       "    </tr>\n",
       "    <tr>\n",
       "      <th>1</th>\n",
       "      <td>1.206587</td>\n",
       "      <td>1.081740</td>\n",
       "    </tr>\n",
       "    <tr>\n",
       "      <th>2</th>\n",
       "      <td>1.264306</td>\n",
       "      <td>1.152544</td>\n",
       "    </tr>\n",
       "    <tr>\n",
       "      <th>3</th>\n",
       "      <td>0.840080</td>\n",
       "      <td>1.310493</td>\n",
       "    </tr>\n",
       "    <tr>\n",
       "      <th>4</th>\n",
       "      <td>0.212687</td>\n",
       "      <td>0.371878</td>\n",
       "    </tr>\n",
       "    <tr>\n",
       "      <th>5</th>\n",
       "      <td>1.866113</td>\n",
       "      <td>1.107157</td>\n",
       "    </tr>\n",
       "    <tr>\n",
       "      <th>6</th>\n",
       "      <td>1.318274</td>\n",
       "      <td>1.533800</td>\n",
       "    </tr>\n",
       "    <tr>\n",
       "      <th>7</th>\n",
       "      <td>-0.910586</td>\n",
       "      <td>-0.826354</td>\n",
       "    </tr>\n",
       "    <tr>\n",
       "      <th>8</th>\n",
       "      <td>-1.133402</td>\n",
       "      <td>-1.116835</td>\n",
       "    </tr>\n",
       "    <tr>\n",
       "      <th>9</th>\n",
       "      <td>-1.131872</td>\n",
       "      <td>-1.062370</td>\n",
       "    </tr>\n",
       "    <tr>\n",
       "      <th>10</th>\n",
       "      <td>-1.126510</td>\n",
       "      <td>-1.066001</td>\n",
       "    </tr>\n",
       "    <tr>\n",
       "      <th>11</th>\n",
       "      <td>-0.007763</td>\n",
       "      <td>-0.127386</td>\n",
       "    </tr>\n",
       "    <tr>\n",
       "      <th>12</th>\n",
       "      <td>0.728636</td>\n",
       "      <td>2.096606</td>\n",
       "    </tr>\n",
       "    <tr>\n",
       "      <th>13</th>\n",
       "      <td>-0.069752</td>\n",
       "      <td>-0.352508</td>\n",
       "    </tr>\n",
       "    <tr>\n",
       "      <th>14</th>\n",
       "      <td>1.649824</td>\n",
       "      <td>2.441552</td>\n",
       "    </tr>\n",
       "    <tr>\n",
       "      <th>15</th>\n",
       "      <td>-0.909528</td>\n",
       "      <td>-0.898975</td>\n",
       "    </tr>\n",
       "    <tr>\n",
       "      <th>16</th>\n",
       "      <td>3.689740</td>\n",
       "      <td>-0.263548</td>\n",
       "    </tr>\n",
       "    <tr>\n",
       "      <th>17</th>\n",
       "      <td>-0.896722</td>\n",
       "      <td>-0.998827</td>\n",
       "    </tr>\n",
       "    <tr>\n",
       "      <th>18</th>\n",
       "      <td>-0.776449</td>\n",
       "      <td>-0.515903</td>\n",
       "    </tr>\n",
       "    <tr>\n",
       "      <th>19</th>\n",
       "      <td>-0.524016</td>\n",
       "      <td>-0.805476</td>\n",
       "    </tr>\n",
       "    <tr>\n",
       "      <th>20</th>\n",
       "      <td>-0.415512</td>\n",
       "      <td>-0.690192</td>\n",
       "    </tr>\n",
       "    <tr>\n",
       "      <th>21</th>\n",
       "      <td>-0.655330</td>\n",
       "      <td>-0.776428</td>\n",
       "    </tr>\n",
       "    <tr>\n",
       "      <th>22</th>\n",
       "      <td>-0.977588</td>\n",
       "      <td>-1.053292</td>\n",
       "    </tr>\n",
       "    <tr>\n",
       "      <th>23</th>\n",
       "      <td>-0.746683</td>\n",
       "      <td>-0.842694</td>\n",
       "    </tr>\n",
       "    <tr>\n",
       "      <th>24</th>\n",
       "      <td>-0.493364</td>\n",
       "      <td>-0.498656</td>\n",
       "    </tr>\n",
       "  </tbody>\n",
       "</table>\n",
       "</div>"
      ],
      "text/plain": [
       "    prediction      real\n",
       "0     0.514563  0.734979\n",
       "1     1.206587  1.081740\n",
       "2     1.264306  1.152544\n",
       "3     0.840080  1.310493\n",
       "4     0.212687  0.371878\n",
       "5     1.866113  1.107157\n",
       "6     1.318274  1.533800\n",
       "7    -0.910586 -0.826354\n",
       "8    -1.133402 -1.116835\n",
       "9    -1.131872 -1.062370\n",
       "10   -1.126510 -1.066001\n",
       "11   -0.007763 -0.127386\n",
       "12    0.728636  2.096606\n",
       "13   -0.069752 -0.352508\n",
       "14    1.649824  2.441552\n",
       "15   -0.909528 -0.898975\n",
       "16    3.689740 -0.263548\n",
       "17   -0.896722 -0.998827\n",
       "18   -0.776449 -0.515903\n",
       "19   -0.524016 -0.805476\n",
       "20   -0.415512 -0.690192\n",
       "21   -0.655330 -0.776428\n",
       "22   -0.977588 -1.053292\n",
       "23   -0.746683 -0.842694\n",
       "24   -0.493364 -0.498656"
      ]
     },
     "execution_count": 1048,
     "metadata": {},
     "output_type": "execute_result"
    }
   ],
   "source": [
    "sample_match(nn_results[:25], y_scaled_test[:25], True)"
   ]
  },
  {
   "cell_type": "code",
   "execution_count": 1049,
   "id": "incomplete-priority",
   "metadata": {},
   "outputs": [
    {
     "data": {
      "text/plain": [
       "0.75938915822581"
      ]
     },
     "execution_count": 1049,
     "metadata": {},
     "output_type": "execute_result"
    }
   ],
   "source": [
    "r2_score(nn_results, y_scaled_test)"
   ]
  },
  {
   "cell_type": "markdown",
   "id": "eligible-speaking",
   "metadata": {},
   "source": [
    "# SVM"
   ]
  },
  {
   "cell_type": "code",
   "execution_count": 1000,
   "id": "absent-indonesian",
   "metadata": {},
   "outputs": [
    {
     "name": "stdout",
     "output_type": "stream",
     "text": [
      "Fitting 5 folds for each of 20 candidates, totalling 100 fits\n",
      "{'C': 10, 'gamma': 'scale', 'kernel': 'rbf'}\n"
     ]
    }
   ],
   "source": [
    "param_grid = {'C': [0.1, 1, 10, 50], 'gamma': ['scale', 1, 0.1, 0.01, 0.001], \n",
    "                  'kernel': ['rbf']}\n",
    "grid = GridSearchCV(SVR(), param_grid, verbose=2, refit=True, n_jobs=-1)\n",
    "grid.fit(x, y)\n",
    "print(grid.best_params_)\n",
    "svm = SVR(kernel=grid.best_params_['kernel'], C=grid.best_params_['C'], gamma=grid.best_params_['gamma'])"
   ]
  },
  {
   "cell_type": "code",
   "execution_count": 1001,
   "id": "quantitative-adelaide",
   "metadata": {},
   "outputs": [],
   "source": [
    "# svm = SVR(kernel='rbf', C=10, gamma='scale')"
   ]
  },
  {
   "cell_type": "code",
   "execution_count": 1002,
   "id": "fiscal-listing",
   "metadata": {},
   "outputs": [
    {
     "data": {
      "text/plain": [
       "SVR(C=10)"
      ]
     },
     "execution_count": 1002,
     "metadata": {},
     "output_type": "execute_result"
    }
   ],
   "source": [
    "svm.fit(x, y)"
   ]
  },
  {
   "cell_type": "code",
   "execution_count": 1003,
   "id": "divine-house",
   "metadata": {},
   "outputs": [],
   "source": [
    "svm_results = svm.predict(X_scaled_test)"
   ]
  },
  {
   "cell_type": "code",
   "execution_count": 1004,
   "id": "moved-footage",
   "metadata": {},
   "outputs": [
    {
     "data": {
      "text/plain": [
       "0.7177676999241593"
      ]
     },
     "execution_count": 1004,
     "metadata": {},
     "output_type": "execute_result"
    }
   ],
   "source": [
    "r2_score(svm_results, y_scaled_test)"
   ]
  },
  {
   "cell_type": "code",
   "execution_count": 1050,
   "id": "prime-sunrise",
   "metadata": {},
   "outputs": [
    {
     "data": {
      "text/html": [
       "<div>\n",
       "<style scoped>\n",
       "    .dataframe tbody tr th:only-of-type {\n",
       "        vertical-align: middle;\n",
       "    }\n",
       "\n",
       "    .dataframe tbody tr th {\n",
       "        vertical-align: top;\n",
       "    }\n",
       "\n",
       "    .dataframe thead th {\n",
       "        text-align: right;\n",
       "    }\n",
       "</style>\n",
       "<table border=\"1\" class=\"dataframe\">\n",
       "  <thead>\n",
       "    <tr style=\"text-align: right;\">\n",
       "      <th></th>\n",
       "      <th>prediction</th>\n",
       "      <th>real</th>\n",
       "    </tr>\n",
       "  </thead>\n",
       "  <tbody>\n",
       "    <tr>\n",
       "      <th>0</th>\n",
       "      <td>0.433143</td>\n",
       "      <td>0.734979</td>\n",
       "    </tr>\n",
       "    <tr>\n",
       "      <th>1</th>\n",
       "      <td>0.790579</td>\n",
       "      <td>1.081740</td>\n",
       "    </tr>\n",
       "    <tr>\n",
       "      <th>2</th>\n",
       "      <td>0.577427</td>\n",
       "      <td>1.152544</td>\n",
       "    </tr>\n",
       "    <tr>\n",
       "      <th>3</th>\n",
       "      <td>0.524305</td>\n",
       "      <td>1.310493</td>\n",
       "    </tr>\n",
       "    <tr>\n",
       "      <th>4</th>\n",
       "      <td>0.160032</td>\n",
       "      <td>0.371878</td>\n",
       "    </tr>\n",
       "    <tr>\n",
       "      <th>5</th>\n",
       "      <td>1.219532</td>\n",
       "      <td>1.107157</td>\n",
       "    </tr>\n",
       "    <tr>\n",
       "      <th>6</th>\n",
       "      <td>1.139586</td>\n",
       "      <td>1.533800</td>\n",
       "    </tr>\n",
       "    <tr>\n",
       "      <th>7</th>\n",
       "      <td>-0.805918</td>\n",
       "      <td>-0.826354</td>\n",
       "    </tr>\n",
       "    <tr>\n",
       "      <th>8</th>\n",
       "      <td>-0.962797</td>\n",
       "      <td>-1.116835</td>\n",
       "    </tr>\n",
       "    <tr>\n",
       "      <th>9</th>\n",
       "      <td>-1.005700</td>\n",
       "      <td>-1.062370</td>\n",
       "    </tr>\n",
       "    <tr>\n",
       "      <th>10</th>\n",
       "      <td>-0.961358</td>\n",
       "      <td>-1.066001</td>\n",
       "    </tr>\n",
       "    <tr>\n",
       "      <th>11</th>\n",
       "      <td>-0.103380</td>\n",
       "      <td>-0.127386</td>\n",
       "    </tr>\n",
       "    <tr>\n",
       "      <th>12</th>\n",
       "      <td>0.430189</td>\n",
       "      <td>2.096606</td>\n",
       "    </tr>\n",
       "    <tr>\n",
       "      <th>13</th>\n",
       "      <td>-0.127178</td>\n",
       "      <td>-0.352508</td>\n",
       "    </tr>\n",
       "    <tr>\n",
       "      <th>14</th>\n",
       "      <td>1.544251</td>\n",
       "      <td>2.441552</td>\n",
       "    </tr>\n",
       "    <tr>\n",
       "      <th>15</th>\n",
       "      <td>-0.860658</td>\n",
       "      <td>-0.898975</td>\n",
       "    </tr>\n",
       "    <tr>\n",
       "      <th>16</th>\n",
       "      <td>-0.360982</td>\n",
       "      <td>-0.263548</td>\n",
       "    </tr>\n",
       "    <tr>\n",
       "      <th>17</th>\n",
       "      <td>-0.901196</td>\n",
       "      <td>-0.998827</td>\n",
       "    </tr>\n",
       "    <tr>\n",
       "      <th>18</th>\n",
       "      <td>-0.703128</td>\n",
       "      <td>-0.515903</td>\n",
       "    </tr>\n",
       "    <tr>\n",
       "      <th>19</th>\n",
       "      <td>-0.513605</td>\n",
       "      <td>-0.805476</td>\n",
       "    </tr>\n",
       "    <tr>\n",
       "      <th>20</th>\n",
       "      <td>-0.510941</td>\n",
       "      <td>-0.690192</td>\n",
       "    </tr>\n",
       "    <tr>\n",
       "      <th>21</th>\n",
       "      <td>-0.665998</td>\n",
       "      <td>-0.776428</td>\n",
       "    </tr>\n",
       "    <tr>\n",
       "      <th>22</th>\n",
       "      <td>-1.009534</td>\n",
       "      <td>-1.053292</td>\n",
       "    </tr>\n",
       "    <tr>\n",
       "      <th>23</th>\n",
       "      <td>-0.774071</td>\n",
       "      <td>-0.842694</td>\n",
       "    </tr>\n",
       "    <tr>\n",
       "      <th>24</th>\n",
       "      <td>-0.473345</td>\n",
       "      <td>-0.498656</td>\n",
       "    </tr>\n",
       "  </tbody>\n",
       "</table>\n",
       "</div>"
      ],
      "text/plain": [
       "    prediction      real\n",
       "0     0.433143  0.734979\n",
       "1     0.790579  1.081740\n",
       "2     0.577427  1.152544\n",
       "3     0.524305  1.310493\n",
       "4     0.160032  0.371878\n",
       "5     1.219532  1.107157\n",
       "6     1.139586  1.533800\n",
       "7    -0.805918 -0.826354\n",
       "8    -0.962797 -1.116835\n",
       "9    -1.005700 -1.062370\n",
       "10   -0.961358 -1.066001\n",
       "11   -0.103380 -0.127386\n",
       "12    0.430189  2.096606\n",
       "13   -0.127178 -0.352508\n",
       "14    1.544251  2.441552\n",
       "15   -0.860658 -0.898975\n",
       "16   -0.360982 -0.263548\n",
       "17   -0.901196 -0.998827\n",
       "18   -0.703128 -0.515903\n",
       "19   -0.513605 -0.805476\n",
       "20   -0.510941 -0.690192\n",
       "21   -0.665998 -0.776428\n",
       "22   -1.009534 -1.053292\n",
       "23   -0.774071 -0.842694\n",
       "24   -0.473345 -0.498656"
      ]
     },
     "execution_count": 1050,
     "metadata": {},
     "output_type": "execute_result"
    }
   ],
   "source": [
    "sample_match(svm_results[:25], y_scaled_test[:25], False)"
   ]
  },
  {
   "cell_type": "markdown",
   "id": "elementary-invite",
   "metadata": {},
   "source": [
    "## Random Forest"
   ]
  },
  {
   "cell_type": "code",
   "execution_count": 1025,
   "id": "wrong-tenant",
   "metadata": {},
   "outputs": [
    {
     "name": "stdout",
     "output_type": "stream",
     "text": [
      "Fitting 5 folds for each of 12 candidates, totalling 60 fits\n"
     ]
    },
    {
     "data": {
      "text/plain": [
       "GridSearchCV(estimator=RandomForestRegressor(), n_jobs=-1,\n",
       "             param_grid={'bootstrap': [True], 'max_depth': [None],\n",
       "                         'max_features': ['auto'], 'min_samples_leaf': [2, 3],\n",
       "                         'min_samples_split': [2, 3],\n",
       "                         'n_estimators': [500, 1000, 1500]},\n",
       "             verbose=2)"
      ]
     },
     "execution_count": 1025,
     "metadata": {},
     "output_type": "execute_result"
    }
   ],
   "source": [
    "param_grid = {\n",
    "    'bootstrap': [True],\n",
    "    'max_depth': [None],\n",
    "    'max_features': ['auto'],\n",
    "    'min_samples_leaf': [2, 3],\n",
    "    'min_samples_split': [2, 3],\n",
    "    'n_estimators': [500, 1000, 1500]\n",
    "}\n",
    "grid = GridSearchCV(RandomForestRegressor(), param_grid, verbose=2, refit=True, n_jobs=-1)\n",
    "grid.fit(x, y)"
   ]
  },
  {
   "cell_type": "code",
   "execution_count": 1026,
   "id": "solar-earthquake",
   "metadata": {},
   "outputs": [
    {
     "name": "stdout",
     "output_type": "stream",
     "text": [
      "{'bootstrap': True, 'max_depth': None, 'max_features': 'auto', 'min_samples_leaf': 2, 'min_samples_split': 2, 'n_estimators': 1500}\n"
     ]
    }
   ],
   "source": [
    "print(grid.best_params_)"
   ]
  },
  {
   "cell_type": "code",
   "execution_count": 1027,
   "id": "demographic-overview",
   "metadata": {},
   "outputs": [],
   "source": [
    "rfr = RandomForestRegressor(bootstrap=grid.best_params_['bootstrap'], max_features=grid.best_params_['max_features'], min_samples_leaf=grid.best_params_['min_samples_leaf'], min_samples_split=grid.best_params_['min_samples_split'], n_estimators=grid.best_params_['n_estimators'])"
   ]
  },
  {
   "cell_type": "code",
   "execution_count": 1028,
   "id": "compatible-fundamentals",
   "metadata": {},
   "outputs": [
    {
     "data": {
      "text/plain": [
       "RandomForestRegressor(min_samples_leaf=2, n_estimators=1500)"
      ]
     },
     "execution_count": 1028,
     "metadata": {},
     "output_type": "execute_result"
    }
   ],
   "source": [
    "rfr.fit(x, y)"
   ]
  },
  {
   "cell_type": "code",
   "execution_count": 1030,
   "id": "equipped-injury",
   "metadata": {},
   "outputs": [
    {
     "data": {
      "text/plain": [
       "0.7869496376151962"
      ]
     },
     "execution_count": 1030,
     "metadata": {},
     "output_type": "execute_result"
    }
   ],
   "source": [
    "rfr_results = rfr.predict(X_scaled_test)\n",
    "r2_score(rfr_results, y_scaled_test)"
   ]
  },
  {
   "cell_type": "code",
   "execution_count": 1051,
   "id": "swedish-patch",
   "metadata": {},
   "outputs": [
    {
     "data": {
      "text/html": [
       "<div>\n",
       "<style scoped>\n",
       "    .dataframe tbody tr th:only-of-type {\n",
       "        vertical-align: middle;\n",
       "    }\n",
       "\n",
       "    .dataframe tbody tr th {\n",
       "        vertical-align: top;\n",
       "    }\n",
       "\n",
       "    .dataframe thead th {\n",
       "        text-align: right;\n",
       "    }\n",
       "</style>\n",
       "<table border=\"1\" class=\"dataframe\">\n",
       "  <thead>\n",
       "    <tr style=\"text-align: right;\">\n",
       "      <th></th>\n",
       "      <th>prediction</th>\n",
       "      <th>real</th>\n",
       "    </tr>\n",
       "  </thead>\n",
       "  <tbody>\n",
       "    <tr>\n",
       "      <th>0</th>\n",
       "      <td>0.534858</td>\n",
       "      <td>0.734979</td>\n",
       "    </tr>\n",
       "    <tr>\n",
       "      <th>1</th>\n",
       "      <td>1.208458</td>\n",
       "      <td>1.081740</td>\n",
       "    </tr>\n",
       "    <tr>\n",
       "      <th>2</th>\n",
       "      <td>0.550781</td>\n",
       "      <td>1.152544</td>\n",
       "    </tr>\n",
       "    <tr>\n",
       "      <th>3</th>\n",
       "      <td>1.047223</td>\n",
       "      <td>1.310493</td>\n",
       "    </tr>\n",
       "    <tr>\n",
       "      <th>4</th>\n",
       "      <td>-0.207449</td>\n",
       "      <td>0.371878</td>\n",
       "    </tr>\n",
       "    <tr>\n",
       "      <th>5</th>\n",
       "      <td>1.464845</td>\n",
       "      <td>1.107157</td>\n",
       "    </tr>\n",
       "    <tr>\n",
       "      <th>6</th>\n",
       "      <td>1.323248</td>\n",
       "      <td>1.533800</td>\n",
       "    </tr>\n",
       "    <tr>\n",
       "      <th>7</th>\n",
       "      <td>-0.796994</td>\n",
       "      <td>-0.826354</td>\n",
       "    </tr>\n",
       "    <tr>\n",
       "      <th>8</th>\n",
       "      <td>-1.049439</td>\n",
       "      <td>-1.116835</td>\n",
       "    </tr>\n",
       "    <tr>\n",
       "      <th>9</th>\n",
       "      <td>-1.016672</td>\n",
       "      <td>-1.062370</td>\n",
       "    </tr>\n",
       "    <tr>\n",
       "      <th>10</th>\n",
       "      <td>-1.077332</td>\n",
       "      <td>-1.066001</td>\n",
       "    </tr>\n",
       "    <tr>\n",
       "      <th>11</th>\n",
       "      <td>-0.112817</td>\n",
       "      <td>-0.127386</td>\n",
       "    </tr>\n",
       "    <tr>\n",
       "      <th>12</th>\n",
       "      <td>0.898437</td>\n",
       "      <td>2.096606</td>\n",
       "    </tr>\n",
       "    <tr>\n",
       "      <th>13</th>\n",
       "      <td>-0.078454</td>\n",
       "      <td>-0.352508</td>\n",
       "    </tr>\n",
       "    <tr>\n",
       "      <th>14</th>\n",
       "      <td>1.641616</td>\n",
       "      <td>2.441552</td>\n",
       "    </tr>\n",
       "    <tr>\n",
       "      <th>15</th>\n",
       "      <td>-0.849929</td>\n",
       "      <td>-0.898975</td>\n",
       "    </tr>\n",
       "    <tr>\n",
       "      <th>16</th>\n",
       "      <td>0.231348</td>\n",
       "      <td>-0.263548</td>\n",
       "    </tr>\n",
       "    <tr>\n",
       "      <th>17</th>\n",
       "      <td>-0.924874</td>\n",
       "      <td>-0.998827</td>\n",
       "    </tr>\n",
       "    <tr>\n",
       "      <th>18</th>\n",
       "      <td>-0.550512</td>\n",
       "      <td>-0.515903</td>\n",
       "    </tr>\n",
       "    <tr>\n",
       "      <th>19</th>\n",
       "      <td>-0.519137</td>\n",
       "      <td>-0.805476</td>\n",
       "    </tr>\n",
       "    <tr>\n",
       "      <th>20</th>\n",
       "      <td>-0.441990</td>\n",
       "      <td>-0.690192</td>\n",
       "    </tr>\n",
       "    <tr>\n",
       "      <th>21</th>\n",
       "      <td>-0.694469</td>\n",
       "      <td>-0.776428</td>\n",
       "    </tr>\n",
       "    <tr>\n",
       "      <th>22</th>\n",
       "      <td>-0.995197</td>\n",
       "      <td>-1.053292</td>\n",
       "    </tr>\n",
       "    <tr>\n",
       "      <th>23</th>\n",
       "      <td>-0.763619</td>\n",
       "      <td>-0.842694</td>\n",
       "    </tr>\n",
       "    <tr>\n",
       "      <th>24</th>\n",
       "      <td>-0.503753</td>\n",
       "      <td>-0.498656</td>\n",
       "    </tr>\n",
       "  </tbody>\n",
       "</table>\n",
       "</div>"
      ],
      "text/plain": [
       "    prediction      real\n",
       "0     0.534858  0.734979\n",
       "1     1.208458  1.081740\n",
       "2     0.550781  1.152544\n",
       "3     1.047223  1.310493\n",
       "4    -0.207449  0.371878\n",
       "5     1.464845  1.107157\n",
       "6     1.323248  1.533800\n",
       "7    -0.796994 -0.826354\n",
       "8    -1.049439 -1.116835\n",
       "9    -1.016672 -1.062370\n",
       "10   -1.077332 -1.066001\n",
       "11   -0.112817 -0.127386\n",
       "12    0.898437  2.096606\n",
       "13   -0.078454 -0.352508\n",
       "14    1.641616  2.441552\n",
       "15   -0.849929 -0.898975\n",
       "16    0.231348 -0.263548\n",
       "17   -0.924874 -0.998827\n",
       "18   -0.550512 -0.515903\n",
       "19   -0.519137 -0.805476\n",
       "20   -0.441990 -0.690192\n",
       "21   -0.694469 -0.776428\n",
       "22   -0.995197 -1.053292\n",
       "23   -0.763619 -0.842694\n",
       "24   -0.503753 -0.498656"
      ]
     },
     "execution_count": 1051,
     "metadata": {},
     "output_type": "execute_result"
    }
   ],
   "source": [
    "sample_match(rfr_results[:25], y_scaled_test[:25], False)"
   ]
  },
  {
   "cell_type": "code",
   "execution_count": null,
   "id": "potential-labor",
   "metadata": {},
   "outputs": [],
   "source": []
  }
 ],
 "metadata": {
  "kernelspec": {
   "display_name": "Python 3",
   "language": "python",
   "name": "python3"
  },
  "language_info": {
   "codemirror_mode": {
    "name": "ipython",
    "version": 3
   },
   "file_extension": ".py",
   "mimetype": "text/x-python",
   "name": "python",
   "nbconvert_exporter": "python",
   "pygments_lexer": "ipython3",
   "version": "3.8.5"
  }
 },
 "nbformat": 4,
 "nbformat_minor": 5
}
