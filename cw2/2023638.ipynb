{
 "cells": [
  {
   "cell_type": "code",
   "execution_count": 1209,
   "id": "disciplinary-element",
   "metadata": {},
   "outputs": [],
   "source": [
    "import pandas as pd\n",
    "import numpy as np\n",
    "import seaborn as sbrn\n",
    "import missingno as msno\n",
    "from matplotlib import pyplot as plt\n",
    "from tensorflow.keras.models import Sequential\n",
    "from tensorflow.keras.layers import (InputLayer, Dense, Flatten, Dropout)\n",
    "from tensorflow.keras.optimizers import Adam, SGD\n",
    "from tensorflow.keras.callbacks import ReduceLROnPlateau, EarlyStopping\n",
    "from sklearn.preprocessing import OneHotEncoder\n",
    "from sklearn.model_selection import train_test_split\n",
    "from sklearn.preprocessing import StandardScaler, MinMaxScaler\n",
    "from sklearn.metrics import r2_score, mean_squared_error\n",
    "from sklearn.svm import SVR\n",
    "from sklearn.model_selection import GridSearchCV\n",
    "from sklearn.ensemble import RandomForestRegressor\n",
    "from scipy import stats"
   ]
  },
  {
   "cell_type": "code",
   "execution_count": 1210,
   "id": "crucial-while",
   "metadata": {},
   "outputs": [],
   "source": [
    "data = pd.read_csv('./Dataset/House_Price_Dataset.csv')"
   ]
  },
  {
   "cell_type": "code",
   "execution_count": 1211,
   "id": "actual-proxy",
   "metadata": {},
   "outputs": [
    {
     "data": {
      "text/html": [
       "<div>\n",
       "<style scoped>\n",
       "    .dataframe tbody tr th:only-of-type {\n",
       "        vertical-align: middle;\n",
       "    }\n",
       "\n",
       "    .dataframe tbody tr th {\n",
       "        vertical-align: top;\n",
       "    }\n",
       "\n",
       "    .dataframe thead th {\n",
       "        text-align: right;\n",
       "    }\n",
       "</style>\n",
       "<table border=\"1\" class=\"dataframe\">\n",
       "  <thead>\n",
       "    <tr style=\"text-align: right;\">\n",
       "      <th></th>\n",
       "      <th>Suburb</th>\n",
       "      <th>Address</th>\n",
       "      <th>Rooms</th>\n",
       "      <th>Type</th>\n",
       "      <th>Price</th>\n",
       "      <th>Method</th>\n",
       "      <th>Seller</th>\n",
       "      <th>Date</th>\n",
       "      <th>Distance</th>\n",
       "      <th>Postcode</th>\n",
       "      <th>...</th>\n",
       "      <th>Bathroom</th>\n",
       "      <th>Car</th>\n",
       "      <th>Landsize</th>\n",
       "      <th>BuildingArea</th>\n",
       "      <th>YearBuilt</th>\n",
       "      <th>CouncilArea</th>\n",
       "      <th>Latitude</th>\n",
       "      <th>Longitude</th>\n",
       "      <th>RegionName</th>\n",
       "      <th>PropertyCount</th>\n",
       "    </tr>\n",
       "  </thead>\n",
       "  <tbody>\n",
       "    <tr>\n",
       "      <th>0</th>\n",
       "      <td>Abbotsford</td>\n",
       "      <td>68 Studley St</td>\n",
       "      <td>2</td>\n",
       "      <td>h</td>\n",
       "      <td>NaN</td>\n",
       "      <td>SS</td>\n",
       "      <td>Jellis</td>\n",
       "      <td>03/09/2016</td>\n",
       "      <td>2.5</td>\n",
       "      <td>3067.0</td>\n",
       "      <td>...</td>\n",
       "      <td>1.0</td>\n",
       "      <td>1.0</td>\n",
       "      <td>126.0</td>\n",
       "      <td>NaN</td>\n",
       "      <td>NaN</td>\n",
       "      <td>Yarra City Council</td>\n",
       "      <td>-37.8014</td>\n",
       "      <td>144.9958</td>\n",
       "      <td>Northern Metropolitan</td>\n",
       "      <td>4019.0</td>\n",
       "    </tr>\n",
       "    <tr>\n",
       "      <th>1</th>\n",
       "      <td>Abbotsford</td>\n",
       "      <td>85 Turner St</td>\n",
       "      <td>2</td>\n",
       "      <td>h</td>\n",
       "      <td>1480000.0</td>\n",
       "      <td>S</td>\n",
       "      <td>Biggin</td>\n",
       "      <td>03/12/2016</td>\n",
       "      <td>2.5</td>\n",
       "      <td>3067.0</td>\n",
       "      <td>...</td>\n",
       "      <td>1.0</td>\n",
       "      <td>1.0</td>\n",
       "      <td>202.0</td>\n",
       "      <td>NaN</td>\n",
       "      <td>NaN</td>\n",
       "      <td>Yarra City Council</td>\n",
       "      <td>-37.7996</td>\n",
       "      <td>144.9984</td>\n",
       "      <td>Northern Metropolitan</td>\n",
       "      <td>4019.0</td>\n",
       "    </tr>\n",
       "    <tr>\n",
       "      <th>2</th>\n",
       "      <td>Abbotsford</td>\n",
       "      <td>25 Bloomburg St</td>\n",
       "      <td>2</td>\n",
       "      <td>h</td>\n",
       "      <td>1035000.0</td>\n",
       "      <td>S</td>\n",
       "      <td>Biggin</td>\n",
       "      <td>04/02/2016</td>\n",
       "      <td>2.5</td>\n",
       "      <td>3067.0</td>\n",
       "      <td>...</td>\n",
       "      <td>1.0</td>\n",
       "      <td>0.0</td>\n",
       "      <td>156.0</td>\n",
       "      <td>79.0</td>\n",
       "      <td>1900.0</td>\n",
       "      <td>Yarra City Council</td>\n",
       "      <td>-37.8079</td>\n",
       "      <td>144.9934</td>\n",
       "      <td>Northern Metropolitan</td>\n",
       "      <td>4019.0</td>\n",
       "    </tr>\n",
       "    <tr>\n",
       "      <th>3</th>\n",
       "      <td>Abbotsford</td>\n",
       "      <td>18/659 Victoria St</td>\n",
       "      <td>3</td>\n",
       "      <td>u</td>\n",
       "      <td>NaN</td>\n",
       "      <td>VB</td>\n",
       "      <td>Rounds</td>\n",
       "      <td>04/02/2016</td>\n",
       "      <td>2.5</td>\n",
       "      <td>3067.0</td>\n",
       "      <td>...</td>\n",
       "      <td>2.0</td>\n",
       "      <td>1.0</td>\n",
       "      <td>0.0</td>\n",
       "      <td>NaN</td>\n",
       "      <td>NaN</td>\n",
       "      <td>Yarra City Council</td>\n",
       "      <td>-37.8114</td>\n",
       "      <td>145.0116</td>\n",
       "      <td>Northern Metropolitan</td>\n",
       "      <td>4019.0</td>\n",
       "    </tr>\n",
       "    <tr>\n",
       "      <th>4</th>\n",
       "      <td>Abbotsford</td>\n",
       "      <td>5 Charles St</td>\n",
       "      <td>3</td>\n",
       "      <td>h</td>\n",
       "      <td>1465000.0</td>\n",
       "      <td>SP</td>\n",
       "      <td>Biggin</td>\n",
       "      <td>04/03/2017</td>\n",
       "      <td>2.5</td>\n",
       "      <td>3067.0</td>\n",
       "      <td>...</td>\n",
       "      <td>2.0</td>\n",
       "      <td>0.0</td>\n",
       "      <td>134.0</td>\n",
       "      <td>150.0</td>\n",
       "      <td>1900.0</td>\n",
       "      <td>Yarra City Council</td>\n",
       "      <td>-37.8093</td>\n",
       "      <td>144.9944</td>\n",
       "      <td>Northern Metropolitan</td>\n",
       "      <td>4019.0</td>\n",
       "    </tr>\n",
       "  </tbody>\n",
       "</table>\n",
       "<p>5 rows × 21 columns</p>\n",
       "</div>"
      ],
      "text/plain": [
       "       Suburb             Address  Rooms Type      Price Method  Seller  \\\n",
       "0  Abbotsford       68 Studley St      2    h        NaN     SS  Jellis   \n",
       "1  Abbotsford        85 Turner St      2    h  1480000.0      S  Biggin   \n",
       "2  Abbotsford     25 Bloomburg St      2    h  1035000.0      S  Biggin   \n",
       "3  Abbotsford  18/659 Victoria St      3    u        NaN     VB  Rounds   \n",
       "4  Abbotsford        5 Charles St      3    h  1465000.0     SP  Biggin   \n",
       "\n",
       "         Date  Distance  Postcode  ...  Bathroom  Car  Landsize  BuildingArea  \\\n",
       "0  03/09/2016       2.5    3067.0  ...       1.0  1.0     126.0           NaN   \n",
       "1  03/12/2016       2.5    3067.0  ...       1.0  1.0     202.0           NaN   \n",
       "2  04/02/2016       2.5    3067.0  ...       1.0  0.0     156.0          79.0   \n",
       "3  04/02/2016       2.5    3067.0  ...       2.0  1.0       0.0           NaN   \n",
       "4  04/03/2017       2.5    3067.0  ...       2.0  0.0     134.0         150.0   \n",
       "\n",
       "   YearBuilt         CouncilArea Latitude  Longitude             RegionName  \\\n",
       "0        NaN  Yarra City Council -37.8014   144.9958  Northern Metropolitan   \n",
       "1        NaN  Yarra City Council -37.7996   144.9984  Northern Metropolitan   \n",
       "2     1900.0  Yarra City Council -37.8079   144.9934  Northern Metropolitan   \n",
       "3        NaN  Yarra City Council -37.8114   145.0116  Northern Metropolitan   \n",
       "4     1900.0  Yarra City Council -37.8093   144.9944  Northern Metropolitan   \n",
       "\n",
       "  PropertyCount  \n",
       "0        4019.0  \n",
       "1        4019.0  \n",
       "2        4019.0  \n",
       "3        4019.0  \n",
       "4        4019.0  \n",
       "\n",
       "[5 rows x 21 columns]"
      ]
     },
     "execution_count": 1211,
     "metadata": {},
     "output_type": "execute_result"
    }
   ],
   "source": [
    "data.head()"
   ]
  },
  {
   "cell_type": "code",
   "execution_count": 1212,
   "id": "sonic-mortgage",
   "metadata": {},
   "outputs": [],
   "source": [
    "data = data[~data['Price'].isnull()]"
   ]
  },
  {
   "cell_type": "code",
   "execution_count": 1213,
   "id": "divided-procedure",
   "metadata": {},
   "outputs": [
    {
     "name": "stdout",
     "output_type": "stream",
     "text": [
      "<class 'pandas.core.frame.DataFrame'>\n",
      "Int64Index: 27247 entries, 1 to 34856\n",
      "Data columns (total 21 columns):\n",
      " #   Column         Non-Null Count  Dtype  \n",
      "---  ------         --------------  -----  \n",
      " 0   Suburb         27247 non-null  object \n",
      " 1   Address        27247 non-null  object \n",
      " 2   Rooms          27247 non-null  int64  \n",
      " 3   Type           27247 non-null  object \n",
      " 4   Price          27247 non-null  float64\n",
      " 5   Method         27247 non-null  object \n",
      " 6   Seller         27247 non-null  object \n",
      " 7   Date           27247 non-null  object \n",
      " 8   Distance       27246 non-null  float64\n",
      " 9   Postcode       27246 non-null  float64\n",
      " 10  Rooms2         20806 non-null  float64\n",
      " 11  Bathroom       20800 non-null  float64\n",
      " 12  Car            20423 non-null  float64\n",
      " 13  Landsize       17982 non-null  float64\n",
      " 14  BuildingArea   10656 non-null  float64\n",
      " 15  YearBuilt      12084 non-null  float64\n",
      " 16  CouncilArea    27244 non-null  object \n",
      " 17  Latitude       20993 non-null  float64\n",
      " 18  Longitude      20993 non-null  float64\n",
      " 19  RegionName     27244 non-null  object \n",
      " 20  PropertyCount  27244 non-null  float64\n",
      "dtypes: float64(12), int64(1), object(8)\n",
      "memory usage: 4.6+ MB\n"
     ]
    }
   ],
   "source": [
    "data.info()"
   ]
  },
  {
   "cell_type": "code",
   "execution_count": 1214,
   "id": "normal-official",
   "metadata": {},
   "outputs": [
    {
     "data": {
      "text/plain": [
       "<AxesSubplot:>"
      ]
     },
     "execution_count": 1214,
     "metadata": {},
     "output_type": "execute_result"
    },
    {
     "data": {
      "image/png": "[encoded data removed]",
      "text/plain": [
       "<Figure size 1800x720 with 2 Axes>"
      ]
     },
     "metadata": {
      "needs_background": "light"
     },
     "output_type": "display_data"
    }
   ],
   "source": [
    "msno.matrix(data)"
   ]
  },
  {
   "cell_type": "code",
   "execution_count": 1215,
   "id": "integrated-tulsa",
   "metadata": {},
   "outputs": [
    {
     "data": {
      "text/plain": [
       "<AxesSubplot:>"
      ]
     },
     "execution_count": 1215,
     "metadata": {},
     "output_type": "execute_result"
    },
    {
     "data": {
      "image/png": "[encoded data removed]",
      "text/plain": [
       "<Figure size 1440x864 with 2 Axes>"
      ]
     },
     "metadata": {
      "needs_background": "light"
     },
     "output_type": "display_data"
    }
   ],
   "source": [
    "msno.heatmap(data)"
   ]
  },
  {
   "cell_type": "code",
   "execution_count": 1216,
   "id": "southeast-omega",
   "metadata": {},
   "outputs": [],
   "source": [
    "data['Rooms'] = (data.apply(lambda row: (row.Rooms + row.Rooms2) / 2  if row.Rooms2 else row.Rooms, axis=1))"
   ]
  },
  {
   "cell_type": "code",
   "execution_count": 1217,
   "id": "floppy-extra",
   "metadata": {},
   "outputs": [
    {
     "data": {
      "text/html": [
       "<div>\n",
       "<style scoped>\n",
       "    .dataframe tbody tr th:only-of-type {\n",
       "        vertical-align: middle;\n",
       "    }\n",
       "\n",
       "    .dataframe tbody tr th {\n",
       "        vertical-align: top;\n",
       "    }\n",
       "\n",
       "    .dataframe thead th {\n",
       "        text-align: right;\n",
       "    }\n",
       "</style>\n",
       "<table border=\"1\" class=\"dataframe\">\n",
       "  <thead>\n",
       "    <tr style=\"text-align: right;\">\n",
       "      <th></th>\n",
       "      <th>Suburb</th>\n",
       "      <th>Address</th>\n",
       "      <th>Rooms</th>\n",
       "      <th>Type</th>\n",
       "      <th>Price</th>\n",
       "      <th>Method</th>\n",
       "      <th>Seller</th>\n",
       "      <th>Date</th>\n",
       "      <th>Distance</th>\n",
       "      <th>Postcode</th>\n",
       "      <th>...</th>\n",
       "      <th>Bathroom</th>\n",
       "      <th>Car</th>\n",
       "      <th>Landsize</th>\n",
       "      <th>BuildingArea</th>\n",
       "      <th>YearBuilt</th>\n",
       "      <th>CouncilArea</th>\n",
       "      <th>Latitude</th>\n",
       "      <th>Longitude</th>\n",
       "      <th>RegionName</th>\n",
       "      <th>PropertyCount</th>\n",
       "    </tr>\n",
       "  </thead>\n",
       "  <tbody>\n",
       "    <tr>\n",
       "      <th>1</th>\n",
       "      <td>Abbotsford</td>\n",
       "      <td>85 Turner St</td>\n",
       "      <td>2.0</td>\n",
       "      <td>h</td>\n",
       "      <td>1480000.0</td>\n",
       "      <td>S</td>\n",
       "      <td>Biggin</td>\n",
       "      <td>03/12/2016</td>\n",
       "      <td>2.5</td>\n",
       "      <td>3067.0</td>\n",
       "      <td>...</td>\n",
       "      <td>1.0</td>\n",
       "      <td>1.0</td>\n",
       "      <td>202.0</td>\n",
       "      <td>NaN</td>\n",
       "      <td>NaN</td>\n",
       "      <td>Yarra City Council</td>\n",
       "      <td>-37.7996</td>\n",
       "      <td>144.9984</td>\n",
       "      <td>Northern Metropolitan</td>\n",
       "      <td>4019.0</td>\n",
       "    </tr>\n",
       "    <tr>\n",
       "      <th>2</th>\n",
       "      <td>Abbotsford</td>\n",
       "      <td>25 Bloomburg St</td>\n",
       "      <td>2.0</td>\n",
       "      <td>h</td>\n",
       "      <td>1035000.0</td>\n",
       "      <td>S</td>\n",
       "      <td>Biggin</td>\n",
       "      <td>04/02/2016</td>\n",
       "      <td>2.5</td>\n",
       "      <td>3067.0</td>\n",
       "      <td>...</td>\n",
       "      <td>1.0</td>\n",
       "      <td>0.0</td>\n",
       "      <td>156.0</td>\n",
       "      <td>79.0</td>\n",
       "      <td>1900.0</td>\n",
       "      <td>Yarra City Council</td>\n",
       "      <td>-37.8079</td>\n",
       "      <td>144.9934</td>\n",
       "      <td>Northern Metropolitan</td>\n",
       "      <td>4019.0</td>\n",
       "    </tr>\n",
       "    <tr>\n",
       "      <th>4</th>\n",
       "      <td>Abbotsford</td>\n",
       "      <td>5 Charles St</td>\n",
       "      <td>3.0</td>\n",
       "      <td>h</td>\n",
       "      <td>1465000.0</td>\n",
       "      <td>SP</td>\n",
       "      <td>Biggin</td>\n",
       "      <td>04/03/2017</td>\n",
       "      <td>2.5</td>\n",
       "      <td>3067.0</td>\n",
       "      <td>...</td>\n",
       "      <td>2.0</td>\n",
       "      <td>0.0</td>\n",
       "      <td>134.0</td>\n",
       "      <td>150.0</td>\n",
       "      <td>1900.0</td>\n",
       "      <td>Yarra City Council</td>\n",
       "      <td>-37.8093</td>\n",
       "      <td>144.9944</td>\n",
       "      <td>Northern Metropolitan</td>\n",
       "      <td>4019.0</td>\n",
       "    </tr>\n",
       "    <tr>\n",
       "      <th>5</th>\n",
       "      <td>Abbotsford</td>\n",
       "      <td>40 Federation La</td>\n",
       "      <td>3.0</td>\n",
       "      <td>h</td>\n",
       "      <td>850000.0</td>\n",
       "      <td>PI</td>\n",
       "      <td>Biggin</td>\n",
       "      <td>04/03/2017</td>\n",
       "      <td>2.5</td>\n",
       "      <td>3067.0</td>\n",
       "      <td>...</td>\n",
       "      <td>2.0</td>\n",
       "      <td>1.0</td>\n",
       "      <td>94.0</td>\n",
       "      <td>NaN</td>\n",
       "      <td>NaN</td>\n",
       "      <td>Yarra City Council</td>\n",
       "      <td>-37.7969</td>\n",
       "      <td>144.9969</td>\n",
       "      <td>Northern Metropolitan</td>\n",
       "      <td>4019.0</td>\n",
       "    </tr>\n",
       "    <tr>\n",
       "      <th>6</th>\n",
       "      <td>Abbotsford</td>\n",
       "      <td>55a Park St</td>\n",
       "      <td>3.5</td>\n",
       "      <td>h</td>\n",
       "      <td>1600000.0</td>\n",
       "      <td>VB</td>\n",
       "      <td>Nelson</td>\n",
       "      <td>04/06/2016</td>\n",
       "      <td>2.5</td>\n",
       "      <td>3067.0</td>\n",
       "      <td>...</td>\n",
       "      <td>1.0</td>\n",
       "      <td>2.0</td>\n",
       "      <td>120.0</td>\n",
       "      <td>142.0</td>\n",
       "      <td>2014.0</td>\n",
       "      <td>Yarra City Council</td>\n",
       "      <td>-37.8072</td>\n",
       "      <td>144.9941</td>\n",
       "      <td>Northern Metropolitan</td>\n",
       "      <td>4019.0</td>\n",
       "    </tr>\n",
       "  </tbody>\n",
       "</table>\n",
       "<p>5 rows × 21 columns</p>\n",
       "</div>"
      ],
      "text/plain": [
       "       Suburb           Address  Rooms Type      Price Method  Seller  \\\n",
       "1  Abbotsford      85 Turner St    2.0    h  1480000.0      S  Biggin   \n",
       "2  Abbotsford   25 Bloomburg St    2.0    h  1035000.0      S  Biggin   \n",
       "4  Abbotsford      5 Charles St    3.0    h  1465000.0     SP  Biggin   \n",
       "5  Abbotsford  40 Federation La    3.0    h   850000.0     PI  Biggin   \n",
       "6  Abbotsford       55a Park St    3.5    h  1600000.0     VB  Nelson   \n",
       "\n",
       "         Date  Distance  Postcode  ...  Bathroom  Car  Landsize  BuildingArea  \\\n",
       "1  03/12/2016       2.5    3067.0  ...       1.0  1.0     202.0           NaN   \n",
       "2  04/02/2016       2.5    3067.0  ...       1.0  0.0     156.0          79.0   \n",
       "4  04/03/2017       2.5    3067.0  ...       2.0  0.0     134.0         150.0   \n",
       "5  04/03/2017       2.5    3067.0  ...       2.0  1.0      94.0           NaN   \n",
       "6  04/06/2016       2.5    3067.0  ...       1.0  2.0     120.0         142.0   \n",
       "\n",
       "   YearBuilt         CouncilArea Latitude  Longitude             RegionName  \\\n",
       "1        NaN  Yarra City Council -37.7996   144.9984  Northern Metropolitan   \n",
       "2     1900.0  Yarra City Council -37.8079   144.9934  Northern Metropolitan   \n",
       "4     1900.0  Yarra City Council -37.8093   144.9944  Northern Metropolitan   \n",
       "5        NaN  Yarra City Council -37.7969   144.9969  Northern Metropolitan   \n",
       "6     2014.0  Yarra City Council -37.8072   144.9941  Northern Metropolitan   \n",
       "\n",
       "  PropertyCount  \n",
       "1        4019.0  \n",
       "2        4019.0  \n",
       "4        4019.0  \n",
       "5        4019.0  \n",
       "6        4019.0  \n",
       "\n",
       "[5 rows x 21 columns]"
      ]
     },
     "execution_count": 1217,
     "metadata": {},
     "output_type": "execute_result"
    }
   ],
   "source": [
    "data.head()"
   ]
  },
  {
   "cell_type": "code",
   "execution_count": 1218,
   "id": "worthy-execution",
   "metadata": {},
   "outputs": [
    {
     "name": "stdout",
     "output_type": "stream",
     "text": [
      "<class 'pandas.core.frame.DataFrame'>\n",
      "Int64Index: 27247 entries, 1 to 34856\n",
      "Data columns (total 18 columns):\n",
      " #   Column         Non-Null Count  Dtype  \n",
      "---  ------         --------------  -----  \n",
      " 0   Suburb         27247 non-null  object \n",
      " 1   Rooms          20806 non-null  float64\n",
      " 2   Type           27247 non-null  object \n",
      " 3   Price          27247 non-null  float64\n",
      " 4   Method         27247 non-null  object \n",
      " 5   Seller         27247 non-null  object \n",
      " 6   Distance       27246 non-null  float64\n",
      " 7   Postcode       27246 non-null  float64\n",
      " 8   Bathroom       20800 non-null  float64\n",
      " 9   Car            20423 non-null  float64\n",
      " 10  Landsize       17982 non-null  float64\n",
      " 11  BuildingArea   10656 non-null  float64\n",
      " 12  YearBuilt      12084 non-null  float64\n",
      " 13  CouncilArea    27244 non-null  object \n",
      " 14  Latitude       20993 non-null  float64\n",
      " 15  Longitude      20993 non-null  float64\n",
      " 16  RegionName     27244 non-null  object \n",
      " 17  PropertyCount  27244 non-null  float64\n",
      "dtypes: float64(12), object(6)\n",
      "memory usage: 3.9+ MB\n"
     ]
    }
   ],
   "source": [
    "data = data.drop(columns=['Date', 'Rooms2', 'Address'])\n",
    "data.info()"
   ]
  },
  {
   "cell_type": "code",
   "execution_count": 1219,
   "id": "rising-brazil",
   "metadata": {},
   "outputs": [
    {
     "data": {
      "text/plain": [
       "<AxesSubplot:>"
      ]
     },
     "execution_count": 1219,
     "metadata": {},
     "output_type": "execute_result"
    },
    {
     "data": {
      "image/png": "[encoded data removed]",
      "text/plain": [
       "<Figure size 432x288 with 1 Axes>"
      ]
     },
     "metadata": {
      "needs_background": "light"
     },
     "output_type": "display_data"
    }
   ],
   "source": [
    "data['Price'].hist(bins = 30)"
   ]
  },
  {
   "cell_type": "code",
   "execution_count": 1220,
   "id": "everyday-concert",
   "metadata": {},
   "outputs": [
    {
     "data": {
      "text/plain": [
       "'min 310000.0 — max 3400540.000000001'"
      ]
     },
     "execution_count": 1220,
     "metadata": {},
     "output_type": "execute_result"
    }
   ],
   "source": [
    "price_upper = data[\"Price\"].quantile(0.99)\n",
    "price_lower = data[\"Price\"].quantile(0.01)\n",
    "f'min {price_lower} — max {price_upper}'"
   ]
  },
  {
   "cell_type": "code",
   "execution_count": 1221,
   "id": "sixth-train",
   "metadata": {},
   "outputs": [],
   "source": [
    "data = data[(data[\"Price\"] < price_upper) & (data[\"Price\"] > price_lower)]"
   ]
  },
  {
   "cell_type": "code",
   "execution_count": 1222,
   "id": "assisted-european",
   "metadata": {},
   "outputs": [
    {
     "data": {
      "text/plain": [
       "<AxesSubplot:>"
      ]
     },
     "execution_count": 1222,
     "metadata": {},
     "output_type": "execute_result"
    },
    {
     "data": {
      "image/png": "[encoded data removed]",
      "text/plain": [
       "<Figure size 720x720 with 2 Axes>"
      ]
     },
     "metadata": {
      "needs_background": "light"
     },
     "output_type": "display_data"
    }
   ],
   "source": [
    "corrmat = data.corr()\n",
    "f, ax = plt.subplots(figsize=(10, 10))\n",
    "sbrn.heatmap(corrmat, annot=True, cmap=sbrn.diverging_palette(220, 20, as_cmap=True), vmin=-1, vmax=1)"
   ]
  },
  {
   "cell_type": "code",
   "execution_count": 1223,
   "id": "operating-football",
   "metadata": {},
   "outputs": [],
   "source": [
    "data = data.drop(columns=['PropertyCount', 'Postcode'])"
   ]
  },
  {
   "cell_type": "code",
   "execution_count": 1224,
   "id": "weird-watch",
   "metadata": {},
   "outputs": [
    {
     "name": "stdout",
     "output_type": "stream",
     "text": [
      "<class 'pandas.core.frame.DataFrame'>\n",
      "Int64Index: 26687 entries, 1 to 34856\n",
      "Data columns (total 16 columns):\n",
      " #   Column        Non-Null Count  Dtype  \n",
      "---  ------        --------------  -----  \n",
      " 0   Suburb        26687 non-null  object \n",
      " 1   Rooms         20393 non-null  float64\n",
      " 2   Type          26687 non-null  object \n",
      " 3   Price         26687 non-null  float64\n",
      " 4   Method        26687 non-null  object \n",
      " 5   Seller        26687 non-null  object \n",
      " 6   Distance      26686 non-null  float64\n",
      " 7   Bathroom      20388 non-null  float64\n",
      " 8   Car           20014 non-null  float64\n",
      " 9   Landsize      17615 non-null  float64\n",
      " 10  BuildingArea  10429 non-null  float64\n",
      " 11  YearBuilt     11818 non-null  float64\n",
      " 12  CouncilArea   26684 non-null  object \n",
      " 13  Latitude      20575 non-null  float64\n",
      " 14  Longitude     20575 non-null  float64\n",
      " 15  RegionName    26684 non-null  object \n",
      "dtypes: float64(10), object(6)\n",
      "memory usage: 3.5+ MB\n"
     ]
    }
   ],
   "source": [
    "data.info()"
   ]
  },
  {
   "cell_type": "code",
   "execution_count": 1225,
   "id": "capable-hardwood",
   "metadata": {},
   "outputs": [],
   "source": [
    "data = data[~data['Rooms'].isnull()]\n",
    "data = data[~data['Bathroom'].isnull()]\n",
    "data = data[~data['Latitude'].isnull()]\n",
    "data = data[~data['Longitude'].isnull()]"
   ]
  },
  {
   "cell_type": "code",
   "execution_count": 1226,
   "id": "artistic-manitoba",
   "metadata": {},
   "outputs": [
    {
     "name": "stdout",
     "output_type": "stream",
     "text": [
      "<class 'pandas.core.frame.DataFrame'>\n",
      "Int64Index: 20366 entries, 1 to 34856\n",
      "Data columns (total 16 columns):\n",
      " #   Column        Non-Null Count  Dtype  \n",
      "---  ------        --------------  -----  \n",
      " 0   Suburb        20366 non-null  object \n",
      " 1   Rooms         20366 non-null  float64\n",
      " 2   Type          20366 non-null  object \n",
      " 3   Price         20366 non-null  float64\n",
      " 4   Method        20366 non-null  object \n",
      " 5   Seller        20366 non-null  object \n",
      " 6   Distance      20366 non-null  float64\n",
      " 7   Bathroom      20366 non-null  float64\n",
      " 8   Car           19992 non-null  float64\n",
      " 9   Landsize      17585 non-null  float64\n",
      " 10  BuildingArea  10420 non-null  float64\n",
      " 11  YearBuilt     11809 non-null  float64\n",
      " 12  CouncilArea   20366 non-null  object \n",
      " 13  Latitude      20366 non-null  float64\n",
      " 14  Longitude     20366 non-null  float64\n",
      " 15  RegionName    20366 non-null  object \n",
      "dtypes: float64(10), object(6)\n",
      "memory usage: 2.6+ MB\n"
     ]
    }
   ],
   "source": [
    "data.info()"
   ]
  },
  {
   "cell_type": "markdown",
   "id": "medieval-development",
   "metadata": {},
   "source": [
    "## Hot Encoding"
   ]
  },
  {
   "cell_type": "code",
   "execution_count": 1227,
   "id": "vocal-segment",
   "metadata": {},
   "outputs": [],
   "source": [
    "def hot_encoder(category, df):\n",
    "    ohe = OneHotEncoder()\n",
    "    print(np.unique(df[category].astype(str)))\n",
    "    category_col = ohe.fit_transform(df[category].astype(str).values.reshape(-1, 1)).toarray()\n",
    "    for i in range(len(category_col[0])):\n",
    "        arr = []\n",
    "        for x in category_col:\n",
    "            arr.append(x[i])\n",
    "        df[f'{category}{i}'] = arr"
   ]
  },
  {
   "cell_type": "markdown",
   "id": "monthly-stockholm",
   "metadata": {},
   "source": [
    "## Hot Encode Type"
   ]
  },
  {
   "cell_type": "code",
   "execution_count": 1228,
   "id": "ancient-german",
   "metadata": {},
   "outputs": [
    {
     "name": "stdout",
     "output_type": "stream",
     "text": [
      "['h' 't' 'u']\n"
     ]
    }
   ],
   "source": [
    "hot_encoder('Type', data)"
   ]
  },
  {
   "cell_type": "markdown",
   "id": "according-notification",
   "metadata": {},
   "source": [
    "## Hot Encode CouncilArea"
   ]
  },
  {
   "cell_type": "code",
   "execution_count": 1229,
   "id": "faced-kansas",
   "metadata": {},
   "outputs": [
    {
     "name": "stdout",
     "output_type": "stream",
     "text": [
      "['Banyule City Council' 'Bayside City Council' 'Boroondara City Council'\n",
      " 'Brimbank City Council' 'Cardinia Shire Council' 'Casey City Council'\n",
      " 'Darebin City Council' 'Frankston City Council' 'Glen Eira City Council'\n",
      " 'Greater Dandenong City Council' 'Hobsons Bay City Council'\n",
      " 'Hume City Council' 'Kingston City Council' 'Knox City Council'\n",
      " 'Macedon Ranges Shire Council' 'Manningham City Council'\n",
      " 'Maribyrnong City Council' 'Maroondah City Council'\n",
      " 'Melbourne City Council' 'Melton City Council' 'Mitchell Shire Council'\n",
      " 'Monash City Council' 'Moonee Valley City Council'\n",
      " 'Moorabool Shire Council' 'Moreland City Council'\n",
      " 'Nillumbik Shire Council' 'Port Phillip City Council'\n",
      " 'Stonnington City Council' 'Whitehorse City Council'\n",
      " 'Whittlesea City Council' 'Wyndham City Council' 'Yarra City Council'\n",
      " 'Yarra Ranges Shire Council']\n"
     ]
    }
   ],
   "source": [
    "hot_encoder('CouncilArea', data)"
   ]
  },
  {
   "cell_type": "code",
   "execution_count": 1230,
   "id": "convenient-bunny",
   "metadata": {},
   "outputs": [
    {
     "name": "stdout",
     "output_type": "stream",
     "text": [
      "<class 'pandas.core.frame.DataFrame'>\n",
      "Int64Index: 20366 entries, 1 to 34856\n",
      "Data columns (total 45 columns):\n",
      " #   Column         Non-Null Count  Dtype  \n",
      "---  ------         --------------  -----  \n",
      " 0   Rooms          20366 non-null  float64\n",
      " 1   Price          20366 non-null  float64\n",
      " 2   Distance       20366 non-null  float64\n",
      " 3   Bathroom       20366 non-null  float64\n",
      " 4   Car            19992 non-null  float64\n",
      " 5   Landsize       17585 non-null  float64\n",
      " 6   YearBuilt      11809 non-null  float64\n",
      " 7   Latitude       20366 non-null  float64\n",
      " 8   Longitude      20366 non-null  float64\n",
      " 9   Type0          20366 non-null  float64\n",
      " 10  Type1          20366 non-null  float64\n",
      " 11  Type2          20366 non-null  float64\n",
      " 12  CouncilArea0   20366 non-null  float64\n",
      " 13  CouncilArea1   20366 non-null  float64\n",
      " 14  CouncilArea2   20366 non-null  float64\n",
      " 15  CouncilArea3   20366 non-null  float64\n",
      " 16  CouncilArea4   20366 non-null  float64\n",
      " 17  CouncilArea5   20366 non-null  float64\n",
      " 18  CouncilArea6   20366 non-null  float64\n",
      " 19  CouncilArea7   20366 non-null  float64\n",
      " 20  CouncilArea8   20366 non-null  float64\n",
      " 21  CouncilArea9   20366 non-null  float64\n",
      " 22  CouncilArea10  20366 non-null  float64\n",
      " 23  CouncilArea11  20366 non-null  float64\n",
      " 24  CouncilArea12  20366 non-null  float64\n",
      " 25  CouncilArea13  20366 non-null  float64\n",
      " 26  CouncilArea14  20366 non-null  float64\n",
      " 27  CouncilArea15  20366 non-null  float64\n",
      " 28  CouncilArea16  20366 non-null  float64\n",
      " 29  CouncilArea17  20366 non-null  float64\n",
      " 30  CouncilArea18  20366 non-null  float64\n",
      " 31  CouncilArea19  20366 non-null  float64\n",
      " 32  CouncilArea20  20366 non-null  float64\n",
      " 33  CouncilArea21  20366 non-null  float64\n",
      " 34  CouncilArea22  20366 non-null  float64\n",
      " 35  CouncilArea23  20366 non-null  float64\n",
      " 36  CouncilArea24  20366 non-null  float64\n",
      " 37  CouncilArea25  20366 non-null  float64\n",
      " 38  CouncilArea26  20366 non-null  float64\n",
      " 39  CouncilArea27  20366 non-null  float64\n",
      " 40  CouncilArea28  20366 non-null  float64\n",
      " 41  CouncilArea29  20366 non-null  float64\n",
      " 42  CouncilArea30  20366 non-null  float64\n",
      " 43  CouncilArea31  20366 non-null  float64\n",
      " 44  CouncilArea32  20366 non-null  float64\n",
      "dtypes: float64(45)\n",
      "memory usage: 7.1 MB\n"
     ]
    }
   ],
   "source": [
    "data = data.drop(columns=['Type', 'Method', 'CouncilArea', 'Suburb', 'RegionName', 'Seller', 'BuildingArea'])\n",
    "data.info()"
   ]
  },
  {
   "cell_type": "code",
   "execution_count": 1231,
   "id": "worldwide-prospect",
   "metadata": {},
   "outputs": [
    {
     "data": {
      "text/plain": [
       "<AxesSubplot:>"
      ]
     },
     "execution_count": 1231,
     "metadata": {},
     "output_type": "execute_result"
    },
    {
     "data": {
      "image/png": "[encoded data removed]",
      "text/plain": [
       "<Figure size 1080x1080 with 2 Axes>"
      ]
     },
     "metadata": {
      "needs_background": "light"
     },
     "output_type": "display_data"
    }
   ],
   "source": [
    "corrmat = data.corr()\n",
    "f, ax = plt.subplots(figsize=(15, 15))\n",
    "sbrn.heatmap(corrmat, cmap=sbrn.diverging_palette(220, 20, as_cmap=True), vmin=-1, vmax=1)"
   ]
  },
  {
   "cell_type": "code",
   "execution_count": 1232,
   "id": "breathing-outdoors",
   "metadata": {},
   "outputs": [],
   "source": [
    "data['Landsize'] = data['Landsize'].replace(['0', 0], np.nan)"
   ]
  },
  {
   "cell_type": "code",
   "execution_count": 1233,
   "id": "ranging-validity",
   "metadata": {},
   "outputs": [],
   "source": [
    "## get non-categorical column names\n",
    "\n",
    "def hasNumbers(inputString):\n",
    "    return any(char.isdigit() for char in inputString)\n",
    "\n",
    "def get_quantative(column_names):\n",
    "    for x in column_names:\n",
    "        if not hasNumbers(x):\n",
    "            yield x"
   ]
  },
  {
   "cell_type": "code",
   "execution_count": 1234,
   "id": "tracked-particle",
   "metadata": {},
   "outputs": [],
   "source": [
    "def fill_null_with_mean(df, columns, from_df):\n",
    "    if from_df is not None:\n",
    "        for name in columns:\n",
    "            df[name].fillna(from_df[name].mean(), inplace=True)\n",
    "    else:\n",
    "        for name in columns:\n",
    "            df[name].fillna(df[name].mean(), inplace=True)"
   ]
  },
  {
   "cell_type": "code",
   "execution_count": 1235,
   "id": "nonprofit-landscape",
   "metadata": {},
   "outputs": [],
   "source": [
    "Y = data['Price']\n",
    "X = data.drop(columns=['Price'])"
   ]
  },
  {
   "cell_type": "code",
   "execution_count": 1236,
   "id": "hazardous-niger",
   "metadata": {},
   "outputs": [],
   "source": [
    "quantative_columns = list(get_quantative(X.columns))"
   ]
  },
  {
   "cell_type": "code",
   "execution_count": 1237,
   "id": "phantom-synthetic",
   "metadata": {},
   "outputs": [],
   "source": [
    "X_train, X_test, y_train, y_test = train_test_split(X.to_numpy(), Y.to_numpy(), test_size=0.2, shuffle=False)"
   ]
  },
  {
   "cell_type": "code",
   "execution_count": 1238,
   "id": "cleared-leeds",
   "metadata": {},
   "outputs": [],
   "source": [
    "X_train = pd.DataFrame(data=X_train, columns=X.columns)\n",
    "fill_null_with_mean(X_train, quantative_columns, None)\n",
    "\n",
    "X_test = pd.DataFrame(data=X_test, columns=X.columns)\n",
    "fill_null_with_mean(X_test, quantative_columns, X_train)"
   ]
  },
  {
   "cell_type": "code",
   "execution_count": 1239,
   "id": "spatial-anime",
   "metadata": {},
   "outputs": [],
   "source": [
    "scaler_x = StandardScaler()\n",
    "scaler_y = StandardScaler()\n",
    "x = scaler_x.fit_transform(X_train)\n",
    "y = scaler_y.fit_transform(y_train.reshape(len(y_train),1))[:,0]"
   ]
  },
  {
   "cell_type": "code",
   "execution_count": 1240,
   "id": "national-relation",
   "metadata": {},
   "outputs": [],
   "source": [
    "X_scaled_test = scaler_x.transform(X_test)\n",
    "y_scaled_test = scaler_y.transform(y_test.reshape(len(y_test),1))[:,0]"
   ]
  },
  {
   "cell_type": "code",
   "execution_count": 1241,
   "id": "critical-forest",
   "metadata": {},
   "outputs": [
    {
     "name": "stdout",
     "output_type": "stream",
     "text": [
      "(16292, 44)\n"
     ]
    }
   ],
   "source": [
    "print(x.shape)\n",
    "n = x.shape[1]"
   ]
  },
  {
   "cell_type": "code",
   "execution_count": 1242,
   "id": "pending-treasury",
   "metadata": {},
   "outputs": [
    {
     "data": {
      "image/png": "[encoded data removed]",
      "text/plain": [
       "<Figure size 432x288 with 1 Axes>"
      ]
     },
     "metadata": {
      "needs_background": "light"
     },
     "output_type": "display_data"
    }
   ],
   "source": [
    "fig, ax = plt.subplots()\n",
    "hist = ax.hist(y, bins=40, range=[-5, 5])"
   ]
  },
  {
   "cell_type": "code",
   "execution_count": 1243,
   "id": "undefined-binding",
   "metadata": {},
   "outputs": [],
   "source": [
    "def sample_match(pred, real, open_pred):\n",
    "    d = {'prediction': [x[0] for x in pred] if open_pred else pred, 'real': real}\n",
    "    return pd.DataFrame(data=d)"
   ]
  },
  {
   "cell_type": "markdown",
   "id": "signed-occupation",
   "metadata": {},
   "source": [
    "# ANN"
   ]
  },
  {
   "cell_type": "code",
   "execution_count": 1244,
   "id": "absolute-allah",
   "metadata": {},
   "outputs": [],
   "source": [
    "model = Sequential()\n",
    "model.add(Dense(96, activation='relu', input_shape=(n,)))\n",
    "model.add(Dense(96, activation='relu', kernel_regularizer='l2', kernel_initializer='he_uniform'))\n",
    "model.add(Dense(48, kernel_regularizer='l2', kernel_initializer='he_uniform', activation='relu'))\n",
    "model.add(Dense(48, kernel_regularizer='l2', kernel_initializer='he_uniform', activation='relu'))\n",
    "model.add(Dense(16, kernel_regularizer='l2', kernel_initializer='he_uniform', activation='relu'))\n",
    "model.add(Dense(8, kernel_regularizer='l2', kernel_initializer='he_uniform', activation='relu'))\n",
    "model.add(Dense(1, activation='linear'))"
   ]
  },
  {
   "cell_type": "code",
   "execution_count": 1245,
   "id": "centered-accused",
   "metadata": {},
   "outputs": [],
   "source": [
    "model.compile(optimizer=Adam(lr=0.001), \n",
    "              loss='mean_squared_error', metrics=['mse'])"
   ]
  },
  {
   "cell_type": "code",
   "execution_count": 1246,
   "id": "clear-attendance",
   "metadata": {},
   "outputs": [
    {
     "name": "stdout",
     "output_type": "stream",
     "text": [
      "Epoch 1/150\n",
      "917/917 [==============================] - 2s 1ms/step - loss: 2.9124 - mse: 0.3985 - val_loss: 0.7893 - val_mse: 0.2918\n",
      "Epoch 2/150\n",
      "917/917 [==============================] - 1s 994us/step - loss: 0.6410 - mse: 0.2770 - val_loss: 0.4345 - val_mse: 0.2694\n",
      "Epoch 3/150\n",
      "917/917 [==============================] - 1s 999us/step - loss: 0.4382 - mse: 0.2986 - val_loss: 0.3523 - val_mse: 0.2576\n",
      "Epoch 4/150\n",
      "917/917 [==============================] - 1s 998us/step - loss: 0.3406 - mse: 0.2574 - val_loss: 0.3259 - val_mse: 0.2591\n",
      "Epoch 5/150\n",
      "917/917 [==============================] - 1s 1ms/step - loss: 0.3151 - mse: 0.2526 - val_loss: 0.3103 - val_mse: 0.2540\n",
      "Epoch 6/150\n",
      "917/917 [==============================] - 1s 997us/step - loss: 0.3064 - mse: 0.2525 - val_loss: 0.3102 - val_mse: 0.2608\n",
      "Epoch 7/150\n",
      "917/917 [==============================] - 1s 1ms/step - loss: 0.3055 - mse: 0.2558 - val_loss: 0.2915 - val_mse: 0.2440\n",
      "Epoch 8/150\n",
      "917/917 [==============================] - 1s 1ms/step - loss: 0.2967 - mse: 0.2495 - val_loss: 0.3308 - val_mse: 0.2858\n",
      "Epoch 9/150\n",
      "917/917 [==============================] - 1s 1ms/step - loss: 0.2851 - mse: 0.2400 - val_loss: 0.2960 - val_mse: 0.2503\n",
      "Epoch 10/150\n",
      "917/917 [==============================] - 1s 1ms/step - loss: 0.2741 - mse: 0.2293 - val_loss: 0.2819 - val_mse: 0.2384\n",
      "Epoch 11/150\n",
      "917/917 [==============================] - 1s 1ms/step - loss: 0.2749 - mse: 0.2305 - val_loss: 0.2788 - val_mse: 0.2367\n",
      "Epoch 12/150\n",
      "917/917 [==============================] - 1s 1ms/step - loss: 0.2729 - mse: 0.2302 - val_loss: 0.2571 - val_mse: 0.2141\n",
      "Epoch 13/150\n",
      "917/917 [==============================] - 1s 1ms/step - loss: 0.2632 - mse: 0.2196 - val_loss: 0.2576 - val_mse: 0.2140\n",
      "Epoch 14/150\n",
      "917/917 [==============================] - 1s 1ms/step - loss: 0.2598 - mse: 0.2161 - val_loss: 0.2507 - val_mse: 0.2075\n",
      "Epoch 15/150\n",
      "917/917 [==============================] - 1s 1ms/step - loss: 0.2586 - mse: 0.2158 - val_loss: 0.2488 - val_mse: 0.2066\n",
      "Epoch 16/150\n",
      "917/917 [==============================] - 1s 1ms/step - loss: 0.2498 - mse: 0.2066 - val_loss: 0.2471 - val_mse: 0.2048\n",
      "Epoch 17/150\n",
      "917/917 [==============================] - 1s 1ms/step - loss: 0.2436 - mse: 0.2006 - val_loss: 0.2395 - val_mse: 0.1972\n",
      "Epoch 18/150\n",
      "917/917 [==============================] - 1s 1ms/step - loss: 0.2422 - mse: 0.2000 - val_loss: 0.2424 - val_mse: 0.1999\n",
      "Epoch 19/150\n",
      "917/917 [==============================] - 1s 1ms/step - loss: 0.2487 - mse: 0.2063 - val_loss: 0.2500 - val_mse: 0.2097\n",
      "Epoch 20/150\n",
      "917/917 [==============================] - 1s 1ms/step - loss: 0.2434 - mse: 0.2014 - val_loss: 0.2576 - val_mse: 0.2144\n",
      "Epoch 21/150\n",
      "917/917 [==============================] - 1s 1ms/step - loss: 0.2257 - mse: 0.1834 - val_loss: 0.2344 - val_mse: 0.1915\n",
      "Epoch 22/150\n",
      "917/917 [==============================] - 1s 1ms/step - loss: 0.2190 - mse: 0.1763 - val_loss: 0.2290 - val_mse: 0.1864\n",
      "Epoch 23/150\n",
      "917/917 [==============================] - 1s 1ms/step - loss: 0.2278 - mse: 0.1849 - val_loss: 0.2383 - val_mse: 0.1959\n",
      "Epoch 24/150\n",
      "917/917 [==============================] - 1s 1ms/step - loss: 0.2219 - mse: 0.1793 - val_loss: 0.2332 - val_mse: 0.1903\n",
      "Epoch 25/150\n",
      "917/917 [==============================] - 1s 1ms/step - loss: 0.2151 - mse: 0.1723 - val_loss: 0.2299 - val_mse: 0.1871\n",
      "Epoch 26/150\n",
      "917/917 [==============================] - 1s 1ms/step - loss: 0.2157 - mse: 0.1728 - val_loss: 0.2297 - val_mse: 0.1868\n",
      "Epoch 27/150\n",
      "917/917 [==============================] - 1s 1ms/step - loss: 0.2118 - mse: 0.1689 - val_loss: 0.2308 - val_mse: 0.1879\n",
      "Epoch 28/150\n",
      "917/917 [==============================] - 1s 1ms/step - loss: 0.2107 - mse: 0.1677 - val_loss: 0.2292 - val_mse: 0.1863\n",
      "Epoch 29/150\n",
      "917/917 [==============================] - 1s 1ms/step - loss: 0.2094 - mse: 0.1664 - val_loss: 0.2288 - val_mse: 0.1858\n",
      "Epoch 30/150\n",
      "917/917 [==============================] - 1s 1ms/step - loss: 0.2158 - mse: 0.1728 - val_loss: 0.2295 - val_mse: 0.1865\n",
      "Epoch 31/150\n",
      "917/917 [==============================] - 1s 1ms/step - loss: 0.2142 - mse: 0.1711 - val_loss: 0.2314 - val_mse: 0.1884\n",
      "Epoch 32/150\n",
      "917/917 [==============================] - 1s 1ms/step - loss: 0.2144 - mse: 0.1714 - val_loss: 0.2303 - val_mse: 0.1871\n",
      "Epoch 33/150\n",
      "917/917 [==============================] - 1s 1ms/step - loss: 0.2141 - mse: 0.1710 - val_loss: 0.2287 - val_mse: 0.1857\n",
      "Epoch 34/150\n",
      "917/917 [==============================] - 1s 1ms/step - loss: 0.2163 - mse: 0.1731 - val_loss: 0.2284 - val_mse: 0.1852\n",
      "Epoch 35/150\n",
      "917/917 [==============================] - 1s 1ms/step - loss: 0.2205 - mse: 0.1774 - val_loss: 0.2299 - val_mse: 0.1866\n",
      "Epoch 36/150\n",
      "917/917 [==============================] - 1s 1ms/step - loss: 0.2068 - mse: 0.1636 - val_loss: 0.2288 - val_mse: 0.1857\n",
      "Epoch 37/150\n",
      "917/917 [==============================] - 1s 1ms/step - loss: 0.2168 - mse: 0.1737 - val_loss: 0.2281 - val_mse: 0.1849\n",
      "Epoch 38/150\n",
      "917/917 [==============================] - 1s 1ms/step - loss: 0.2057 - mse: 0.1625 - val_loss: 0.2283 - val_mse: 0.1851\n",
      "Epoch 39/150\n",
      "917/917 [==============================] - 1s 1ms/step - loss: 0.2170 - mse: 0.1738 - val_loss: 0.2280 - val_mse: 0.1848\n",
      "Epoch 40/150\n",
      "917/917 [==============================] - 1s 1ms/step - loss: 0.2105 - mse: 0.1673 - val_loss: 0.2276 - val_mse: 0.1844\n",
      "Epoch 41/150\n",
      "917/917 [==============================] - 1s 1ms/step - loss: 0.2137 - mse: 0.1705 - val_loss: 0.2279 - val_mse: 0.1846\n",
      "Epoch 42/150\n",
      "917/917 [==============================] - 1s 1ms/step - loss: 0.2124 - mse: 0.1691 - val_loss: 0.2295 - val_mse: 0.1863\n",
      "Epoch 43/150\n",
      "917/917 [==============================] - 1s 1ms/step - loss: 0.2149 - mse: 0.1718 - val_loss: 0.2291 - val_mse: 0.1859\n",
      "Epoch 44/150\n",
      "917/917 [==============================] - 1s 1ms/step - loss: 0.2149 - mse: 0.1716 - val_loss: 0.2263 - val_mse: 0.1833\n",
      "Epoch 45/150\n",
      "917/917 [==============================] - 1s 1ms/step - loss: 0.2166 - mse: 0.1734 - val_loss: 0.2288 - val_mse: 0.1857\n",
      "Epoch 46/150\n",
      "917/917 [==============================] - 1s 1ms/step - loss: 0.2185 - mse: 0.1753 - val_loss: 0.2325 - val_mse: 0.1893\n",
      "Epoch 47/150\n",
      "917/917 [==============================] - 1s 1ms/step - loss: 0.2160 - mse: 0.1727 - val_loss: 0.2286 - val_mse: 0.1854\n",
      "Epoch 48/150\n",
      "917/917 [==============================] - 1s 1ms/step - loss: 0.2087 - mse: 0.1655 - val_loss: 0.2283 - val_mse: 0.1851\n",
      "Epoch 49/150\n",
      "917/917 [==============================] - 1s 1ms/step - loss: 0.2071 - mse: 0.1639 - val_loss: 0.2277 - val_mse: 0.1845\n",
      "Epoch 50/150\n",
      "917/917 [==============================] - 1s 1ms/step - loss: 0.2072 - mse: 0.1640 - val_loss: 0.2275 - val_mse: 0.1843\n",
      "Epoch 51/150\n",
      "917/917 [==============================] - 1s 1ms/step - loss: 0.2092 - mse: 0.1660 - val_loss: 0.2275 - val_mse: 0.1841\n"
     ]
    }
   ],
   "source": [
    "reduce_lr = ReduceLROnPlateau(monitor=\"val_loss\", factor=0.2, patience=3, min_lr=0.00005)\n",
    "early_stopping = EarlyStopping(monitor=\"val_loss\", patience=7)\n",
    "history = model.fit(x, y, epochs=150, batch_size=16, validation_split=0.1, \n",
    "                  callbacks=[reduce_lr, early_stopping], verbose=1)"
   ]
  },
  {
   "cell_type": "code",
   "execution_count": 1247,
   "id": "mediterranean-machine",
   "metadata": {},
   "outputs": [
    {
     "data": {
      "image/png": "[encoded data removed]",
      "text/plain": [
       "<Figure size 720x360 with 2 Axes>"
      ]
     },
     "metadata": {
      "needs_background": "light"
     },
     "output_type": "display_data"
    }
   ],
   "source": [
    "plt.figure(figsize=[10,5])\n",
    "plt.subplot(121)\n",
    "plt.plot(history.history['mse'])\n",
    "plt.plot(history.history['val_mse'])\n",
    "plt.xlabel('Epoch')\n",
    "plt.ylabel('MSE')\n",
    "plt.legend(['Training MSE',\n",
    "           'Validation MSE'])\n",
    "plt.title('MSE Curves')\n",
    "plt.subplot(122)\n",
    "plt.plot(history.history['loss'])\n",
    "plt.plot(history.history['val_loss'])\n",
    "plt.xlabel('Epoch')\n",
    "plt.ylabel('Loss')\n",
    "plt.legend(['Training Loss',\n",
    "           'Validation Loss'])\n",
    "plt.title('Loss Curves')\n",
    "plt.show()"
   ]
  },
  {
   "cell_type": "code",
   "execution_count": 1248,
   "id": "simple-transfer",
   "metadata": {},
   "outputs": [],
   "source": [
    "nn_results = model.predict(X_scaled_test)"
   ]
  },
  {
   "cell_type": "code",
   "execution_count": 1249,
   "id": "protective-criminal",
   "metadata": {},
   "outputs": [
    {
     "data": {
      "text/html": [
       "<div>\n",
       "<style scoped>\n",
       "    .dataframe tbody tr th:only-of-type {\n",
       "        vertical-align: middle;\n",
       "    }\n",
       "\n",
       "    .dataframe tbody tr th {\n",
       "        vertical-align: top;\n",
       "    }\n",
       "\n",
       "    .dataframe thead th {\n",
       "        text-align: right;\n",
       "    }\n",
       "</style>\n",
       "<table border=\"1\" class=\"dataframe\">\n",
       "  <thead>\n",
       "    <tr style=\"text-align: right;\">\n",
       "      <th></th>\n",
       "      <th>prediction</th>\n",
       "      <th>real</th>\n",
       "    </tr>\n",
       "  </thead>\n",
       "  <tbody>\n",
       "    <tr>\n",
       "      <th>0</th>\n",
       "      <td>0.874364</td>\n",
       "      <td>0.734979</td>\n",
       "    </tr>\n",
       "    <tr>\n",
       "      <th>1</th>\n",
       "      <td>1.737552</td>\n",
       "      <td>1.081740</td>\n",
       "    </tr>\n",
       "    <tr>\n",
       "      <th>2</th>\n",
       "      <td>1.536284</td>\n",
       "      <td>1.152544</td>\n",
       "    </tr>\n",
       "    <tr>\n",
       "      <th>3</th>\n",
       "      <td>1.167427</td>\n",
       "      <td>1.310493</td>\n",
       "    </tr>\n",
       "    <tr>\n",
       "      <th>4</th>\n",
       "      <td>0.171093</td>\n",
       "      <td>0.371878</td>\n",
       "    </tr>\n",
       "    <tr>\n",
       "      <th>5</th>\n",
       "      <td>2.128173</td>\n",
       "      <td>1.107157</td>\n",
       "    </tr>\n",
       "    <tr>\n",
       "      <th>6</th>\n",
       "      <td>1.596878</td>\n",
       "      <td>1.533800</td>\n",
       "    </tr>\n",
       "    <tr>\n",
       "      <th>7</th>\n",
       "      <td>-0.894374</td>\n",
       "      <td>-0.826354</td>\n",
       "    </tr>\n",
       "    <tr>\n",
       "      <th>8</th>\n",
       "      <td>-1.122876</td>\n",
       "      <td>-1.116835</td>\n",
       "    </tr>\n",
       "    <tr>\n",
       "      <th>9</th>\n",
       "      <td>-1.071012</td>\n",
       "      <td>-1.062370</td>\n",
       "    </tr>\n",
       "    <tr>\n",
       "      <th>10</th>\n",
       "      <td>-1.130236</td>\n",
       "      <td>-1.066001</td>\n",
       "    </tr>\n",
       "    <tr>\n",
       "      <th>11</th>\n",
       "      <td>-0.077939</td>\n",
       "      <td>-0.127386</td>\n",
       "    </tr>\n",
       "    <tr>\n",
       "      <th>12</th>\n",
       "      <td>0.946426</td>\n",
       "      <td>2.096606</td>\n",
       "    </tr>\n",
       "    <tr>\n",
       "      <th>13</th>\n",
       "      <td>-0.108624</td>\n",
       "      <td>-0.352508</td>\n",
       "    </tr>\n",
       "    <tr>\n",
       "      <th>14</th>\n",
       "      <td>1.623885</td>\n",
       "      <td>2.441552</td>\n",
       "    </tr>\n",
       "    <tr>\n",
       "      <th>15</th>\n",
       "      <td>-0.902919</td>\n",
       "      <td>-0.898975</td>\n",
       "    </tr>\n",
       "    <tr>\n",
       "      <th>16</th>\n",
       "      <td>1.538905</td>\n",
       "      <td>-0.263548</td>\n",
       "    </tr>\n",
       "    <tr>\n",
       "      <th>17</th>\n",
       "      <td>-0.894076</td>\n",
       "      <td>-0.998827</td>\n",
       "    </tr>\n",
       "    <tr>\n",
       "      <th>18</th>\n",
       "      <td>-0.698535</td>\n",
       "      <td>-0.515903</td>\n",
       "    </tr>\n",
       "    <tr>\n",
       "      <th>19</th>\n",
       "      <td>-0.580593</td>\n",
       "      <td>-0.805476</td>\n",
       "    </tr>\n",
       "    <tr>\n",
       "      <th>20</th>\n",
       "      <td>-0.370212</td>\n",
       "      <td>-0.690192</td>\n",
       "    </tr>\n",
       "    <tr>\n",
       "      <th>21</th>\n",
       "      <td>-0.657761</td>\n",
       "      <td>-0.776428</td>\n",
       "    </tr>\n",
       "    <tr>\n",
       "      <th>22</th>\n",
       "      <td>-0.955872</td>\n",
       "      <td>-1.053292</td>\n",
       "    </tr>\n",
       "    <tr>\n",
       "      <th>23</th>\n",
       "      <td>-0.689090</td>\n",
       "      <td>-0.842694</td>\n",
       "    </tr>\n",
       "    <tr>\n",
       "      <th>24</th>\n",
       "      <td>-0.432970</td>\n",
       "      <td>-0.498656</td>\n",
       "    </tr>\n",
       "  </tbody>\n",
       "</table>\n",
       "</div>"
      ],
      "text/plain": [
       "    prediction      real\n",
       "0     0.874364  0.734979\n",
       "1     1.737552  1.081740\n",
       "2     1.536284  1.152544\n",
       "3     1.167427  1.310493\n",
       "4     0.171093  0.371878\n",
       "5     2.128173  1.107157\n",
       "6     1.596878  1.533800\n",
       "7    -0.894374 -0.826354\n",
       "8    -1.122876 -1.116835\n",
       "9    -1.071012 -1.062370\n",
       "10   -1.130236 -1.066001\n",
       "11   -0.077939 -0.127386\n",
       "12    0.946426  2.096606\n",
       "13   -0.108624 -0.352508\n",
       "14    1.623885  2.441552\n",
       "15   -0.902919 -0.898975\n",
       "16    1.538905 -0.263548\n",
       "17   -0.894076 -0.998827\n",
       "18   -0.698535 -0.515903\n",
       "19   -0.580593 -0.805476\n",
       "20   -0.370212 -0.690192\n",
       "21   -0.657761 -0.776428\n",
       "22   -0.955872 -1.053292\n",
       "23   -0.689090 -0.842694\n",
       "24   -0.432970 -0.498656"
      ]
     },
     "execution_count": 1249,
     "metadata": {},
     "output_type": "execute_result"
    }
   ],
   "source": [
    "sample_match(nn_results[:25], y_scaled_test[:25], True)"
   ]
  },
  {
   "cell_type": "code",
   "execution_count": 1250,
   "id": "humanitarian-bubble",
   "metadata": {},
   "outputs": [
    {
     "data": {
      "text/plain": [
       "0.776629173333089"
      ]
     },
     "execution_count": 1250,
     "metadata": {},
     "output_type": "execute_result"
    }
   ],
   "source": [
    "r2_score(nn_results, y_scaled_test)"
   ]
  },
  {
   "cell_type": "code",
   "execution_count": 1251,
   "id": "possible-grant",
   "metadata": {},
   "outputs": [
    {
     "data": {
      "text/plain": [
       "0.18583526885309676"
      ]
     },
     "execution_count": 1251,
     "metadata": {},
     "output_type": "execute_result"
    }
   ],
   "source": [
    "mean_squared_error(nn_results, y_scaled_test)"
   ]
  },
  {
   "cell_type": "markdown",
   "id": "portuguese-fishing",
   "metadata": {},
   "source": [
    "# SVM"
   ]
  },
  {
   "cell_type": "code",
   "execution_count": 1000,
   "id": "portable-happening",
   "metadata": {},
   "outputs": [
    {
     "name": "stdout",
     "output_type": "stream",
     "text": [
      "Fitting 5 folds for each of 20 candidates, totalling 100 fits\n",
      "{'C': 10, 'gamma': 'scale', 'kernel': 'rbf'}\n"
     ]
    }
   ],
   "source": [
    "param_grid = {'C': [0.1, 1, 10, 50], 'gamma': ['scale', 1, 0.1, 0.01, 0.001], \n",
    "                  'kernel': ['rbf']}\n",
    "grid = GridSearchCV(SVR(), param_grid, verbose=2, refit=True, n_jobs=-1)\n",
    "grid.fit(x, y)\n",
    "print(grid.best_params_)\n",
    "svm = SVR(kernel=grid.best_params_['kernel'], C=grid.best_params_['C'], gamma=grid.best_params_['gamma'])"
   ]
  },
  {
   "cell_type": "code",
   "execution_count": 278,
   "id": "special-sixth",
   "metadata": {},
   "outputs": [],
   "source": [
    "svm = SVR(kernel='rbf', C=50, gamma='scale')"
   ]
  },
  {
   "cell_type": "code",
   "execution_count": 279,
   "id": "normal-tonight",
   "metadata": {},
   "outputs": [
    {
     "data": {
      "text/plain": [
       "SVR(C=50)"
      ]
     },
     "execution_count": 279,
     "metadata": {},
     "output_type": "execute_result"
    }
   ],
   "source": [
    "svm.fit(x, y)"
   ]
  },
  {
   "cell_type": "code",
   "execution_count": 280,
   "id": "popular-reducing",
   "metadata": {},
   "outputs": [],
   "source": [
    "svm_results = svm.predict(X_scaled_test)"
   ]
  },
  {
   "cell_type": "code",
   "execution_count": 281,
   "id": "revised-juvenile",
   "metadata": {},
   "outputs": [
    {
     "data": {
      "text/plain": [
       "0.7183183594130187"
      ]
     },
     "execution_count": 281,
     "metadata": {},
     "output_type": "execute_result"
    }
   ],
   "source": [
    "r2_score(svm_results, y_scaled_test)"
   ]
  },
  {
   "cell_type": "code",
   "execution_count": 282,
   "id": "religious-lunch",
   "metadata": {},
   "outputs": [
    {
     "data": {
      "text/html": [
       "<div>\n",
       "<style scoped>\n",
       "    .dataframe tbody tr th:only-of-type {\n",
       "        vertical-align: middle;\n",
       "    }\n",
       "\n",
       "    .dataframe tbody tr th {\n",
       "        vertical-align: top;\n",
       "    }\n",
       "\n",
       "    .dataframe thead th {\n",
       "        text-align: right;\n",
       "    }\n",
       "</style>\n",
       "<table border=\"1\" class=\"dataframe\">\n",
       "  <thead>\n",
       "    <tr style=\"text-align: right;\">\n",
       "      <th></th>\n",
       "      <th>prediction</th>\n",
       "      <th>real</th>\n",
       "    </tr>\n",
       "  </thead>\n",
       "  <tbody>\n",
       "    <tr>\n",
       "      <th>0</th>\n",
       "      <td>0.440110</td>\n",
       "      <td>0.734979</td>\n",
       "    </tr>\n",
       "    <tr>\n",
       "      <th>1</th>\n",
       "      <td>1.011961</td>\n",
       "      <td>1.081740</td>\n",
       "    </tr>\n",
       "    <tr>\n",
       "      <th>2</th>\n",
       "      <td>0.853106</td>\n",
       "      <td>1.152544</td>\n",
       "    </tr>\n",
       "    <tr>\n",
       "      <th>3</th>\n",
       "      <td>0.683708</td>\n",
       "      <td>1.310493</td>\n",
       "    </tr>\n",
       "    <tr>\n",
       "      <th>4</th>\n",
       "      <td>0.171255</td>\n",
       "      <td>0.371878</td>\n",
       "    </tr>\n",
       "    <tr>\n",
       "      <th>5</th>\n",
       "      <td>1.545266</td>\n",
       "      <td>1.107157</td>\n",
       "    </tr>\n",
       "    <tr>\n",
       "      <th>6</th>\n",
       "      <td>1.103159</td>\n",
       "      <td>1.533800</td>\n",
       "    </tr>\n",
       "    <tr>\n",
       "      <th>7</th>\n",
       "      <td>-0.809704</td>\n",
       "      <td>-0.826354</td>\n",
       "    </tr>\n",
       "    <tr>\n",
       "      <th>8</th>\n",
       "      <td>-0.979735</td>\n",
       "      <td>-1.116835</td>\n",
       "    </tr>\n",
       "    <tr>\n",
       "      <th>9</th>\n",
       "      <td>-1.003648</td>\n",
       "      <td>-1.062370</td>\n",
       "    </tr>\n",
       "    <tr>\n",
       "      <th>10</th>\n",
       "      <td>-1.005799</td>\n",
       "      <td>-1.066001</td>\n",
       "    </tr>\n",
       "    <tr>\n",
       "      <th>11</th>\n",
       "      <td>-0.068435</td>\n",
       "      <td>-0.127386</td>\n",
       "    </tr>\n",
       "    <tr>\n",
       "      <th>12</th>\n",
       "      <td>0.458906</td>\n",
       "      <td>2.096606</td>\n",
       "    </tr>\n",
       "    <tr>\n",
       "      <th>13</th>\n",
       "      <td>-0.107575</td>\n",
       "      <td>-0.352508</td>\n",
       "    </tr>\n",
       "    <tr>\n",
       "      <th>14</th>\n",
       "      <td>1.345703</td>\n",
       "      <td>2.441552</td>\n",
       "    </tr>\n",
       "    <tr>\n",
       "      <th>15</th>\n",
       "      <td>-0.884226</td>\n",
       "      <td>-0.898975</td>\n",
       "    </tr>\n",
       "    <tr>\n",
       "      <th>16</th>\n",
       "      <td>-0.462184</td>\n",
       "      <td>-0.263548</td>\n",
       "    </tr>\n",
       "    <tr>\n",
       "      <th>17</th>\n",
       "      <td>-0.906170</td>\n",
       "      <td>-0.998827</td>\n",
       "    </tr>\n",
       "    <tr>\n",
       "      <th>18</th>\n",
       "      <td>-0.708144</td>\n",
       "      <td>-0.515903</td>\n",
       "    </tr>\n",
       "    <tr>\n",
       "      <th>19</th>\n",
       "      <td>-0.510899</td>\n",
       "      <td>-0.805476</td>\n",
       "    </tr>\n",
       "    <tr>\n",
       "      <th>20</th>\n",
       "      <td>-0.536690</td>\n",
       "      <td>-0.690192</td>\n",
       "    </tr>\n",
       "    <tr>\n",
       "      <th>21</th>\n",
       "      <td>-0.646142</td>\n",
       "      <td>-0.776428</td>\n",
       "    </tr>\n",
       "    <tr>\n",
       "      <th>22</th>\n",
       "      <td>-0.998266</td>\n",
       "      <td>-1.053292</td>\n",
       "    </tr>\n",
       "    <tr>\n",
       "      <th>23</th>\n",
       "      <td>-0.780334</td>\n",
       "      <td>-0.842694</td>\n",
       "    </tr>\n",
       "    <tr>\n",
       "      <th>24</th>\n",
       "      <td>-0.437485</td>\n",
       "      <td>-0.498656</td>\n",
       "    </tr>\n",
       "  </tbody>\n",
       "</table>\n",
       "</div>"
      ],
      "text/plain": [
       "    prediction      real\n",
       "0     0.440110  0.734979\n",
       "1     1.011961  1.081740\n",
       "2     0.853106  1.152544\n",
       "3     0.683708  1.310493\n",
       "4     0.171255  0.371878\n",
       "5     1.545266  1.107157\n",
       "6     1.103159  1.533800\n",
       "7    -0.809704 -0.826354\n",
       "8    -0.979735 -1.116835\n",
       "9    -1.003648 -1.062370\n",
       "10   -1.005799 -1.066001\n",
       "11   -0.068435 -0.127386\n",
       "12    0.458906  2.096606\n",
       "13   -0.107575 -0.352508\n",
       "14    1.345703  2.441552\n",
       "15   -0.884226 -0.898975\n",
       "16   -0.462184 -0.263548\n",
       "17   -0.906170 -0.998827\n",
       "18   -0.708144 -0.515903\n",
       "19   -0.510899 -0.805476\n",
       "20   -0.536690 -0.690192\n",
       "21   -0.646142 -0.776428\n",
       "22   -0.998266 -1.053292\n",
       "23   -0.780334 -0.842694\n",
       "24   -0.437485 -0.498656"
      ]
     },
     "execution_count": 282,
     "metadata": {},
     "output_type": "execute_result"
    }
   ],
   "source": [
    "sample_match(svm_results[:25], y_scaled_test[:25], False)"
   ]
  },
  {
   "cell_type": "markdown",
   "id": "superior-trace",
   "metadata": {},
   "source": [
    "## Random Forest"
   ]
  },
  {
   "cell_type": "code",
   "execution_count": 1252,
   "id": "dress-token",
   "metadata": {},
   "outputs": [
    {
     "name": "stdout",
     "output_type": "stream",
     "text": [
      "Fitting 5 folds for each of 1 candidates, totalling 5 fits\n"
     ]
    },
    {
     "data": {
      "text/plain": [
       "GridSearchCV(estimator=RandomForestRegressor(), n_jobs=-1,\n",
       "             param_grid={'bootstrap': [True], 'max_depth': [None],\n",
       "                         'max_features': ['auto'], 'min_samples_leaf': [2],\n",
       "                         'min_samples_split': [2], 'n_estimators': [1500]},\n",
       "             verbose=2)"
      ]
     },
     "execution_count": 1252,
     "metadata": {},
     "output_type": "execute_result"
    }
   ],
   "source": [
    "param_grid = {\n",
    "    'bootstrap': [True],\n",
    "    'max_depth': [None],\n",
    "    'max_features': ['auto'],\n",
    "    'min_samples_leaf': [2],\n",
    "    'min_samples_split': [2],\n",
    "    'n_estimators': [1500]\n",
    "}\n",
    "grid = GridSearchCV(RandomForestRegressor(), param_grid, verbose=2, refit=True, n_jobs=-1)\n",
    "grid.fit(x, y)"
   ]
  },
  {
   "cell_type": "code",
   "execution_count": 1253,
   "id": "disturbed-matthew",
   "metadata": {},
   "outputs": [
    {
     "name": "stdout",
     "output_type": "stream",
     "text": [
      "{'bootstrap': True, 'max_depth': None, 'max_features': 'auto', 'min_samples_leaf': 2, 'min_samples_split': 2, 'n_estimators': 1500}\n"
     ]
    }
   ],
   "source": [
    "print(grid.best_params_)"
   ]
  },
  {
   "cell_type": "code",
   "execution_count": 1254,
   "id": "arranged-winning",
   "metadata": {},
   "outputs": [],
   "source": [
    "rfr = RandomForestRegressor(bootstrap=grid.best_params_['bootstrap'], max_features=grid.best_params_['max_features'], min_samples_leaf=grid.best_params_['min_samples_leaf'], min_samples_split=grid.best_params_['min_samples_split'], n_estimators=grid.best_params_['n_estimators'])"
   ]
  },
  {
   "cell_type": "code",
   "execution_count": 1255,
   "id": "deluxe-leisure",
   "metadata": {},
   "outputs": [
    {
     "data": {
      "text/plain": [
       "RandomForestRegressor(min_samples_leaf=2, n_estimators=1500)"
      ]
     },
     "execution_count": 1255,
     "metadata": {},
     "output_type": "execute_result"
    }
   ],
   "source": [
    "rfr.fit(x, y)"
   ]
  },
  {
   "cell_type": "code",
   "execution_count": 1256,
   "id": "interesting-focus",
   "metadata": {},
   "outputs": [],
   "source": [
    "rfr_results = rfr.predict(X_scaled_test)"
   ]
  },
  {
   "cell_type": "code",
   "execution_count": 1257,
   "id": "adjustable-secondary",
   "metadata": {},
   "outputs": [
    {
     "data": {
      "text/plain": [
       "0.7876792080864949"
      ]
     },
     "execution_count": 1257,
     "metadata": {},
     "output_type": "execute_result"
    }
   ],
   "source": [
    "r2_score(rfr_results, y_scaled_test)"
   ]
  },
  {
   "cell_type": "code",
   "execution_count": 1258,
   "id": "compound-ebony",
   "metadata": {},
   "outputs": [
    {
     "data": {
      "text/plain": [
       "0.16482595955083104"
      ]
     },
     "execution_count": 1258,
     "metadata": {},
     "output_type": "execute_result"
    }
   ],
   "source": [
    "mean_squared_error(rfr_results, y_scaled_test)"
   ]
  },
  {
   "cell_type": "code",
   "execution_count": 1259,
   "id": "completed-artwork",
   "metadata": {},
   "outputs": [
    {
     "data": {
      "text/html": [
       "<div>\n",
       "<style scoped>\n",
       "    .dataframe tbody tr th:only-of-type {\n",
       "        vertical-align: middle;\n",
       "    }\n",
       "\n",
       "    .dataframe tbody tr th {\n",
       "        vertical-align: top;\n",
       "    }\n",
       "\n",
       "    .dataframe thead th {\n",
       "        text-align: right;\n",
       "    }\n",
       "</style>\n",
       "<table border=\"1\" class=\"dataframe\">\n",
       "  <thead>\n",
       "    <tr style=\"text-align: right;\">\n",
       "      <th></th>\n",
       "      <th>prediction</th>\n",
       "      <th>real</th>\n",
       "    </tr>\n",
       "  </thead>\n",
       "  <tbody>\n",
       "    <tr>\n",
       "      <th>0</th>\n",
       "      <td>0.465604</td>\n",
       "      <td>0.734979</td>\n",
       "    </tr>\n",
       "    <tr>\n",
       "      <th>1</th>\n",
       "      <td>1.155672</td>\n",
       "      <td>1.081740</td>\n",
       "    </tr>\n",
       "    <tr>\n",
       "      <th>2</th>\n",
       "      <td>0.511950</td>\n",
       "      <td>1.152544</td>\n",
       "    </tr>\n",
       "    <tr>\n",
       "      <th>3</th>\n",
       "      <td>1.068799</td>\n",
       "      <td>1.310493</td>\n",
       "    </tr>\n",
       "    <tr>\n",
       "      <th>4</th>\n",
       "      <td>-0.203519</td>\n",
       "      <td>0.371878</td>\n",
       "    </tr>\n",
       "    <tr>\n",
       "      <th>5</th>\n",
       "      <td>1.275914</td>\n",
       "      <td>1.107157</td>\n",
       "    </tr>\n",
       "    <tr>\n",
       "      <th>6</th>\n",
       "      <td>1.297659</td>\n",
       "      <td>1.533800</td>\n",
       "    </tr>\n",
       "    <tr>\n",
       "      <th>7</th>\n",
       "      <td>-0.796231</td>\n",
       "      <td>-0.826354</td>\n",
       "    </tr>\n",
       "    <tr>\n",
       "      <th>8</th>\n",
       "      <td>-1.034967</td>\n",
       "      <td>-1.116835</td>\n",
       "    </tr>\n",
       "    <tr>\n",
       "      <th>9</th>\n",
       "      <td>-1.023911</td>\n",
       "      <td>-1.062370</td>\n",
       "    </tr>\n",
       "    <tr>\n",
       "      <th>10</th>\n",
       "      <td>-1.080893</td>\n",
       "      <td>-1.066001</td>\n",
       "    </tr>\n",
       "    <tr>\n",
       "      <th>11</th>\n",
       "      <td>-0.105643</td>\n",
       "      <td>-0.127386</td>\n",
       "    </tr>\n",
       "    <tr>\n",
       "      <th>12</th>\n",
       "      <td>0.917030</td>\n",
       "      <td>2.096606</td>\n",
       "    </tr>\n",
       "    <tr>\n",
       "      <th>13</th>\n",
       "      <td>-0.078351</td>\n",
       "      <td>-0.352508</td>\n",
       "    </tr>\n",
       "    <tr>\n",
       "      <th>14</th>\n",
       "      <td>1.704137</td>\n",
       "      <td>2.441552</td>\n",
       "    </tr>\n",
       "    <tr>\n",
       "      <th>15</th>\n",
       "      <td>-0.849595</td>\n",
       "      <td>-0.898975</td>\n",
       "    </tr>\n",
       "    <tr>\n",
       "      <th>16</th>\n",
       "      <td>0.213780</td>\n",
       "      <td>-0.263548</td>\n",
       "    </tr>\n",
       "    <tr>\n",
       "      <th>17</th>\n",
       "      <td>-0.917323</td>\n",
       "      <td>-0.998827</td>\n",
       "    </tr>\n",
       "    <tr>\n",
       "      <th>18</th>\n",
       "      <td>-0.553706</td>\n",
       "      <td>-0.515903</td>\n",
       "    </tr>\n",
       "    <tr>\n",
       "      <th>19</th>\n",
       "      <td>-0.526014</td>\n",
       "      <td>-0.805476</td>\n",
       "    </tr>\n",
       "    <tr>\n",
       "      <th>20</th>\n",
       "      <td>-0.440503</td>\n",
       "      <td>-0.690192</td>\n",
       "    </tr>\n",
       "    <tr>\n",
       "      <th>21</th>\n",
       "      <td>-0.701493</td>\n",
       "      <td>-0.776428</td>\n",
       "    </tr>\n",
       "    <tr>\n",
       "      <th>22</th>\n",
       "      <td>-0.992408</td>\n",
       "      <td>-1.053292</td>\n",
       "    </tr>\n",
       "    <tr>\n",
       "      <th>23</th>\n",
       "      <td>-0.772475</td>\n",
       "      <td>-0.842694</td>\n",
       "    </tr>\n",
       "    <tr>\n",
       "      <th>24</th>\n",
       "      <td>-0.502851</td>\n",
       "      <td>-0.498656</td>\n",
       "    </tr>\n",
       "  </tbody>\n",
       "</table>\n",
       "</div>"
      ],
      "text/plain": [
       "    prediction      real\n",
       "0     0.465604  0.734979\n",
       "1     1.155672  1.081740\n",
       "2     0.511950  1.152544\n",
       "3     1.068799  1.310493\n",
       "4    -0.203519  0.371878\n",
       "5     1.275914  1.107157\n",
       "6     1.297659  1.533800\n",
       "7    -0.796231 -0.826354\n",
       "8    -1.034967 -1.116835\n",
       "9    -1.023911 -1.062370\n",
       "10   -1.080893 -1.066001\n",
       "11   -0.105643 -0.127386\n",
       "12    0.917030  2.096606\n",
       "13   -0.078351 -0.352508\n",
       "14    1.704137  2.441552\n",
       "15   -0.849595 -0.898975\n",
       "16    0.213780 -0.263548\n",
       "17   -0.917323 -0.998827\n",
       "18   -0.553706 -0.515903\n",
       "19   -0.526014 -0.805476\n",
       "20   -0.440503 -0.690192\n",
       "21   -0.701493 -0.776428\n",
       "22   -0.992408 -1.053292\n",
       "23   -0.772475 -0.842694\n",
       "24   -0.502851 -0.498656"
      ]
     },
     "execution_count": 1259,
     "metadata": {},
     "output_type": "execute_result"
    }
   ],
   "source": [
    "sample_match(rfr_results[:25], y_scaled_test[:25], False)"
   ]
  },
  {
   "cell_type": "code",
   "execution_count": null,
   "id": "expressed-bruce",
   "metadata": {},
   "outputs": [],
   "source": []
  }
 ],
 "metadata": {
  "kernelspec": {
   "display_name": "Python 3",
   "language": "python",
   "name": "python3"
  },
  "language_info": {
   "codemirror_mode": {
    "name": "ipython",
    "version": 3
   },
   "file_extension": ".py",
   "mimetype": "text/x-python",
   "name": "python",
   "nbconvert_exporter": "python",
   "pygments_lexer": "ipython3",
   "version": "3.8.5"
  }
 },
 "nbformat": 4,
 "nbformat_minor": 5
}
