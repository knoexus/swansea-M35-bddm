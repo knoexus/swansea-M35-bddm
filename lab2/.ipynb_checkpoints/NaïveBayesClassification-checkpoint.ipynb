{
 "cells": [
  {
   "cell_type": "markdown",
   "id": "basic-chassis",
   "metadata": {},
   "source": [
    "## 2023638 | Anton Dementyev | Lab Assignment 2"
   ]
  },
  {
   "cell_type": "code",
   "execution_count": 276,
   "id": "sacred-accuracy",
   "metadata": {},
   "outputs": [],
   "source": [
    "from sklearn import datasets\n",
    "import numpy as np\n",
    "import math"
   ]
  },
  {
   "cell_type": "code",
   "execution_count": 277,
   "id": "national-warrant",
   "metadata": {},
   "outputs": [],
   "source": [
    "iris = datasets.load_iris()"
   ]
  },
  {
   "cell_type": "code",
   "execution_count": 278,
   "id": "synthetic-south",
   "metadata": {},
   "outputs": [
    {
     "name": "stdout",
     "output_type": "stream",
     "text": [
      "Dims: X - (150, 4), Y - (150,)\n",
      "Samples: [5.1 3.5 1.4 0.2] 0\n",
      "3 unique categories are present\n",
      "4 features are present in each sample\n"
     ]
    }
   ],
   "source": [
    "print(f'Dims: X - {iris.data.shape}, Y - {iris.target.shape}')\n",
    "print('Samples:', iris.data[0], iris.target[0])\n",
    "num_categories = len(np.unique(iris.target))\n",
    "print(f'{num_categories} unique categories are present')\n",
    "num_features = iris.data.shape[1]\n",
    "print(f'{num_features} features are present in each sample')"
   ]
  },
  {
   "cell_type": "markdown",
   "id": "thousand-fourth",
   "metadata": {},
   "source": [
    "### Cross Validation"
   ]
  },
  {
   "cell_type": "code",
   "execution_count": 279,
   "id": "particular-provision",
   "metadata": {},
   "outputs": [],
   "source": [
    "X_train, Y_train, X_test, Y_test = [], [], [], []\n",
    "for i in range(len(iris.data)):\n",
    "    if i % 40 >= 0 and i % 50 < 10:\n",
    "        X_test.append(iris.data[i])\n",
    "        Y_test.append(iris.target[i])\n",
    "    else:\n",
    "        X_train.append(iris.data[i])\n",
    "        Y_train.append(iris.target[i])"
   ]
  },
  {
   "cell_type": "markdown",
   "id": "differential-leadership",
   "metadata": {},
   "source": [
    "### Likelihood"
   ]
  },
  {
   "cell_type": "code",
   "execution_count": 280,
   "id": "fifth-dealing",
   "metadata": {},
   "outputs": [
    {
     "name": "stdout",
     "output_type": "stream",
     "text": [
      "{0: {'means': [5.0425, 3.4574999999999996, 1.4649999999999994, 0.2525], 'stds': [0.35558929961403507, 0.38787079034131977, 0.18513508581573615, 0.10951598056904757]}, 1: {'means': [5.894999999999999, 2.7449999999999997, 4.2325, 1.3124999999999998], 'stds': [0.4460661385938188, 0.3024483426967323, 0.46172908723622785, 0.20147890708458788]}, 2: {'means': [6.592500000000001, 2.982499999999999, 5.497499999999999, 2.0224999999999995], 'stds': [0.5913490931759346, 0.3185023547793643, 0.5265394097311237, 0.27063582541858716]}}\n"
     ]
    }
   ],
   "source": [
    "obj = {}\n",
    "for i in range(num_categories):\n",
    "    obj[i] = {'means': [], 'stds': []}\n",
    "cat_length = len(X_train) / num_categories\n",
    "\n",
    "for k in range(num_categories):\n",
    "    slc = X_train[int(k * cat_length) : int((k+1) * cat_length)]\n",
    "    for i in range(num_features):\n",
    "        mean = sum([x[i] for x in slc]) / cat_length\n",
    "        obj[k]['means'].append(mean)\n",
    "    for i in range(num_features):\n",
    "        mean = obj[k]['means'][i]\n",
    "        obj[k]['stds'].append(math.sqrt(sum([(x[i] - mean) ** 2 for x in slc]) / cat_length))\n",
    "    \n",
    "print(obj)"
   ]
  },
  {
   "cell_type": "code",
   "execution_count": 281,
   "id": "mounted-hypothetical",
   "metadata": {},
   "outputs": [],
   "source": [
    "# calculating probability density\n",
    "def likelihood(x, c):\n",
    "    mult = 1\n",
    "    for i in range(len(x)):\n",
    "        mean = obj[c]['means'][i]\n",
    "        std = obj[c]['stds'][i]\n",
    "        lh = 1 / (math.sqrt(2 * math.pi) * std) * math.exp(-0.5*(((x[i] - mean) ** 2) / (std ** 2)))\n",
    "        mult = mult * lh\n",
    "    return mult"
   ]
  },
  {
   "cell_type": "markdown",
   "id": "outside-professional",
   "metadata": {},
   "source": [
    "### Priori"
   ]
  },
  {
   "cell_type": "code",
   "execution_count": 282,
   "id": "dangerous-african",
   "metadata": {},
   "outputs": [],
   "source": [
    "# Since all categories are equal, the category priori probability is the same\n",
    "priori_c = 1 / num_categories"
   ]
  },
  {
   "cell_type": "markdown",
   "id": "surgical-creator",
   "metadata": {},
   "source": [
    "### Posterior"
   ]
  },
  {
   "cell_type": "code",
   "execution_count": 283,
   "id": "coupled-baptist",
   "metadata": {},
   "outputs": [],
   "source": [
    "priori_x = 1 / len(X_train)"
   ]
  },
  {
   "cell_type": "code",
   "execution_count": 284,
   "id": "british-knitting",
   "metadata": {},
   "outputs": [],
   "source": [
    "def posterior(x):\n",
    "    mx = (0, -1)\n",
    "    for i in range(num_categories):\n",
    "        inter = likelihood(x, i) * priori_c\n",
    "        if inter > mx[0]:\n",
    "            mx = (inter, i)\n",
    "    return (mx[0] / priori_x, mx[1])"
   ]
  },
  {
   "cell_type": "markdown",
   "id": "statistical-yellow",
   "metadata": {},
   "source": [
    "### Performance Evaluation"
   ]
  },
  {
   "cell_type": "code",
   "execution_count": 285,
   "id": "confirmed-portable",
   "metadata": {},
   "outputs": [],
   "source": [
    "def evaluate(X_test, Y_test):\n",
    "    correct = 0\n",
    "    for x, y in zip(X_test, Y_test):\n",
    "        if posterior(x)[1] == y:\n",
    "            correct = correct + 1\n",
    "    return correct / len(X_test)"
   ]
  },
  {
   "cell_type": "code",
   "execution_count": 286,
   "id": "coral-magnet",
   "metadata": {},
   "outputs": [
    {
     "name": "stdout",
     "output_type": "stream",
     "text": [
      "The classifier has reached 93.33333333333333% on the testing set\n"
     ]
    }
   ],
   "source": [
    "result = evaluate(X_test, Y_test)\n",
    "print(f'The classifier has reached {result*100}% on the testing set')"
   ]
  },
  {
   "cell_type": "markdown",
   "id": "liked-investigator",
   "metadata": {},
   "source": [
    "### Challenging Task"
   ]
  },
  {
   "cell_type": "code",
   "execution_count": null,
   "id": "tribal-insight",
   "metadata": {},
   "outputs": [],
   "source": []
  }
 ],
 "metadata": {
  "kernelspec": {
   "display_name": "Python 3",
   "language": "python",
   "name": "python3"
  },
  "language_info": {
   "codemirror_mode": {
    "name": "ipython",
    "version": 3
   },
   "file_extension": ".py",
   "mimetype": "text/x-python",
   "name": "python",
   "nbconvert_exporter": "python",
   "pygments_lexer": "ipython3",
   "version": "3.8.5"
  }
 },
 "nbformat": 4,
 "nbformat_minor": 5
}
