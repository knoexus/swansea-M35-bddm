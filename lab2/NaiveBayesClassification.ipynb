{
 "cells": [
  {
   "cell_type": "markdown",
   "id": "resident-reunion",
   "metadata": {},
   "source": [
    "## 2023638 | Anton Dementyev | Lab Assignment 2"
   ]
  },
  {
   "cell_type": "code",
   "execution_count": 311,
   "id": "conscious-anaheim",
   "metadata": {},
   "outputs": [],
   "source": [
    "from sklearn import datasets\n",
    "import numpy as np\n",
    "import math\n",
    "import matplotlib.pyplot as plt\n",
    "import pprint"
   ]
  },
  {
   "cell_type": "code",
   "execution_count": 312,
   "id": "advanced-journey",
   "metadata": {},
   "outputs": [],
   "source": [
    "iris = datasets.load_iris()"
   ]
  },
  {
   "cell_type": "code",
   "execution_count": 313,
   "id": "dated-oxide",
   "metadata": {},
   "outputs": [
    {
     "name": "stdout",
     "output_type": "stream",
     "text": [
      "Description\n",
      "\n",
      "Dims: X - (150, 4), Y - (150,)\n",
      "Samples: [5.1 3.5 1.4 0.2] 0\n",
      "3 unique categories are present\n",
      "4 features are present in each sample\n"
     ]
    }
   ],
   "source": [
    "print('Description' + '\\n')\n",
    "print(f'Dims: X - {iris.data.shape}, Y - {iris.target.shape}')\n",
    "print('Samples:', iris.data[0], iris.target[0])\n",
    "num_categories = len(np.unique(iris.target))\n",
    "print(f'{num_categories} unique categories are present')\n",
    "num_features = iris.data.shape[1]\n",
    "print(f'{num_features} features are present in each sample')"
   ]
  },
  {
   "cell_type": "markdown",
   "id": "varying-triangle",
   "metadata": {},
   "source": [
    "### Cross Validation"
   ]
  },
  {
   "cell_type": "code",
   "execution_count": 314,
   "id": "timely-fundamentals",
   "metadata": {},
   "outputs": [
    {
     "name": "stdout",
     "output_type": "stream",
     "text": [
      "lengths: 120 - train, 30 - test\n"
     ]
    }
   ],
   "source": [
    "# Splitting the data right away. For each of the 3 categories, the first 40 go to training data, the remaining 10 - to testing.\n",
    "X_train, Y_train, X_test, Y_test = [], [], [], []\n",
    "for i in range(len(iris.data)):\n",
    "    if i % 40 >= 0 and i % 50 < 10:\n",
    "        X_test.append(iris.data[i])\n",
    "        Y_test.append(iris.target[i])\n",
    "    else:\n",
    "        X_train.append(iris.data[i])\n",
    "        Y_train.append(iris.target[i])\n",
    "print(f'lengths: {len(X_train)} - train, {len(X_test)} - test')"
   ]
  },
  {
   "cell_type": "markdown",
   "id": "abroad-editor",
   "metadata": {},
   "source": [
    "### Likelihood"
   ]
  },
  {
   "cell_type": "code",
   "execution_count": 315,
   "id": "mexican-award",
   "metadata": {},
   "outputs": [
    {
     "name": "stdout",
     "output_type": "stream",
     "text": [
      "{0: {'means': [5.0425, 3.4574999999999996, 1.4649999999999994, 0.2525],\n",
      "     'stds': [0.35558929961403507,\n",
      "              0.38787079034131977,\n",
      "              0.18513508581573615,\n",
      "              0.10951598056904757]},\n",
      " 1: {'means': [5.894999999999999,\n",
      "               2.7449999999999997,\n",
      "               4.2325,\n",
      "               1.3124999999999998],\n",
      "     'stds': [0.4460661385938188,\n",
      "              0.3024483426967323,\n",
      "              0.46172908723622785,\n",
      "              0.20147890708458788]},\n",
      " 2: {'means': [6.592500000000001,\n",
      "               2.982499999999999,\n",
      "               5.497499999999999,\n",
      "               2.0224999999999995],\n",
      "     'stds': [0.5913490931759346,\n",
      "              0.3185023547793643,\n",
      "              0.5265394097311237,\n",
      "              0.27063582541858716]}}\n"
     ]
    }
   ],
   "source": [
    "# accumulating means and standard deviations\n",
    "obj = {}\n",
    "for i in range(num_categories):\n",
    "    obj[i] = {'means': [], 'stds': []}\n",
    "cat_length = int(len(X_train) / num_categories)\n",
    "\n",
    "# calculating means and standard deviations for each category and for each sample feature\n",
    "for k in range(num_categories):\n",
    "    slc = X_train[int(k * cat_length) : int((k+1) * cat_length)]\n",
    "    for i in range(num_features):\n",
    "        # mean\n",
    "        mean = sum([x[i] for x in slc]) / cat_length\n",
    "        obj[k]['means'].append(mean) \n",
    "    for i in range(num_features):\n",
    "        mean = obj[k]['means'][i]\n",
    "        # std\n",
    "        obj[k]['stds'].append(math.sqrt(sum([(x[i] - mean) ** 2 for x in slc]) / cat_length))\n",
    "    \n",
    "pprint.pprint(obj)"
   ]
  },
  {
   "cell_type": "code",
   "execution_count": 316,
   "id": "sufficient-version",
   "metadata": {},
   "outputs": [],
   "source": [
    "# calculating density\n",
    "def likelihood(x, feature, c):\n",
    "    mean = obj[c]['means'][feature]\n",
    "    std = obj[c]['stds'][feature]\n",
    "    return 1 / (math.sqrt(2 * math.pi) * std) * math.exp(-0.5*(((x[feature] - mean) ** 2) / (std ** 2)))\n",
    "\n",
    "# likelihood for each feature of a category: P(X|C(i))\n",
    "def pxc(x, c):\n",
    "    mult = 1\n",
    "    for feature in range(len(x)):\n",
    "        mult = mult * likelihood(x, feature, c)\n",
    "    return mult"
   ]
  },
  {
   "cell_type": "code",
   "execution_count": 317,
   "id": "frank-instrument",
   "metadata": {},
   "outputs": [
    {
     "name": "stdout",
     "output_type": "stream",
     "text": [
      "0.7758643195070464\n",
      "1.28827472050413\n",
      "0.6010720427395932\n"
     ]
    }
   ],
   "source": [
    "# testing, values above 1 are fine, since this is a density func\n",
    "print(pxc(X_train[22], 0))\n",
    "print(pxc(X_train[62], 1))\n",
    "print(pxc(X_train[102], 2))"
   ]
  },
  {
   "cell_type": "markdown",
   "id": "municipal-fabric",
   "metadata": {},
   "source": [
    "### Priori"
   ]
  },
  {
   "cell_type": "code",
   "execution_count": 318,
   "id": "necessary-dragon",
   "metadata": {},
   "outputs": [],
   "source": [
    "# Since all categories are equal, the category priori probability is the same\n",
    "priori_c = 1 / num_categories"
   ]
  },
  {
   "cell_type": "code",
   "execution_count": 319,
   "id": "alone-programming",
   "metadata": {},
   "outputs": [
    {
     "name": "stdout",
     "output_type": "stream",
     "text": [
      "0.3333333333333333\n"
     ]
    }
   ],
   "source": [
    "print(priori_c)"
   ]
  },
  {
   "cell_type": "markdown",
   "id": "multiple-india",
   "metadata": {},
   "source": [
    "### Posterior"
   ]
  },
  {
   "cell_type": "code",
   "execution_count": 320,
   "id": "encouraging-suite",
   "metadata": {},
   "outputs": [],
   "source": [
    "px = num_categories / len(X_train)"
   ]
  },
  {
   "cell_type": "code",
   "execution_count": 321,
   "id": "third-haiti",
   "metadata": {},
   "outputs": [
    {
     "name": "stdout",
     "output_type": "stream",
     "text": [
      "0.025\n"
     ]
    }
   ],
   "source": [
    "print(px)"
   ]
  },
  {
   "cell_type": "code",
   "execution_count": 322,
   "id": "respected-supply",
   "metadata": {},
   "outputs": [],
   "source": [
    "# Finding the max across all categories to classify the sample x\n",
    "def posterior(x):\n",
    "    mx = (0, -1)\n",
    "    for c in range(num_categories):\n",
    "        inter = pxc(x, c) * priori_c\n",
    "        if inter > mx[0]:\n",
    "            mx = (inter, c)\n",
    "    return (mx[0] / px, mx[1])"
   ]
  },
  {
   "cell_type": "markdown",
   "id": "joint-stewart",
   "metadata": {},
   "source": [
    "### Performance Evaluation"
   ]
  },
  {
   "cell_type": "code",
   "execution_count": 323,
   "id": "practical-acrylic",
   "metadata": {},
   "outputs": [],
   "source": [
    "# Simple evalutation function\n",
    "def evaluate(X_test, Y_test):\n",
    "    correct = 0\n",
    "    for x, y in zip(X_test, Y_test):\n",
    "        if posterior(x)[1] == y:\n",
    "            correct = correct + 1\n",
    "    return correct / len(X_test)"
   ]
  },
  {
   "cell_type": "code",
   "execution_count": 324,
   "id": "liquid-cigarette",
   "metadata": {},
   "outputs": [
    {
     "name": "stdout",
     "output_type": "stream",
     "text": [
      "The classifier has reached 93.33% on the testing set\n"
     ]
    }
   ],
   "source": [
    "result = evaluate(X_test, Y_test)\n",
    "print(f'The classifier has reached {\"{:.2f}\".format(result*100)}% on the testing set')"
   ]
  },
  {
   "cell_type": "markdown",
   "id": "reserved-disaster",
   "metadata": {},
   "source": [
    "### Challenging Task"
   ]
  },
  {
   "cell_type": "code",
   "execution_count": 325,
   "id": "placed-hawaii",
   "metadata": {},
   "outputs": [],
   "source": [
    "# getting a category based on the prior probabily\n",
    "category = np.random.choice([i for i in range(num_categories)], 1, p=[priori_c for i in range(num_categories)])[0]\n",
    "# sampling @num_samples@ from a normal distribution, accounting the acquired prior distribution stats\n",
    "num_samples = cat_length\n",
    "sp = np.array([])\n",
    "for feature in range(num_features):\n",
    "    feature_d = np.array([[x] for x in np.random.normal(loc=obj[category]['means'][feature], scale=obj[category]['stds'][feature], size=num_samples)])\n",
    "    if feature == 0:\n",
    "        sp = feature_d\n",
    "    else:\n",
    "        sp = np.hstack((sp, feature_d))"
   ]
  },
  {
   "cell_type": "code",
   "execution_count": 326,
   "id": "radio-sending",
   "metadata": {},
   "outputs": [
    {
     "name": "stdout",
     "output_type": "stream",
     "text": [
      "The classifier has reached 100.00% on the sampled set\n"
     ]
    }
   ],
   "source": [
    "eval_sampled = evaluate(sp, [category for x in sp])\n",
    "print(f'The classifier has reached {\"{:.2f}\".format(eval_sampled*100)}% on the sampled set')"
   ]
  },
  {
   "cell_type": "code",
   "execution_count": 327,
   "id": "brutal-pressing",
   "metadata": {},
   "outputs": [],
   "source": [
    "iris_names = {\n",
    "    0: 'Iris setosa',\n",
    "    1: 'Iris virginica',\n",
    "    2: 'Iris versicolor'\n",
    "}"
   ]
  },
  {
   "cell_type": "code",
   "execution_count": 328,
   "id": "accessory-solomon",
   "metadata": {},
   "outputs": [
    {
     "data": {
      "text/plain": [
       "<matplotlib.collections.PathCollection at 0x7f8c5df419d0>"
      ]
     },
     "execution_count": 328,
     "metadata": {},
     "output_type": "execute_result"
    },
    {
     "data": {
      "image/png": "[encoded data removed]",
      "text/plain": [
       "<Figure size 432x288 with 1 Axes>"
      ]
     },
     "metadata": {
      "needs_background": "light"
     },
     "output_type": "display_data"
    }
   ],
   "source": [
    "plt.title(f'{iris_names[category]} - sampled observations vs real')\n",
    "plt.xlabel('Sepal length')\n",
    "plt.ylabel('Sepal width')\n",
    "plt.scatter(sp[:,0], sp[:,1])\n",
    "real = np.array(X_train[int(category * num_samples) : int((category+1) * num_samples)])\n",
    "\n",
    "plt.scatter(real[:,0], real[:,1], color='black')"
   ]
  },
  {
   "cell_type": "code",
   "execution_count": null,
   "id": "grave-alcohol",
   "metadata": {},
   "outputs": [],
   "source": []
  }
 ],
 "metadata": {
  "kernelspec": {
   "display_name": "Python 3",
   "language": "python",
   "name": "python3"
  },
  "language_info": {
   "codemirror_mode": {
    "name": "ipython",
    "version": 3
   },
   "file_extension": ".py",
   "mimetype": "text/x-python",
   "name": "python",
   "nbconvert_exporter": "python",
   "pygments_lexer": "ipython3",
   "version": "3.8.5"
  }
 },
 "nbformat": 4,
 "nbformat_minor": 5
}
