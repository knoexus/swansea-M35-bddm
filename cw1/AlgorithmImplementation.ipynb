{
 "cells": [
  {
   "cell_type": "code",
   "execution_count": 53,
   "metadata": {},
   "outputs": [],
   "source": [
    "import csv\n",
    "import datetime\n",
    "import math\n",
    "import numpy as np\n",
    "from itertools import chain, combinations"
   ]
  },
  {
   "cell_type": "markdown",
   "metadata": {},
   "source": [
    "### Basic I/O"
   ]
  },
  {
   "cell_type": "code",
   "execution_count": 54,
   "metadata": {},
   "outputs": [],
   "source": [
    "def read_file(filename):\n",
    "    ds = []\n",
    "    with open(filename, newline='') as csvfile:\n",
    "        filereader = csv.reader(csvfile, delimiter=',')\n",
    "        for row in filereader:\n",
    "            ds.append(tuple(sorted(row[:-1])))\n",
    "        return ds"
   ]
  },
  {
   "cell_type": "code",
   "execution_count": 55,
   "metadata": {},
   "outputs": [
    {
     "name": "stdout",
     "output_type": "stream",
     "text": [
      "[('Butter', 'Cheese', 'Coffee Powder', 'Ghee', 'Lassi', 'Yougurt'), ('Coffee Powder', 'Ghee'), ('Butter', 'Cheese', 'Lassi', 'Tea Powder'), ('Bread', 'Butter', 'Cheese', 'Coffee Powder', 'Panner', 'Tea Powder'), ('Butter', 'Cheese', 'Coffee Powder', 'Sugar', 'Sweet', 'Yougurt')]\n"
     ]
    }
   ],
   "source": [
    "read = read_file('GroceryStore.csv')[:5]\n",
    "print(read)"
   ]
  },
  {
   "cell_type": "code",
   "execution_count": 56,
   "metadata": {},
   "outputs": [],
   "source": [
    "def write_file(data, filename):\n",
    "    with open(filename, 'w', newline='') as csvfile:\n",
    "        filewriter = csv.writer(csvfile, delimiter=',')\n",
    "        for row in data:\n",
    "            filewriter.writerow(row)"
   ]
  },
  {
   "cell_type": "markdown",
   "metadata": {},
   "source": [
    "### Apriori Algorithm"
   ]
  },
  {
   "cell_type": "code",
   "execution_count": 57,
   "metadata": {},
   "outputs": [],
   "source": [
    "def calculate_support_count(instance, data, is_set):\n",
    "    count = 0\n",
    "    if is_set:\n",
    "        for row in data:\n",
    "            if set(instance).issubset(set(row)): \n",
    "                count = count + 1\n",
    "    else:\n",
    "        for row in data:\n",
    "            if instance in row:\n",
    "                count = count + 1\n",
    "    return count"
   ]
  },
  {
   "cell_type": "code",
   "execution_count": 58,
   "metadata": {},
   "outputs": [],
   "source": [
    "def support_elimination(data, items, minimal_support):\n",
    "    lgtn = len(data)\n",
    "    dct = {}\n",
    "    if isinstance(items, set): \n",
    "        for i in items:\n",
    "            support_count = calculate_support_count(i, data, True)\n",
    "            dct[i] = support_count / lgtn\n",
    "    else: \n",
    "        for i in items:\n",
    "            support_count = calculate_support_count(i, data, False)\n",
    "            dct[i] = support_count / lgtn\n",
    "    support_resistant = []\n",
    "    for key in dct:\n",
    "        if dct[key] >= minimal_support:\n",
    "            support_resistant.append(key)\n",
    "    return support_resistant"
   ]
  },
  {
   "cell_type": "code",
   "execution_count": 59,
   "metadata": {},
   "outputs": [],
   "source": [
    "def find_unique_level_one(data):\n",
    "    dct = {}\n",
    "    for y in data:\n",
    "        for x in y:\n",
    "            dct[x] = x\n",
    "    return tuple(sorted([i for i in dct]))"
   ]
  },
  {
   "cell_type": "code",
   "execution_count": 60,
   "metadata": {},
   "outputs": [
    {
     "data": {
      "text/plain": [
       "['Bread',\n",
       " 'Butter',\n",
       " 'Cheese',\n",
       " 'Coffee Powder',\n",
       " 'Ghee',\n",
       " 'Lassi',\n",
       " 'Milk',\n",
       " 'Panner',\n",
       " 'Sugar',\n",
       " 'Sweet',\n",
       " 'Tea Powder',\n",
       " 'Yougurt']"
      ]
     },
     "execution_count": 60,
     "metadata": {},
     "output_type": "execute_result"
    }
   ],
   "source": [
    "data = read_file('GroceryStore.csv')\n",
    "unique = find_unique_level_one(data)\n",
    "support_elimination(data, unique, 0.4)"
   ]
  },
  {
   "cell_type": "code",
   "execution_count": 61,
   "metadata": {},
   "outputs": [],
   "source": [
    "def generate_candidates_fk1_1(previous_step_f_itemset, step_one_f_itemset):\n",
    "    lst = []\n",
    "    if isinstance(previous_step_f_itemset[0], list) or isinstance(previous_step_f_itemset[0], tuple): \n",
    "        for i in previous_step_f_itemset:\n",
    "            for k in step_one_f_itemset:\n",
    "                if k not in i:\n",
    "                    lst.append(tuple(sorted([*i, k])))\n",
    "    else:\n",
    "        for i in previous_step_f_itemset:\n",
    "            for k in step_one_f_itemset:\n",
    "                if k != i:\n",
    "                    lst.append(tuple(sorted((i, k))))\n",
    "    return set(lst)"
   ]
  },
  {
   "cell_type": "code",
   "execution_count": 62,
   "metadata": {},
   "outputs": [
    {
     "data": {
      "text/plain": [
       "{('Bread', 'Butter'),\n",
       " ('Bread', 'Cheese'),\n",
       " ('Bread', 'Coffee Powder'),\n",
       " ('Bread', 'Ghee'),\n",
       " ('Bread', 'Lassi'),\n",
       " ('Bread', 'Milk'),\n",
       " ('Bread', 'Panner'),\n",
       " ('Bread', 'Sugar'),\n",
       " ('Bread', 'Sweet'),\n",
       " ('Bread', 'Tea Powder'),\n",
       " ('Bread', 'Yougurt'),\n",
       " ('Butter', 'Cheese'),\n",
       " ('Butter', 'Coffee Powder'),\n",
       " ('Butter', 'Ghee'),\n",
       " ('Butter', 'Lassi'),\n",
       " ('Butter', 'Milk'),\n",
       " ('Butter', 'Panner'),\n",
       " ('Butter', 'Sugar'),\n",
       " ('Butter', 'Sweet'),\n",
       " ('Butter', 'Tea Powder'),\n",
       " ('Butter', 'Yougurt'),\n",
       " ('Cheese', 'Coffee Powder'),\n",
       " ('Cheese', 'Ghee'),\n",
       " ('Cheese', 'Lassi'),\n",
       " ('Cheese', 'Milk'),\n",
       " ('Cheese', 'Panner'),\n",
       " ('Cheese', 'Sugar'),\n",
       " ('Cheese', 'Sweet'),\n",
       " ('Cheese', 'Tea Powder'),\n",
       " ('Cheese', 'Yougurt'),\n",
       " ('Coffee Powder', 'Ghee'),\n",
       " ('Coffee Powder', 'Lassi'),\n",
       " ('Coffee Powder', 'Milk'),\n",
       " ('Coffee Powder', 'Panner'),\n",
       " ('Coffee Powder', 'Sugar'),\n",
       " ('Coffee Powder', 'Sweet'),\n",
       " ('Coffee Powder', 'Tea Powder'),\n",
       " ('Coffee Powder', 'Yougurt'),\n",
       " ('Ghee', 'Lassi'),\n",
       " ('Ghee', 'Milk'),\n",
       " ('Ghee', 'Panner'),\n",
       " ('Ghee', 'Sugar'),\n",
       " ('Ghee', 'Sweet'),\n",
       " ('Ghee', 'Tea Powder'),\n",
       " ('Ghee', 'Yougurt'),\n",
       " ('Lassi', 'Milk'),\n",
       " ('Lassi', 'Panner'),\n",
       " ('Lassi', 'Sugar'),\n",
       " ('Lassi', 'Sweet'),\n",
       " ('Lassi', 'Tea Powder'),\n",
       " ('Lassi', 'Yougurt'),\n",
       " ('Milk', 'Panner'),\n",
       " ('Milk', 'Sugar'),\n",
       " ('Milk', 'Sweet'),\n",
       " ('Milk', 'Tea Powder'),\n",
       " ('Milk', 'Yougurt'),\n",
       " ('Panner', 'Sugar'),\n",
       " ('Panner', 'Sweet'),\n",
       " ('Panner', 'Tea Powder'),\n",
       " ('Panner', 'Yougurt'),\n",
       " ('Sugar', 'Sweet'),\n",
       " ('Sugar', 'Tea Powder'),\n",
       " ('Sugar', 'Yougurt'),\n",
       " ('Sweet', 'Tea Powder'),\n",
       " ('Sweet', 'Yougurt'),\n",
       " ('Tea Powder', 'Yougurt')}"
      ]
     },
     "execution_count": 62,
     "metadata": {},
     "output_type": "execute_result"
    }
   ],
   "source": [
    "generate_candidates_fk1_1(unique, unique)"
   ]
  },
  {
   "cell_type": "code",
   "execution_count": 63,
   "metadata": {},
   "outputs": [],
   "source": [
    "def apriori_algorigth(filename, max_length, min_support):\n",
    "    data = read_file(filename)\n",
    "    one_unique = find_unique_level_one(data)\n",
    "    el_one_unique = support_elimination(data, one_unique, min_support)\n",
    "    lim = 1\n",
    "    el_k_unique = el_one_unique\n",
    "    while(lim < max_length):\n",
    "        k_unique = generate_candidates_fk1_1(el_k_unique, el_one_unique)\n",
    "        el_k_unique = support_elimination(data, k_unique, min_support)\n",
    "        lim = lim + 1\n",
    "    return el_k_unique"
   ]
  },
  {
   "cell_type": "code",
   "execution_count": 64,
   "metadata": {},
   "outputs": [],
   "source": [
    "a = apriori_algorigth('GroceryStore.csv', max_length=4, min_support=0.048)"
   ]
  },
  {
   "cell_type": "code",
   "execution_count": 65,
   "metadata": {},
   "outputs": [],
   "source": [
    "write_file(a, f'Result-{datetime.datetime.now()}.csv')"
   ]
  },
  {
   "cell_type": "markdown",
   "metadata": {},
   "source": [
    "### Association Rule"
   ]
  },
  {
   "cell_type": "code",
   "execution_count": 69,
   "metadata": {},
   "outputs": [],
   "source": [
    "def association_rule_props(itemset, data):\n",
    "    T = len(data)\n",
    "    support_count_dict = {}\n",
    "    gen_dict = {}\n",
    "    for item in itemset:\n",
    "        if item not in support_count_dict:\n",
    "            support_count_dict[item] = calculate_support_count(item, data, True)\n",
    "        all_subsets = chain.from_iterable(combinations(item, i) for i in range(1, len(item)))\n",
    "        for a in all_subsets:\n",
    "            if a not in support_count_dict:\n",
    "                support_count_dict[a] = calculate_support_count(a, data, True)\n",
    "            diff = tuple(set(item).difference(set(a)))\n",
    "            if not (a, diff) in gen_dict:\n",
    "                gen_dict[(a, diff)] = {\n",
    "                    'support': support_count_dict[item] / T,\n",
    "                    'confidence': support_count_dict[item] / support_count_dict[a]\n",
    "                }\n",
    "    return gen_dict"
   ]
  },
  {
   "cell_type": "code",
   "execution_count": 70,
   "metadata": {},
   "outputs": [],
   "source": [
    "def association_rule(min_support, min_confidence, data_file_name, frequent_file_name):\n",
    "    data = read_file(data_file_name)\n",
    "    frequent = read_file(frequent_file_name)\n",
    "    characteristics = association_rule_props(frequent, data)\n",
    "    return {k: v for k, v in characteristics.items() if v['support'] >= min_support and v['confidence'] >= min_confidence}"
   ]
  },
  {
   "cell_type": "code",
   "execution_count": 71,
   "metadata": {},
   "outputs": [
    {
     "data": {
      "text/plain": [
       "{(('Lassi', 'Panner'), ('Sweet',)): {'support': 0.10098994092288041,\n",
       "  'confidence': 0.5066079295154186},\n",
       " (('Lassi', 'Sweet'), ('Panner',)): {'support': 0.10098994092288041,\n",
       "  'confidence': 0.49107142857142855},\n",
       " (('Panner', 'Sweet'), ('Lassi',)): {'support': 0.10098994092288041,\n",
       "  'confidence': 0.5049900199600799},\n",
       " (('Butter', 'Panner'), ('Ghee',)): {'support': 0.0971579115439885,\n",
       "  'confidence': 0.4901329037454692},\n",
       " (('Butter', 'Milk'), ('Sugar',)): {'support': 0.09875459045186014,\n",
       "  'confidence': 0.49658771577679645},\n",
       " (('Butter', 'Sweet'), ('Sugar',)): {'support': 0.0997125977965831,\n",
       "  'confidence': 0.4911521824616595},\n",
       " (('Sugar', 'Sweet'), ('Butter',)): {'support': 0.0997125977965831,\n",
       "  'confidence': 0.5006012024048097}}"
      ]
     },
     "execution_count": 71,
     "metadata": {},
     "output_type": "execute_result"
    }
   ],
   "source": [
    "min_support = 0.096\n",
    "min_confidence = 0.49\n",
    "association_rule(min_support, min_confidence, 'GroceryStore.csv', 'Result-2021-03-15 15:47:31.656068.csv')"
   ]
  },
  {
   "cell_type": "markdown",
   "metadata": {},
   "source": [
    "### FP-Growth Algorithm"
   ]
  },
  {
   "cell_type": "code",
   "execution_count": null,
   "metadata": {},
   "outputs": [],
   "source": []
  },
  {
   "cell_type": "markdown",
   "metadata": {},
   "source": [
    "### Experiment on the Dataset"
   ]
  },
  {
   "cell_type": "code",
   "execution_count": null,
   "metadata": {},
   "outputs": [],
   "source": []
  }
 ],
 "metadata": {
  "kernelspec": {
   "display_name": "Python 3",
   "language": "python",
   "name": "python3"
  },
  "language_info": {
   "codemirror_mode": {
    "name": "ipython",
    "version": 3
   },
   "file_extension": ".py",
   "mimetype": "text/x-python",
   "name": "python",
   "nbconvert_exporter": "python",
   "pygments_lexer": "ipython3",
   "version": "3.8.5"
  }
 },
 "nbformat": 4,
 "nbformat_minor": 4
}
